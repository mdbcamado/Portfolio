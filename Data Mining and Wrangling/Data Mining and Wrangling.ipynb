{
 "cells": [
  {
   "cell_type": "markdown",
   "id": "989b8f4e-7ab2-4263-b2cb-42d1b6cc2924",
   "metadata": {
    "id": "989b8f4e-7ab2-4263-b2cb-42d1b6cc2924",
    "tags": []
   },
   "source": [
    "#  &#x1F3B6; <span style=\"color: #503a99\"> **DISCOG RELEASES AND REDDIT REACTIONS: Analyzing Trends in Music Popularity** </span> "
   ]
  },
  {
   "cell_type": "markdown",
   "id": "41748540-51c4-414d-88a9-ecb505f0cde7",
   "metadata": {
    "id": "41748540-51c4-414d-88a9-ecb505f0cde7"
   },
   "source": [
    "<hr>\n",
    "\n",
    "###  <span style=\"color: #503a99\"> **ABSTRACT** </span>"
   ]
  },
  {
   "cell_type": "markdown",
   "id": "519a9d6f-9e09-43c2-b19c-43678fba0d6a",
   "metadata": {
    "id": "519a9d6f-9e09-43c2-b19c-43678fba0d6a"
   },
   "source": [
    "This report examines the connection between music data from Discogs and discussions on Reddit over three years (January 2020 to August 2022), aiming to uncover music trends that could help shape industry strategies. We looked at Discogs for the numbers on music releases and Reddit for what people are talking about.\n",
    "<br><br>\n",
    "Our approach involved organizing and cleaning up data from both sources, getting rid of any duplicates or irrelevant information. We then compared how often artists and their music are mentioned on Reddit with their popularity on Discogs, seeing mentions as a sign of popularity.\n",
    "<br><br>\n",
    "The study found that genres like Electronic and Rock are not only often released but also talked about a lot on Reddit. Legendary artists such as David Bowie and Elvis Presley remain hot topics, showing that sales aren't the only measure of success.\n",
    "<br><br>\n",
    "Recommendations for future research include enhancing matching capabilities through natural language processing (NLP) for a more nuanced identification of artists and album mentions. The report also suggests sentiment analysis to gauge qualitative aspects of music popularity, offering a layered understanding beyond mention counts. Exploring sentiments from video credits is proposed for a multimedia context. Lastly, a call for dynamic analysis of music trends over time, considering internal and external factors, aims to provide predictive insights into emerging trends.\n",
    "<br><br>\n",
    "These insights and recommendations lay the groundwork for future research, addressing limitations and paving the way for a more holistic understanding of music trends and discussions in the digital landscape.\n",
    "<br><br>\n",
    "We acknowledge that our study only looked at what's written and didn't consider the full range of user interactions. Despite this, the findings highlight the importance of social media in understanding what music is popular or what could potentially be a hit."
   ]
  },
  {
   "cell_type": "markdown",
   "id": "X9aminoeVAMP",
   "metadata": {
    "id": "X9aminoeVAMP"
   },
   "source": [
    "<hr>\n",
    "\n",
    "###  <span style=\"color: #503a99\"> **MOTIVATION** </span>"
   ]
  },
  {
   "cell_type": "markdown",
   "id": "t_Nh2WeKdfPw",
   "metadata": {
    "id": "t_Nh2WeKdfPw"
   },
   "source": [
    "\n",
    "Reddit stands out as a social media platform with over 50 million daily users who gather to share and discuss their passions. Its community-centric approach allows for rich, in-depth conversations, making it an ideal place for music lovers to discover and talk about new tunes. As a result, Reddit and similar platforms have become key for artists to connect with listeners worldwide, breaking through traditional barriers to bring music to a global stage.\n",
    "<br><br>\n",
    "The music industry is tapping into social media more than ever for marketing, with platforms like Reddit enabling creative and engaging campaigns. This digital presence is closely linked to an artist's success, often reflected in sales and streaming numbers.\n",
    "<br><br>\n",
    "The importance of social media in the music world is clear—it changes how music is experienced and shared, affecting all parts of the industry. Given the significant role of social media in shaping music industry trends, there is a need to investigate how online platforms, particularly Reddit with its diverse and active user base, influence music popularity.\n",
    "<br><br>\n",
    "\n",
    "**The aim is to understand the relationship between music releases on Discogs and the discussions they spark on Reddit to understand their influence on music popularity online.**"
   ]
  },
  {
   "cell_type": "markdown",
   "id": "82bbdad2-16f1-4b01-bebc-581e9571135c",
   "metadata": {
    "id": "82bbdad2-16f1-4b01-bebc-581e9571135c"
   },
   "source": [
    "<hr>\n",
    "\n",
    "###  <span style=\"color: #503a99\"> **DATASETS** </span>"
   ]
  },
  {
   "cell_type": "markdown",
   "id": "eff2a1b0-e758-4918-be1a-44a5263fcfa8",
   "metadata": {
    "id": "eff2a1b0-e758-4918-be1a-44a5263fcfa8"
   },
   "source": [
    "\n",
    "The datasets explored in this report consists of a comprehensive collection of posts and comments from Reddit's music-related subreddits and Discog's music releases data, covering a time frame from January 2020 to August 2022.\n",
    "\n",
    "<br>\n",
    "\n",
    "#### **Reddit Data Overview**\n",
    "\n",
    "This data consist of structured collection of information from Reddit, organized into three key areas: ***subreddit data***; ***submissions data***; and ***comments data***. These areas provide the basic information needed to understand how people use Reddit and interact with different topics over time. For this report, the focus will be on the topic of music.\n",
    "\n",
    "<br>\n",
    "\n",
    "***subreddit data***\n",
    "\n",
    "The *subreddit data* is a directory of Reddit's diverse communities, captured in CSV format. The data is extracted to obtain these core details:\n",
    "\n",
    "\n",
    "<center><b>Table 1. </b> Subreddit data</center>\n",
    "<center>\n",
    "\n",
    "  | <center>Column Name</center> | <center>Type</center> | <center>Description</center> |\n",
    "  |:--------------|:--------|:------------------------------------|\n",
    "  | subreddit_id    | TEXT  | Unique identifier                    |\n",
    "  | created_utc       | DATETIME  | Time of the data retrieval                 |\n",
    "  | display_name | TEXT  | display name of the subreddit           |\n",
    "\n",
    "</center>\n",
    "\n",
    "\n",
    "\n",
    "***submissions data***\n",
    "\n",
    "The *submissions data* contains detailed records of individual posts made by users in redit. The data is stored in JSON format and is processed to extract the following information:\n",
    "\n",
    "\n",
    "<center><b>Table 2. </b> Submission data</center>\n",
    "<center>\n",
    "\n",
    "  | <center>Column Name</center> | <center>Type</center> | <center>Description</center> |\n",
    "  |:--------------|:--------|:------------------------------------|\n",
    "  |id          | TEXT  | Unique identifier of the post|\n",
    "  | created_utc   | DATETIME  | Timestamp of post creation|\n",
    "  |  subreddit          | TEXT  | Subreddit name          |\n",
    "  | subreddit_id    | TEXT     | Unique identifier of the subreddit    |\n",
    "  | title          | TEXT  | Post title |\n",
    "  | selftext      | TEXT    | Post content  |\n",
    "  |  score          | INTEGER    | Upvotes Score   |\n",
    "  | num_comments       | INTEGER     | Number of Comments    |\n",
    "  | num_crossposts     | INTEGER  | Number of Cross-posted posts |\n",
    "  | retrieved_on       | DATETIME    | Retrieval Time Stamp  |\n",
    "\n",
    "</center>\n",
    "\n",
    "<br>\n",
    "\n",
    "***comments data***\n",
    "\n",
    "The *comments data* contains detailed records of comments made by users in redit. The data is stored in JSON format and is processed to extract the following information:\n",
    "\n",
    "<center><b>Table 3. </b> Comments data</center>\n",
    "\n",
    "<center>\n",
    "\n",
    "| <center>Column Name</center>        | <center>Data Type</center>  |\n",
    "|--------------------|------------|\n",
    "| id                 | TEXT       |\n",
    "| subreddit          | TEXT       |\n",
    "| subreddit_id       | TEXT       |\n",
    "| link_id            | TEXT       |\n",
    "| parent_id          | TEXT       |\n",
    "| author             | TEXT       |\n",
    "| body               | TEXT       |\n",
    "| controversiality   | BIGINT     |\n",
    "| score              | BIGINT     |\n",
    "| ups                | BIGINT     |\n",
    "| gilded             | BIGINT     |\n",
    "| distinguished      | TEXT       |\n",
    "| stickied           | BOOLEAN    |\n",
    "| edited             | BOOLEAN    |\n",
    "| created_utc        | DATETIME   |\n",
    "| retrieved_on       | DATETIME   |\n",
    "\n",
    "</center>\n",
    "\n",
    "<br>\n",
    "\n",
    "Each entry includes the unique identifier of the post (`id`), subreddit name (`subreddit`), the unique identifier of the subreddit (`subreddit_id`), submission's id (`link_id`), id of parent comment, (`parent_id`), author of comment (`author`), comment content (`body`), controversiality score (`controversiality`), total score for comment (`score`), upvotes (`ups`), gilded status of the content (`gilded`) distinguished status of the content (distinguished), stickied status of content (`stickied`), the timestamp of the post creation (`created_utc`), and the retrieval timestamp (`retrieved_on`).\n",
    "\n",
    "<br>\n",
    "<br>\n",
    "<hr>\n",
    "\n",
    "#### **Discogs Data Overview**\n",
    "\n",
    "The Discogs dataset was contributed by members of the global music community, it was derived from Discogs which is the world's largest online music database and marketplace for its physical releases.\n",
    "\n",
    "The dataset are in XML format, and contains 4 main XML's which are *Artist*, *Labels*, *Releases*, and *Masters*. These XML's have common information among them and can be linked by their main_release ids which is a unique integer value that is given for each song being released.\n",
    "\n",
    "<br>\n",
    "\n",
    "The contents of the mentioned XMLs are as follows:\n",
    "\n",
    "<br>\n",
    "\n",
    "***artists data***\n",
    "\n",
    "The artist dataset includes (`image`) which typically represents the cover\n",
    "art associated with a single or album release. , (`id`) is a unique identifier of the artist, the (`name`) parameter signifies the alias or a commonly known name of the artist, while (`realname`) denotes the artist's given name at birth. The 'profile' parameter holds a lot of information encompassing various aspects of the artist's musical career.\n",
    "\n",
    "Since Discogs relies on user contributions, the quality of data about a music release is crucial. The (`data_quality`) parameter serves as a rating system, allowing users to assess the accuracy and completeness of the information provided for a particular release. This feature ensures a reliable and comprehensive database, as users actively contribute to maintaining the integrity of music-related details, fostering a community-driven platform for music enthusiasts.\n",
    "\n",
    "The (`urls`) within the dataset includes links to the artist's social media accounts, when available and if not, may include links to other websites, such as Wikipedia or similar platforms, providing additional context and detailed information about the artist.\n",
    "\n",
    "(`namevariations`) refer to different ways an artist's name may be represented across various releases. These variations could include alternate spellings, abbreviations, or even different names or aliases that the artist may use. (`aliases`) also refers to alternative names or pseudonyms that artists use in addition to their primary or credited name.\n",
    "\n",
    "The (`groups`) contains the musical groups that the artist has been part of, if solo this would be treated as none.\n",
    "\n",
    "<center><b>Table 4. </b> Artists data</center>\n",
    "\n",
    "<center>\n",
    "\n",
    "| Column Name        | Data Type  |\n",
    "|--------------------|------------|\n",
    "| images             | XML-encoded image |\n",
    "| id                 | INTEGER   |\n",
    "| name               | TEXT    |\n",
    "| contactinfo        | TEXT    |\n",
    "| profile            | TEXT |\n",
    "| data_quality       | TEXT |\n",
    "| urls              | TEXT   |\n",
    "| namevariations     | TEXT    |\n",
    "| aliases     | TEXT    |\n",
    "| groups     | TEXT    |\n",
    "    \n",
    "</center>\n",
    "<br>\n",
    "<br>\n",
    "\n",
    "***labels data***\n",
    "\n",
    "In the Labels data of Discogs, you'll find information similar to that of artists, but with a focus on the record label itself. The (`images`) will contain the logo or other representations of associated with the record label. (`id`) in this regard will also be a unique designation, (`name`) contains the name of the label.\n",
    "\n",
    "The (`contactinfo`) contains the contact information of the label which usually includes the address, phone numbers, fax, and email.  While the (`profile`) is a textual description or biography of the label.\n",
    "\n",
    "(`data quality`) indicates the data quality or the measure of credibility of the label. Same as above (`urls`), contains a list of url's that are related to the label.\n",
    "\n",
    "(`sublabels`) will contain, if there is,  subgroups associated with the label.\n",
    "\n",
    "<center><b>Table 5. </b> Labels data</center>\n",
    "\n",
    "<center>\n",
    "    \n",
    "| Column Name        | Data Type  |\n",
    "|--------------------|------------|\n",
    "| images             | XML-encoded image |\n",
    "| id                 | INTEGER   |\n",
    "| name               | TEXT    |\n",
    "| contactinfo           | TEXT    |\n",
    "| profile              | TEXT |\n",
    "| data_quality           | TEXT |\n",
    "| urls              | TEXT   |\n",
    "| sublabels       | TEXT    |\n",
    "    \n",
    "</center>\n",
    "<br>\n",
    "<br>\n",
    "\n",
    "***releases data***\n",
    "\n",
    "The releases data contains a more comprehensive details regarding the song being registered in the discogs database.\n",
    "\n",
    "The (`image`) tag pertains to the cover art accompanying the release. The (`artists`) tag encompasses details like the (`id`) and (`name`) of the artist, while (`title`) denotes the release's title.\n",
    "\n",
    "Within (`labels`), you find information about the labels associated with the release, acknowledging the possibility of multiple labels collaborating on a single release. (`extraartists`) contains data on artists who may have collaborated with the main artist.\n",
    "\n",
    "The (`format`) tag identifies the medium used for releasing the music, be it a single or album.\n",
    "\n",
    "(`genres`) and (`styles`) indicate the genres and style of the released music. (`notes`) contains comments pertaining to the release, while (`country`) specifies the country of origin. The (`released`) date provides the exact release date of the music.\n",
    "\n",
    "(`data_quality`) indicates the data quality or the measure of credibility of the label. (`master_id`) represents another unique ID indicating the main release of a label. If the release is an album contents of which will be seen in the (`tracklist`), and other information that distinguished the release will be seen in the (`identifiers`). (`videos`) encompasses videos related to the release, offering visual content such as music videos or related media. On the other hand, (`companies`) provides information about specific companies involved in the release.\n",
    "\n",
    "<center><b>Table 6. </b> Releases data</center>\n",
    "\n",
    "<center>\n",
    "\n",
    "| Column Name        | Data Type  |\n",
    "|--------------------|------------|\n",
    "| images             | XML-encoded image |\n",
    "| artists                 | TEXT   |\n",
    "| title               | TEXT    |\n",
    "| labels           | TEXT    |\n",
    "| extraartists              | TEXT |\n",
    "| format           | TEXT |\n",
    "| genres              | TEXT   |\n",
    "| styles       | TEXT    |\n",
    "| country     | TEXT    |\n",
    "| released       | DATETIME   |\n",
    "| notes       | TEXT    |\n",
    "| data_quality       | TEXT    |\n",
    "| master_id     | INTEGER    |\n",
    "| tracklist       | TEXT   |\n",
    "| identifiers       | TEXT   |\n",
    "| videos       | TEXT   |\n",
    "| companies       | TEXT   |\n",
    "\n",
    "</center>\n",
    "<br>\n",
    "<br>\n",
    "\n",
    "***masters data***\n",
    "\n",
    "The masters data is a more of an abridged version of the releases data, it focuses on the  common information that is usually needed or provided by contributors. Contents of which can also be derived from the releases data.\n",
    "\n",
    "<center><b>Table 7. </b> Masters data</center>\n",
    "\n",
    "<center>\n",
    "\n",
    "| Column Name        | Data Type  |\n",
    "|--------------------|------------|\n",
    "| main_release       | INTEGER |\n",
    "| images             | TEXT   |\n",
    "| artist              | TEXT    |\n",
    "| genres              | TEXT    |\n",
    "| style              | TEXT |\n",
    "| year               | TEXT |\n",
    "| title              | INTEGER   |\n",
    "| data_quality       | TEXT    |\n",
    "| videos             | TEXT    |\n",
    "\n",
    "</center>\n",
    "<br>\n",
    "<br>"
   ]
  },
  {
   "cell_type": "markdown",
   "id": "972d0260-0d18-4f76-9d19-768c17133669",
   "metadata": {
    "id": "972d0260-0d18-4f76-9d19-768c17133669"
   },
   "source": [
    "<hr>\n",
    "\n",
    "###  <span style=\"color: #503a99\"> **METHODOLOGY** </span>"
   ]
  },
  {
   "cell_type": "markdown",
   "id": "40f859a2-475d-44d8-b7ca-d248ee689d15",
   "metadata": {
    "id": "40f859a2-475d-44d8-b7ca-d248ee689d15",
    "jp-MarkdownHeadingCollapsed": true,
    "tags": []
   },
   "source": [
    "#### **Data Preparation**\n",
    "\n",
    "The dataset preparation includes the utilization of existing Reddit and Discogs data retrieved from collections on the Jojie server, with a focus on content from January 2020 through August 2022. This three-year scope is selected to capture monthly trends emphasizing the analysis of the most current data available.\n",
    "<br><br>\n",
    "In data preparation, one essential aspect is grasping the data itself and identifying what is needed and what isn't necessary for the defined study. This helps reduce processing time and allows us to focus on extracting key data.\n",
    "\n",
    "Preparation of both datas underwent a separate procudere, the data preparation process includes the following steps:\n",
    "<br><br>\n",
    "\n",
    "\n",
    "***Data Preparation: Reddit Data***\n",
    "\n",
    "<br>\n",
    "\n",
    "**Extract Only Music-Related Subreddits**\n",
    "<br>\n",
    "\n",
    "Use an SQL query to select submissions from subreddits that are specifically related to music. The query filters the subreddits by their display names that include the term \"music\":\n",
    "\n",
    "```sql\n",
    "SELECT * FROM reddit_subreddits WHERE display_name LIKE '%music%'\n",
    "```\n",
    "\n",
    "This will serve as the reference table to filter out *submissions*.<br>\n",
    "Submissions with `title` [*deleted by user*] will also be ommited.\n",
    "```sql\n",
    "DELETE FROM reddit_submissions WHERE title = '[deleted by user]'\n",
    "```\n",
    "<br>\n",
    "<br>\n",
    "\n",
    "**Overwriting Duplicate Submissions with Unique Identifiers**\n",
    "<br>\n",
    "\n",
    "Submissions should be uniquely identified by their Reddit ID (`id` field).\n",
    "When a submission with the same ID is encountered again, it should overwrite the previous entry with the most recent data.\n",
    "This method ensures the dataset is free from duplicates and reflects the most up-to-date information from Reddit submissions.\n",
    "<br><br>\n",
    "\n",
    "**Cleansing Reddit Text Data**\n",
    "<br>\n",
    "\n",
    "Remove special characters and extra white spaces, normalizing the text to maintain a standard format. This process will be performed to the `selftext` and `title` columns from the *submissions data* and `column_name` from the *comments data* <br><br>\n",
    "\n",
    "**Filtering out Spam and Redundant Content**\n",
    "<br>\n",
    "\n",
    "To ensure the quality of the data from Reddit *submissions* and *comments*, it's essential to filter out spam and redundant content. This can be done by checking for repetition in titles and text bodies.\n",
    "    - For the purposes of this filter, *spam* is identified as any submission or comment where the title or text body is an exact match to another entry within the dataset.<br><br>\n",
    "<br>\n",
    "\n",
    "<hr>\n",
    "\n",
    "***Data Preparation: Discogs Data***\n",
    "\n",
    "<br>\n",
    "\n",
    "**Realigning with the objectives of the study**\n",
    "<br>\n",
    "\n",
    "It was determined to only focus on necessary data which would be the title of the song, artist and the genre. These were extracted with the three year period from 2020-2022. There were commonalities between Discogs dataset and it was determined that we could focus on one dataset to pull our necessary data in which would be the *masters* dataset.<br><br>\n",
    "\n",
    "We filtered our discogs data with the necessary information for our study, these would be the artist, title, genres and we also included the year of the original release of the media while taking into consideration the month and year date of relase which can be found from the file naming of the dataset.\n",
    "<br>\n",
    "\n",
    "<center><b>Table 8. </b> *New Masters Data</center>\n",
    "\n",
    "<center>\n",
    "\n",
    "| Column Name   | Data Type |\n",
    "|:--------------:|:---------:|\n",
    "| main_release  | INTEGER   |\n",
    "| artist        | TEXT      |\n",
    "| year          | INTEGER   |\n",
    "| month_file    | INTEGER   |\n",
    "| year_file     | INTEGER   |\n",
    "| title         | INTEGER   |\n",
    "| genres        | TEXT      |\n",
    "\n",
    "</center>\n",
    "<br><br>\n",
    "\n",
    "**Treatment for no entries for genre and artist**\n",
    "<br>\n",
    "\n",
    "In our exploration of the Discogs data, further testing revealed that some entries occasionally lack information for crucial elements like title, genre, and artist. In such cases, we've handled these instances by assigning a 'None' value to ensure smooth processing and avoid any disruptions in our classification efforts.<br><br>\n",
    "\n",
    "**Identify New Releases**\n",
    "<br>\n",
    "\n",
    "The purpose of collecting the data above is to perform the necessary selection of newly released songs in the market.\n",
    "\n",
    "Our basis on this if year = year_file, it can be confirmed that the release is a new release and not a re-release of an old song or an album. Our working data for our discogs database will be all new releases from 2020 - 2022 which will be classified monthly.\n",
    "\n",
    "<br><br>\n",
    "<hr>\n",
    "\n",
    "#### **Data Analysis**\n",
    "\n",
    "To uncover the trends of music releases of Discogs from 2020 to 2023, we've set up a straightforward approach.\n",
    "<br><br>\n",
    "\n",
    "1. **Frequency Analysis**: Perform counts of genre and artist mentions using Python or SQL.\n",
    "    - *Top Genres (2020-2023)*: Determine the top 10 genres by the number of new releases over the specified years.\n",
    "    - *Top Artists (2020-2023)*: Find the top 10 artists by the count of their new releases over the specified years.\n",
    "    - *Monthly Top Artists Analysis*: Identify the top 10 artists each month based on the number of new releases.\n",
    "    <br><br>\n",
    "\n",
    "2. **Popularity Metrics**: Compile mention counts and upvotes to gauge popularity.\n",
    "    - Based on the identified *Top Genres*, *Top Artists*, and *Top Monthly Artists*, count the number of posts and upvotes for each is mentioned.\n",
    "    <br><br>\n",
    "\n",
    "3. **Temporal Analysis**: Conduct a monthly analysis to observe trends over time.\n",
    "<br>\n",
    "\n",
    "4. **Visualization**: Develop charts and graphs to visualize the popularity trends.\n",
    "\n",
    "<br>\n",
    "<hr>\n",
    "\n",
    "\n",
    "#### **Limitations**\n",
    "\n",
    "The analysis is limited to data available up to August 2022 and the month of July 2022 in the discogs database is not present or in any way possibly be derived from the existing files using the\n",
    "\n",
    "Comparisons are conducted on a monthly basis to align with the Discogs dataset's structure and modularity. The focus is solely on textual data, including submission titles, body content, and comments. Images and other forms of media (including media captions) are omitted from the comparative analysis. No natural language processing (NLP) or advanced matching techniques are applied; therefore, text comparisons are based solely on exact matches only.\n",
    "\n",
    "<br>\n",
    "<hr>\n",
    "\n",
    "#### **Assumptions**\n",
    "\n",
    "- A *mention* is defined as an exact match of the artist's full name, or the complete album name.\n",
    "\n",
    "- The premise adopted is that any *mention* on Reddit, regardless of context or sentiment, indicates an artist's or album's popularity. Thus, the frequency of mentions correlates with popularity, without considering the post's controversality, or sentiment.\n",
    "\n",
    "- *Upvotes* on posts are included as a metric because they represent a consensus or agreement among users. An upvote is considered an endorsement, suggesting that the community values the mention or finds it relevant."
   ]
  },
  {
   "cell_type": "markdown",
   "id": "9d7c0aaf-81f8-40e4-a51a-75e4c082dc39",
   "metadata": {
    "id": "9d7c0aaf-81f8-40e4-a51a-75e4c082dc39"
   },
   "source": [
    "<hr>\n",
    "\n",
    "###  <span style=\"color: #503a99\"> **DATA EXPLORATION** </span>"
   ]
  },
  {
   "cell_type": "markdown",
   "id": "wvqSaZIUKqfe",
   "metadata": {
    "id": "wvqSaZIUKqfe"
   },
   "source": [
    "<img src=\"top_10_artists_releases_2020-2023.png\" />"
   ]
  },
  {
   "cell_type": "markdown",
   "id": "D076tY8SKnaX",
   "metadata": {
    "id": "D076tY8SKnaX"
   },
   "source": [
    "The graph shows **Jaffa Kid** with the most music releases, indicating they're quite active. **Iron Maiden** also has many releases, showing they're still popular. Icons like **David Bowie** and **Elvis Presley continue to be favorites, with their music regularly reissued. This tells us both new and classic artists are getting attention in the music world**.\n",
    "<br> \n"
   ]
  },
  {
   "cell_type": "markdown",
   "id": "CGCSln-OxM4K",
   "metadata": {
    "id": "CGCSln-OxM4K"
   },
   "source": [
    "<img src=\"top_3_artists_releases_per_year.png\" />"
   ]
  },
  {
   "cell_type": "markdown",
   "id": "yeve7pmTxM_9",
   "metadata": {
    "id": "yeve7pmTxM_9"
   },
   "source": [
    "The graph shows the top 3 music artists with the **most releases from 2020 to 2022 highlights a dynamic music production landscape**, with different artists leading each year, suggesting both a diversity of popular music and shifting trends over time. The presence of artists like Endeleas and Wallace Robert Holt in the top spots indicates periods of significant creative output. **A comparison of release volumes across these years may reflect the music industry's evolving production and distribution strategies or broader socio-economic influences impacting the industry**.\n",
    "\n",
    "<br>"
   ]
  },
  {
   "cell_type": "markdown",
   "id": "m9McioxOKX4U",
   "metadata": {
    "id": "m9McioxOKX4U"
   },
   "source": [
    "<img src=\"top_10_music_genres_by_release_sorted.png\" />"
   ]
  },
  {
   "cell_type": "markdown",
   "id": "4FaMAAgeLDMJ",
   "metadata": {
    "id": "4FaMAAgeLDMJ"
   },
   "source": [
    "**Electronic and Rock music lead in release volume, evidencing their mainstream popularity and market strength**. Hip Hop, Pop, and Jazz show consistent output, catering to dedicated audience segments. Meanwhile, the lower release counts for Classical and Reggae indicate niche appeal, with these genres maintaining a specialized yet persistent presence in the market."
   ]
  },
  {
   "cell_type": "markdown",
   "id": "3LkPz1VCWj-t",
   "metadata": {
    "id": "3LkPz1VCWj-t"
   },
   "source": [
    "**Exploring Reddit Dataset and combining with Discogs**"
   ]
  },
  {
   "cell_type": "markdown",
   "id": "RyKR6UsHWkMz",
   "metadata": {
    "id": "RyKR6UsHWkMz"
   },
   "source": [
    "<img src=\"stat.png\" />"
   ]
  },
  {
   "cell_type": "markdown",
   "id": "2Fq-yCthWoMe",
   "metadata": {
    "id": "2Fq-yCthWoMe"
   },
   "source": [
    "**Statistics Insight**:\n",
    "\n",
    "* There is a clear difference in engagement between posts and comments on Reddit.**On average, submissions receive more upvotes than comments, which indicates that users tend to interact more with original content**.\n",
    "* The higher standard deviation for submission upscore suggests that while most posts receive moderate attention, a few exceptional ones garner a significant amount of upvotes.*\n",
    "\n",
    "**Monthly Trends Insight**:\n",
    "\n",
    "* **November 2021 marks a distinct peak in submission upscore**, suggesting a\n",
    "notable event or popular post during that time.\n",
    "* The variability in upscore across months and years may **reflect the dynamic nature of user engagement on the platform, with certain periods experiencing heightened activity possibly due to album releases, artist anniversaries, or other significant events in the music industry**."
   ]
  },
  {
   "cell_type": "markdown",
   "id": "7CtGbf-ULNAU",
   "metadata": {
    "id": "7CtGbf-ULNAU"
   },
   "source": [
    "<img src=\"top_artists_by_count.png\" />"
   ]
  },
  {
   "cell_type": "markdown",
   "id": "coK3YI8XLNR4",
   "metadata": {
    "id": "coK3YI8XLNR4"
   },
   "source": [
    "Analyzing the combined dataset of Reddit discussions over the years 2020-2023, we see that **David Bowie consistently garners significant attention, leading both in the count of submissions and the sum of upvotes, indicating a strong and persistent interest in this artist within the Reddit community**. Despite The **Jaffa Kid's prominence on Discogs, this artist does not appear among the top discussed on Reddit, suggesting a divergence in audience engagement or musical preference between the two platforms**. The high engagement with David Bowie could be attributed to his enduring legacy and broad fanbase, which actively participates in discussions and upvotes content related to him. Conversely, The Jaffa Kid's appeal on Discogs might reflect a more specialized community or genre that does not overlap as much with the general Reddit user base. **This disparity underlines the importance of considering platform-specific contexts when analyzing an artist's popularity and engagement online**."
   ]
  },
  {
   "cell_type": "markdown",
   "id": "EUdJVh3VN-MV",
   "metadata": {
    "id": "EUdJVh3VN-MV"
   },
   "source": [
    "<img src=\"top_genres_by_upscore.png\" />"
   ]
  },
  {
   "cell_type": "markdown",
   "id": "cdXkX78iN-p3",
   "metadata": {
    "id": "cdXkX78iN-p3"
   },
   "source": [
    "\n",
    "*   **Electronic and Rock**: These genres are not only leading in terms of release volume on Discogs but are also likely to be the most discussed on Reddit, suggesting that their mainstream popularity extends to online engagement as well.\n",
    "*   **Hip Hop, Pop, and Jazz**: The consistent output of these genres in the market, combined with potentially high Reddit upscore data, would indicate a strong alignment between a genre's consumers and its online community engagement.\n",
    "*   **Classical and Reggae**: While these genres show lower release volumes on Discogs, any substantial upscore on Reddit would point to a highly active online community, suggesting that the value of these genres extends beyond mere sales figures to a more engaged discussion and appreciation.\n"
   ]
  },
  {
   "cell_type": "markdown",
   "id": "fRKpccbHPFp0",
   "metadata": {
    "id": "fRKpccbHPFp0"
   },
   "source": [
    "The data provides insights into the popularity and engagement that different musical artists generated on Reddit over the course of years. By analyzing this dataset, we can infer which artists were most talked about and which ones garnered the most positive reactions (upscores) on Reddit. The *total_count* indicates how often artists were mentioned in submissions and comments, reflecting their presence on the platform. For example, in January 2020, The Beatles had the highest number of mentions, suggesting they were a popular topic of discussion."
   ]
  },
  {
   "cell_type": "markdown",
   "id": "ZG9pIxAuVQDh",
   "metadata": {
    "id": "ZG9pIxAuVQDh"
   },
   "source": [
    "<hr>\n",
    "\n",
    "###  <span style=\"color: #503a99\"> **RECOMMENDATIONS** </span>"
   ]
  },
  {
   "cell_type": "markdown",
   "id": "V8gVGynddkCy",
   "metadata": {
    "id": "V8gVGynddkCy"
   },
   "source": [
    "\n",
    "The present study is characterized by specific limitations. The focus is on text from Reddit until August 2022, excluding other media forms, which might also provide valuable insights into music trends. Moreover, the reliance on exact text matches could result in missing broader conversational contexts where artists or albums are mentioned through various linguistic nuances.\n",
    "\n",
    "For future research, there's an opportunity to deepen the understanding of music discussions online such as:\n",
    "<br><br>\n",
    "\n",
    "1. **Enhancement of Matching Capabilities through NLP**\n",
    "\n",
    " Future studies should consider the application of natural language processing techniques to refine the identification of artist and album mentions. This approach would allow for the recognition of a broader spectrum of references, including colloquialisms, abbreviations, and varied spelling conventions, providing a more comprehensive capture of data.\n",
    "<br>\n",
    "\n",
    "2. **Assessment of Sentiment in Online Discussions**\n",
    "\n",
    " It is recommended that subsequent research consider sentiment analysis to gauge the qualitative aspects of music popularity on Reddit. This would involve categorizing mentions into positive, negative, or neutral sentiments,  offering a layered understanding of an artist's or album's reception beyond mere mention counts.\n",
    "\n",
    " Not only on reddit, but to utilize the links of videos that credits the music for being used in it and from there garner the sentiments of viewers of those videos.\n",
    "<br>\n",
    "\n",
    "3. **Dynamic Analysis of Music Trends**\n",
    "\n",
    " An ongoing analysis of how music preferences and discussions evolve over time would be invaluable. This should include an investigation into the external and internal factors that affect these trends, such as cultural shifts, marketing campaigns, or significant events in the music industry. Such an analysis could provide predictive insights into emerging trends and the longevity of current ones.\n"
   ]
  },
  {
   "cell_type": "markdown",
   "id": "qgYPn9CoXYYd",
   "metadata": {
    "id": "qgYPn9CoXYYd"
   },
   "source": [
    "<hr>\n",
    "\n",
    "###  <span style=\"color: #503a99\"> **CONCLUSION** </span>\n",
    "\n",
    "This activity connects Discogs music releases to Reddit discussions, highlighting that genres like Electronic and Rock not only have high release volumes but also feature prominently in online conversations. Simultaneously, genres with fewer releases still generate active discussions on Reddit, revealing a vibrant online community presence.\n",
    "The persistent relevance of icons such as David Bowie and Elvis Presley on Reddit underscores the fact that an artist's influence is not solely measured by sales. It's crucial to acknowledge the limitations of this study, as it relies on text mentions without delving into the depth of user interactions or emotional responses. These findings emphasize the critical role of platforms like Reddit in evaluating popularity and potential success in the fast-paced digital music landscape.\n"
   ]
  },
  {
   "cell_type": "markdown",
   "id": "84437fb6-d11f-48d9-aa7f-b9d87f7af1bd",
   "metadata": {
    "id": "84437fb6-d11f-48d9-aa7f-b9d87f7af1bd"
   },
   "source": [
    "<hr>\n",
    "\n",
    "###  <span style=\"color: #503a99\"> **REFERENCES** </span>\n",
    "\n",
    "GOBFW. (n.d.). What is Reddit? Retrieved from https://www.gobfw.com/reddit-intro/#:~:text=What%20is%20Reddit%3F,feel%20%E2%80%93%20like%20most%20other%20platforms.&text=It\n",
    "\n",
    "Musicians Institute. (n.d.). In the Know: Social Media's Critical Role in the Music Industry. Retrieved from https://www.mi.edu/in-the-know/social-medias-critical-role-music-industry/\n",
    "\n",
    "ResearchGate. (2020). Leveraging Social Media in the Music Industry. Retrieved from https://www.researchgate.net/publication/343850244_Leveraging_social_media_in_the_music_industry\n",
    "\n",
    "Towards Data Science. (n.d.). Leveraging on NLP to Gain Insights in Social Media News Broadcasting. Retrieved from https://towardsdatascience.com/leveraging-on-nlp-to-gain-insights-in-social-media-news-broadcasting-ca89752ef638\n",
    "\n",
    "ICTACT Journals. (2012). Leveraging on NLP to Gain Insights in Social Media News Broadcasting. International Journal of Semantic Computing, 2(2), 280-284. Retrieved from https://ictactjournals.in/paper/ijsc_vol2_iss2_2012_4_paper_280-284.pdf"
   ]
  },
  {
   "cell_type": "code",
   "execution_count": null,
   "id": "a95d9cdf-a830-4ad9-9c15-cdfc8fd8a40e",
   "metadata": {
    "id": "a95d9cdf-a830-4ad9-9c15-cdfc8fd8a40e"
   },
   "outputs": [],
   "source": []
  }
 ],
 "metadata": {
  "colab": {
   "provenance": []
  },
  "kernelspec": {
   "display_name": "Python 3 (ipykernel)",
   "language": "python",
   "name": "python3"
  },
  "language_info": {
   "codemirror_mode": {
    "name": "ipython",
    "version": 3
   },
   "file_extension": ".py",
   "mimetype": "text/x-python",
   "name": "python",
   "nbconvert_exporter": "python",
   "pygments_lexer": "ipython3",
   "version": "3.10.12"
  }
 },
 "nbformat": 4,
 "nbformat_minor": 5
}
