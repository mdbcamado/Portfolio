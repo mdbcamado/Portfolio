{
 "cells": [
  {
   "cell_type": "code",
   "execution_count": 1,
   "id": "0c162bd7-0447-4e0e-9ee9-62a1d9f5f426",
   "metadata": {
    "execution": {
     "iopub.execute_input": "2023-11-08T15:19:23.340501Z",
     "iopub.status.busy": "2023-11-08T15:19:23.339706Z",
     "iopub.status.idle": "2023-11-08T15:19:23.351699Z",
     "shell.execute_reply": "2023-11-08T15:19:23.350544Z",
     "shell.execute_reply.started": "2023-11-08T15:19:23.340447Z"
    },
    "tags": []
   },
   "outputs": [],
   "source": [
    "import sqlite3\n",
    "from datetime import datetime\n",
    "import re\n",
    "import string\n",
    "\n",
    "directory = '/mnt/processed/private/msds-pt2025a/lt6'\n",
    "db_name = f'{directory}/database/lab1.db'"
   ]
  },
  {
   "cell_type": "code",
   "execution_count": 3,
   "id": "5ba1b99f-61e5-4e02-8739-36c2358181ea",
   "metadata": {
    "execution": {
     "iopub.execute_input": "2023-11-08T06:52:47.107760Z",
     "iopub.status.busy": "2023-11-08T06:52:47.106666Z",
     "iopub.status.idle": "2023-11-08T06:54:05.027096Z",
     "shell.execute_reply": "2023-11-08T06:54:05.025729Z",
     "shell.execute_reply.started": "2023-11-08T06:52:47.107706Z"
    },
    "tags": []
   },
   "outputs": [],
   "source": [
    "def remove_spaces_punctuation(text):\n",
    "    # Remove punctuation\n",
    "    text = text.translate(str.maketrans('', '', string.punctuation))\n",
    "    # Collapse multiple spaces into one\n",
    "    text = re.sub(r'\\s+', ' ', text)\n",
    "    # Strip leading and trailing spaces\n",
    "    return text.strip()\n",
    "\n",
    "# Connect to your SQLite database\n",
    "conn = sqlite3.connect(db_name)\n",
    "conn.create_function(\"remove_spaces_punctuation\", 1, remove_spaces_punctuation)\n",
    "# Update the text in your_table_name\n",
    "cur = conn.cursor()\n",
    "\n",
    "# Remove deleted posts\n",
    "cur.execute(\"DELETE FROM reddit_submissions WHERE title = '[deleted by user]'\")\n",
    "conn.commit()\n",
    "\n",
    "cur.execute(\"UPDATE reddit_submissions SET selftext = remove_spaces_punctuation(selftext)\")\n",
    "conn.commit()\n",
    "\n",
    "cur.execute(\"UPDATE reddit_submissions SET title = remove_spaces_punctuation(title)\")\n",
    "conn.commit()\n",
    "\n",
    "\n",
    "# Close the cursor and connection\n",
    "cur.close()\n",
    "conn.close()"
   ]
  },
  {
   "cell_type": "code",
   "execution_count": 12,
   "id": "c2db89ae-fc44-45be-b169-5becb98c03f4",
   "metadata": {
    "execution": {
     "iopub.execute_input": "2023-11-08T10:29:53.507437Z",
     "iopub.status.busy": "2023-11-08T10:29:53.506936Z",
     "iopub.status.idle": "2023-11-08T10:29:53.514397Z",
     "shell.execute_reply": "2023-11-08T10:29:53.512488Z",
     "shell.execute_reply.started": "2023-11-08T10:29:53.507391Z"
    },
    "tags": []
   },
   "outputs": [],
   "source": [
    "def remove_punctuation(text):\n",
    "    # This will remove all punctuation from the text\n",
    "    return re.sub(r'['+string.punctuation+']', '', text)"
   ]
  },
  {
   "cell_type": "code",
   "execution_count": 26,
   "id": "a4ead267-e656-4678-b614-48fc94731a65",
   "metadata": {
    "execution": {
     "iopub.execute_input": "2023-11-08T10:33:18.823928Z",
     "iopub.status.busy": "2023-11-08T10:33:18.823491Z",
     "iopub.status.idle": "2023-11-08T10:33:18.832282Z",
     "shell.execute_reply": "2023-11-08T10:33:18.831383Z",
     "shell.execute_reply.started": "2023-11-08T10:33:18.823889Z"
    },
    "tags": []
   },
   "outputs": [],
   "source": [
    "def count_reddit_submissions_keyword(db_path, keyword, month, year):\n",
    "    # Connect to the SQLite database\n",
    "    conn = sqlite3.connect(db_path)\n",
    "    cur = conn.cursor()\n",
    "\n",
    "    keyword = remove_punctuation(keyword)\n",
    "    \n",
    "    # Prepare the SQL statement to count the occurrences of each keyword in the title or selftext,\n",
    "    # filtered by the specified month and year\n",
    "    # Assume that there is a 'created_utc' column in 'reddit_submissions' storing Unix timestamp\n",
    "    sql = \"\"\"\n",
    "    SELECT\n",
    "        SUM(\n",
    "            (title LIKE ? OR selftext LIKE ?)\n",
    "        )\n",
    "    FROM reddit_submissions\n",
    "    WHERE strftime('%m', created_utc) = ?\n",
    "      AND strftime('%Y', created_utc) = ?\n",
    "    \"\"\"\n",
    "\n",
    "    # Format the month and year for SQL\n",
    "    month_str = f\"{month:02d}\"  # Ensure month is two digits\n",
    "    year_str = str(year)\n",
    "    \n",
    "    # Construct the search patterns\n",
    "    keyword_pattern = f'%{keyword}%'\n",
    "    \n",
    "    # Execute the query with parameters\n",
    "    cur.execute(sql, (\n",
    "        keyword_pattern, keyword_pattern,\n",
    "        month_str, year_str\n",
    "    ))\n",
    "    \n",
    "    results = cur.fetchall()\n",
    "    \n",
    "    # Fetch the result\n",
    "    total_count = results[0]\n",
    "    \n",
    "    # Close the cursor and connection\n",
    "    cur.close()\n",
    "    conn.close()\n",
    "    \n",
    "    return total_count"
   ]
  },
  {
   "cell_type": "code",
   "execution_count": 31,
   "id": "ec6ea900-daac-4751-bc87-25220b9e3d5a",
   "metadata": {
    "execution": {
     "iopub.execute_input": "2023-11-08T10:36:09.767457Z",
     "iopub.status.busy": "2023-11-08T10:36:09.766844Z",
     "iopub.status.idle": "2023-11-08T10:36:13.138297Z",
     "shell.execute_reply": "2023-11-08T10:36:13.137464Z",
     "shell.execute_reply.started": "2023-11-08T10:36:09.767410Z"
    },
    "tags": []
   },
   "outputs": [
    {
     "data": {
      "text/plain": [
       "(119,)"
      ]
     },
     "execution_count": 31,
     "metadata": {},
     "output_type": "execute_result"
    }
   ],
   "source": [
    "count = count_reddit_submissions_keyword(db_name, 'Taylor Swift', 7, 2020)\n",
    "count"
   ]
  },
  {
   "cell_type": "code",
   "execution_count": 32,
   "id": "62be7e57-6097-421c-8c0f-1d3de1d7d726",
   "metadata": {
    "execution": {
     "iopub.execute_input": "2023-11-08T14:01:23.111533Z",
     "iopub.status.busy": "2023-11-08T14:01:23.111020Z",
     "iopub.status.idle": "2023-11-08T14:02:23.170073Z",
     "shell.execute_reply": "2023-11-08T14:02:23.168921Z",
     "shell.execute_reply.started": "2023-11-08T14:01:23.111493Z"
    },
    "tags": []
   },
   "outputs": [
    {
     "name": "stdout",
     "output_type": "stream",
     "text": [
      "{'2020-01': (73,), '2020-02': (45,), '2020-03': (59,), '2020-04': (86,), '2020-05': (88,), '2020-06': (70,), '2020-07': (75,), '2020-08': (84,), '2020-09': (76,), '2020-10': (72,), '2020-11': (88,), '2020-12': (68,), '2021-01': (78,), '2021-02': (82,), '2021-03': (66,), '2021-04': (57,), '2021-05': (68,), '2021-06': (47,), '2021-07': (46,), '2021-08': (71,), '2021-09': (78,), '2021-10': (51,), '2021-11': (60,), '2021-12': (73,), '2022-01': (87,), '2022-02': (72,), '2022-03': (64,), '2022-04': (84,), '2022-05': (83,), '2022-06': (66,), '2022-07': (71,), '2022-08': (84,)}\n"
     ]
    }
   ],
   "source": [
    "keyword = 'discog'\n",
    "counts_dict = {}\n",
    "\n",
    "for year in range(2020, 2023):  # 2020 to 2022\n",
    "    for month in range(1, 13):  # 1 to 12 for each month\n",
    "        if year == 2022 and month > 8:\n",
    "            break  # Skip months after August 2022\n",
    "        count = count_reddit_submissions_keyword(db_name, keyword, month, year)\n",
    "        counts_dict[f\"{year}-{month:02d}\"] = count\n",
    "\n",
    "print(counts_dict)"
   ]
  },
  {
   "cell_type": "code",
   "execution_count": 25,
   "id": "9f1aa8cb-d947-40b1-8e7d-b509a19e7d7a",
   "metadata": {
    "execution": {
     "iopub.execute_input": "2023-11-08T10:32:59.362563Z",
     "iopub.status.busy": "2023-11-08T10:32:59.362008Z",
     "iopub.status.idle": "2023-11-08T10:33:00.324789Z",
     "shell.execute_reply": "2023-11-08T10:33:00.323806Z",
     "shell.execute_reply.started": "2023-11-08T10:32:59.362460Z"
    },
    "tags": []
   },
   "outputs": [
    {
     "data": {
      "text/plain": [
       "[(2398316,)]"
      ]
     },
     "execution_count": 25,
     "metadata": {},
     "output_type": "execute_result"
    }
   ],
   "source": [
    "conn = sqlite3.connect(db_name)\n",
    "cursor = conn.cursor()\n",
    "\n",
    "#cursor.execute('SELECT count(*) FROM reddit_submissions')\n",
    "cursor.execute(\"SELECT count(*) FROM reddit_submissions\")\n",
    "\n",
    "results = cursor.fetchall()\n",
    "conn.close()\n",
    "results"
   ]
  },
  {
   "cell_type": "code",
   "execution_count": 5,
   "id": "9a0a0b86-b459-4a91-ab09-43e19bb54c7e",
   "metadata": {
    "execution": {
     "iopub.execute_input": "2023-11-08T09:49:36.075133Z",
     "iopub.status.busy": "2023-11-08T09:49:36.074609Z",
     "iopub.status.idle": "2023-11-08T09:50:09.471032Z",
     "shell.execute_reply": "2023-11-08T09:50:09.469610Z",
     "shell.execute_reply.started": "2023-11-08T09:49:36.075088Z"
    },
    "tags": []
   },
   "outputs": [
    {
     "name": "stdout",
     "output_type": "stream",
     "text": [
      "Duplicate rows removed successfully.\n"
     ]
    }
   ],
   "source": [
    "# Path to your SQLite database\n",
    "db_path = db_name\n",
    "\n",
    "# Connect to the database\n",
    "conn = sqlite3.connect(db_path)\n",
    "cursor = conn.cursor()\n",
    "\n",
    "# Create a new table with unique rows based on 'title' and 'selftext'\n",
    "cursor.execute('''\n",
    "CREATE TABLE IF NOT EXISTS reddit_submissions_unique AS\n",
    "SELECT * FROM reddit_submissions\n",
    "WHERE id IN (\n",
    "    SELECT MIN(id) FROM reddit_submissions\n",
    "    GROUP BY title, selftext\n",
    ");\n",
    "''')\n",
    "\n",
    "# Delete the original table\n",
    "cursor.execute('DROP TABLE reddit_submissions;')\n",
    "\n",
    "# Rename the unique table to the original table's name\n",
    "cursor.execute('ALTER TABLE reddit_submissions_unique RENAME TO reddit_submissions;')\n",
    "\n",
    "# Commit changes and close connection\n",
    "conn.commit()\n",
    "conn.close()\n",
    "\n",
    "print('Duplicate rows removed successfully.')\n"
   ]
  },
  {
   "cell_type": "code",
   "execution_count": 9,
   "id": "7adabc72-6d1a-4539-9ed9-cab13a78a6a5",
   "metadata": {
    "execution": {
     "iopub.execute_input": "2023-11-08T09:51:58.243053Z",
     "iopub.status.busy": "2023-11-08T09:51:58.242484Z",
     "iopub.status.idle": "2023-11-08T09:52:01.686970Z",
     "shell.execute_reply": "2023-11-08T09:52:01.685704Z",
     "shell.execute_reply.started": "2023-11-08T09:51:58.243008Z"
    },
    "tags": []
   },
   "outputs": [
    {
     "data": {
      "text/plain": [
       "[('ektbvw', '', ''),\n",
       " ('jdarss', '', 'Bruh I just wanna go see Hamilton with my soulmate'),\n",
       " ('kiwnqp',\n",
       "  '',\n",
       "  'Can anyone help me make my Arca wiki on fandom i really stan Arca so i just thought of making her a wiki httpsarca1000000fandomcomwikiAcraWikihttpsarca1000000fandomcomwikiAcraWiki'),\n",
       " ('qhuuop',\n",
       "  '',\n",
       "  'Could someone help me to find a song in which the video was about children who fell asleep and watched TV and in this TV there was a man in a black suit later the caretakers of these children came and told them to go to sleep and when the children went to sleep this man came from the TV and he began to sing the song itself is older and not the best quality in the video'),\n",
       " ('gdk2zt', '', 'Does anybody have split up'),\n",
       " ('v3wvd3', '', 'Does anyone have a linkdownload for plus minus'),\n",
       " ('kum8lx',\n",
       "  '',\n",
       "  'Download Link httpsplaygooglecomstoreappsdetailsidcommbucksiziplaymediaampreferrer81082 Use Refer Code For Extra Coins 81082 👨\\u200d👨\\u200d👦 Share with your friends and family and earn Unlimited Reward 👨\\u200d👨\\u200d👦'),\n",
       " ('v34g0c',\n",
       "  '',\n",
       "  'Hello guys can you help me with this channel tnx Subscribe like and share pls tnx httpswwwyoutubecomwatchvCiTG8NWvhbM'),\n",
       " ('jekoha',\n",
       "  '',\n",
       "  'Here’s a song for you… Audio Barricade by Prozak httpsopenspotifycomtrack1vxqGUwtLIqg78sNpiFFEWsiZDYhV2CoT02sAIqk9S5V5wamputmsourcenativesharemenu'),\n",
       " ('jeknkh',\n",
       "  '',\n",
       "  'Here’s a song for you… Praise Jah by Daddy X httpsopenspotifycomtrack0JdVQDzOgbRjqMc80qN8ybsiHyBn6GRCRVK6uyAAQByaqQamputmsourcenativesharemenu')]"
      ]
     },
     "execution_count": 9,
     "metadata": {},
     "output_type": "execute_result"
    }
   ],
   "source": [
    "conn = sqlite3.connect(db_name)\n",
    "cursor = conn.cursor()\n",
    "\n",
    "#cursor.execute('SELECT count(*) FROM reddit_submissions')\n",
    "cursor.execute(\"\"\"SELECT MIN(id), title, selftext FROM reddit_submissions\n",
    "    GROUP BY title, selftext LIMIT 10;\"\"\")\n",
    "\n",
    "results = cursor.fetchall()\n",
    "conn.close()\n",
    "results"
   ]
  },
  {
   "cell_type": "code",
   "execution_count": 3,
   "id": "5f81e53c-5c34-4d63-82de-094ba9e1f4a4",
   "metadata": {
    "execution": {
     "iopub.execute_input": "2023-11-09T05:06:01.577846Z",
     "iopub.status.busy": "2023-11-09T05:06:01.577281Z",
     "iopub.status.idle": "2023-11-09T05:12:50.785613Z",
     "shell.execute_reply": "2023-11-09T05:12:50.784093Z",
     "shell.execute_reply.started": "2023-11-09T05:06:01.577795Z"
    },
    "tags": []
   },
   "outputs": [],
   "source": [
    "import sqlite3\n",
    "\n",
    "directory = '/mnt/processed/private/msds-pt2025a/lt6'\n",
    "db_path = f'{directory}/database/lab1-backup7.db'\n",
    "\n",
    "# Connect to the source database\n",
    "source_conn = sqlite3.connect(f'{directory}/database/2022.db')\n",
    "source_cursor = source_conn.cursor()\n",
    "\n",
    "# Connect to the destination database\n",
    "dest_conn = sqlite3.connect(db_path)\n",
    "dest_cursor = dest_conn.cursor()\n",
    "\n",
    "dest_cursor.execute(\"DROP INDEX idx_file_year_month\")\n",
    "dest_cursor.execute(\"DROP INDEX idx_year\")\n",
    "\n",
    "batch_size = 10000\n",
    "select_query = \"SELECT main_release, year, file_year, file_month, artist_name, title, genre FROM masters\"\n",
    "insert_query = \"INSERT OR REPLACE INTO masters(main_release, year, file_year, file_month, artist_name, title, genre) VALUES (?, ?, ?, ?, ?, ?, ?)\"\n",
    "\n",
    "source_cursor.execute(select_query)\n",
    "\n",
    "while True:\n",
    "    rows = source_cursor.fetchmany(batch_size)\n",
    "    if not rows:\n",
    "        break\n",
    "    dest_cursor.executemany(insert_query, rows)\n",
    "    dest_conn.commit()\n",
    "\n",
    "dest_cursor.execute(\"CREATE INDEX idx_file_year_month ON masters(file_year, file_month)\")\n",
    "dest_cursor.execute(\"CREATE INDEX idx_year ON masters(year)\")\n",
    "dest_conn.commit()\n",
    "\n",
    "# Close the cursors and connections if necessary\n",
    "source_cursor.close()\n",
    "dest_cursor.close()\n",
    "\n",
    "# Close the connections\n",
    "source_conn.close()\n",
    "dest_conn.close()"
   ]
  },
  {
   "cell_type": "code",
   "execution_count": 6,
   "id": "70847e98-52a5-453d-ba3f-92209981a467",
   "metadata": {
    "execution": {
     "iopub.execute_input": "2023-11-09T06:34:44.244371Z",
     "iopub.status.busy": "2023-11-09T06:34:44.243827Z",
     "iopub.status.idle": "2023-11-09T06:34:44.269656Z",
     "shell.execute_reply": "2023-11-09T06:34:44.268318Z",
     "shell.execute_reply.started": "2023-11-09T06:34:44.244325Z"
    },
    "tags": []
   },
   "outputs": [
    {
     "name": "stdout",
     "output_type": "stream",
     "text": [
      "Total Rows in 'masters' table: 18451\n",
      "\n",
      "First 5 Rows in 'masters' table:\n",
      "Columns: ['id', 'main_release', 'year', 'file_year', 'file_month', 'artist_name', 'title', 'genre']\n",
      "(2651089, None, 2021, 2021, 7, 'Totalitär', 'Sin Egen Motstandare', 'Rock')\n",
      "(3348683, None, 2021, 2021, 7, 'Akira Umeda', 'Passagem', 'Electronic')\n",
      "(3349563, None, 2021, 2021, 7, 'Akira Umeda', 'Surto', 'Electronic')\n",
      "(3349657, None, 2021, 2021, 7, 'Akira Umeda', 'Música Para O Chá', 'Electronic')\n",
      "(3382850, None, 2021, 2021, 7, 'Akira Umeda', 'Mbiẽta', 'Electronic')\n"
     ]
    }
   ],
   "source": [
    "import sqlite3\n",
    "\n",
    "# Connect to the SQLite database\n",
    "directory = '/mnt/processed/private/msds-pt2025a/lt6'\n",
    "conn = sqlite3.connect(f'{directory}/database/072021a.db')  # Replace 'fresh_discogs.db' with your database file path\n",
    "cursor = conn.cursor()\n",
    "\n",
    "# Execute an SQL query to retrieve the row count from the \"masters\" table\n",
    "cursor.execute(\"SELECT COUNT(*) FROM masters \")\n",
    "\n",
    "# Fetch and print the row count\n",
    "row_count = cursor.fetchone()[0]\n",
    "print(\"Total Rows in 'masters' table:\", row_count)\n",
    "\n",
    "# Execute another SQL query to retrieve the first 5 rows from the \"masters\" table\n",
    "cursor.execute(\"SELECT * FROM masters WHERE file_year = 2021 LIMIT 5\")\n",
    "\n",
    "# Fetch and print the first 5 rows\n",
    "print(\"\\nFirst 5 Rows in 'masters' table:\")\n",
    "columns = [description[0] for description in cursor.description]\n",
    "print(\"Columns:\", columns)\n",
    "results = cursor.fetchall()\n",
    "for row in results:\n",
    "    print(row)\n",
    "\n",
    "# Close the cursor and connection\n",
    "cursor.close()\n",
    "conn.close()"
   ]
  },
  {
   "cell_type": "code",
   "execution_count": null,
   "id": "7cd22e8c-75d2-4b8b-bf9c-f050d65ed129",
   "metadata": {},
   "outputs": [],
   "source": []
  }
 ],
 "metadata": {
  "kernelspec": {
   "display_name": "Python 3 (ipykernel)",
   "language": "python",
   "name": "python3"
  },
  "language_info": {
   "codemirror_mode": {
    "name": "ipython",
    "version": 3
   },
   "file_extension": ".py",
   "mimetype": "text/x-python",
   "name": "python",
   "nbconvert_exporter": "python",
   "pygments_lexer": "ipython3",
   "version": "3.10.12"
  }
 },
 "nbformat": 4,
 "nbformat_minor": 5
}
