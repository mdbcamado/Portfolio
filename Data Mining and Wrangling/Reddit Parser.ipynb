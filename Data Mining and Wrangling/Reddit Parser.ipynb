{
 "cells": [
  {
   "cell_type": "code",
   "execution_count": 1,
   "id": "ce625ede-441f-490e-a4a9-2dcf63988591",
   "metadata": {
    "execution": {
     "iopub.execute_input": "2023-11-07T22:36:12.130727Z",
     "iopub.status.busy": "2023-11-07T22:36:12.130155Z",
     "iopub.status.idle": "2023-11-07T22:36:12.908514Z",
     "shell.execute_reply": "2023-11-07T22:36:12.907275Z",
     "shell.execute_reply.started": "2023-11-07T22:36:12.130678Z"
    },
    "tags": []
   },
   "outputs": [],
   "source": [
    "import os\n",
    "import pandas as pd\n",
    "import zstandard as zstd\n",
    "import json\n",
    "from tqdm import tqdm\n",
    "import datetime\n",
    "\n",
    "import sqlite3\n",
    "from sqlalchemy import create_engine"
   ]
  },
  {
   "cell_type": "code",
   "execution_count": 2,
   "id": "ead221bc-1f7e-49ea-a34c-73a6f220d843",
   "metadata": {
    "execution": {
     "iopub.execute_input": "2023-11-07T22:36:14.585557Z",
     "iopub.status.busy": "2023-11-07T22:36:14.584890Z",
     "iopub.status.idle": "2023-11-07T22:36:14.591932Z",
     "shell.execute_reply": "2023-11-07T22:36:14.590763Z",
     "shell.execute_reply.started": "2023-11-07T22:36:14.585510Z"
    },
    "tags": []
   },
   "outputs": [],
   "source": [
    "directory = '/mnt/processed/private/msds-pt2025a/lt6'\n",
    "reddit_dir = '/mnt/data/public/reddit/'\n",
    "\n",
    "subreddit_file = 'subreddits/subreddits_basic.csv'\n",
    "subreddit_file_json = 'subreddits/subreddits.json.gz'\n",
    "\n",
    "db_name = f'{directory}/database/lab1-test.db'"
   ]
  },
  {
   "cell_type": "markdown",
   "id": "f88a3518-e6fa-4221-9bd3-14dbcf600c9d",
   "metadata": {
    "jp-MarkdownHeadingCollapsed": true,
    "tags": []
   },
   "source": [
    "# Subreddit"
   ]
  },
  {
   "cell_type": "code",
   "execution_count": 4,
   "id": "6969e4f8-19a4-45b0-8de5-4368fb6a51c6",
   "metadata": {
    "execution": {
     "iopub.execute_input": "2023-11-07T12:55:04.224098Z",
     "iopub.status.busy": "2023-11-07T12:55:04.222832Z",
     "iopub.status.idle": "2023-11-07T12:55:08.772980Z",
     "shell.execute_reply": "2023-11-07T12:55:08.770776Z",
     "shell.execute_reply.started": "2023-11-07T12:55:04.224036Z"
    },
    "tags": []
   },
   "outputs": [],
   "source": [
    "# Define Subreddit DataFrame\n",
    "column_names = [\n",
    "    'submission_count',\n",
    "    'subreddit_id',\n",
    "    'created_utc',\n",
    "    'display_name',\n",
    "    'subscriber_count'\n",
    "]\n",
    "\n",
    "subreddit_df = pd.read_csv(os.path.join(reddit_dir, subreddit_file),\n",
    "                           header=None,\n",
    "                           names=column_names,\n",
    "                           dtype=str)\n",
    "\n",
    "subreddit_df = subreddit_df.drop('submission_count', axis=1)\n",
    "subreddit_df['created_utc'] = pd.to_datetime(\n",
    "    subreddit_df['created_utc'].astype('Int64'), unit='s')\n",
    "subreddit_df['subscriber_count'] = subreddit_df['subscriber_count'].astype('Int64')"
   ]
  },
  {
   "cell_type": "code",
   "execution_count": 11,
   "id": "b59980f4-cc39-464f-91c1-be8cf5b4de1b",
   "metadata": {
    "execution": {
     "iopub.execute_input": "2023-11-06T01:04:28.074839Z",
     "iopub.status.busy": "2023-11-06T01:04:28.074067Z",
     "iopub.status.idle": "2023-11-06T01:04:37.593577Z",
     "shell.execute_reply": "2023-11-06T01:04:37.591721Z",
     "shell.execute_reply.started": "2023-11-06T01:04:28.074767Z"
    },
    "tags": []
   },
   "outputs": [],
   "source": [
    "# Populate Subreddit Table\n",
    "conn = sqlite3.connect(db_name)\n",
    "engine = create_engine(f'sqlite:///{db_name}')\n",
    "\n",
    "subreddit_df.to_sql('reddit_subreddits',\n",
    "                    con=engine, if_exists='replace', index=False)\n",
    "\n",
    "conn.close()"
   ]
  },
  {
   "cell_type": "code",
   "execution_count": 5,
   "id": "b0ce4852-d7d4-4307-8bdb-26ed22fdbaf3",
   "metadata": {
    "execution": {
     "iopub.execute_input": "2023-11-07T12:55:31.964856Z",
     "iopub.status.busy": "2023-11-07T12:55:31.964115Z",
     "iopub.status.idle": "2023-11-07T12:55:32.193115Z",
     "shell.execute_reply": "2023-11-07T12:55:32.192385Z",
     "shell.execute_reply.started": "2023-11-07T12:55:31.964815Z"
    },
    "tags": []
   },
   "outputs": [
    {
     "data": {
      "text/plain": [
       "[(1067472,)]"
      ]
     },
     "execution_count": 5,
     "metadata": {},
     "output_type": "execute_result"
    }
   ],
   "source": [
    "conn = sqlite3.connect(db_name)\n",
    "\n",
    "# Define the SQL query to select the top 10 rows\n",
    "select_query = 'SELECT count(*) FROM reddit_subreddits;'\n",
    "\n",
    "# Execute the select query\n",
    "cursor = conn.cursor()\n",
    "cursor.execute(select_query)\n",
    "\n",
    "# Fetch the results\n",
    "results = cursor.fetchall()\n",
    "\n",
    "# Close the connection\n",
    "conn.close()\n",
    "\n",
    "# Return the results\n",
    "results"
   ]
  },
  {
   "cell_type": "code",
   "execution_count": 13,
   "id": "5a5d9519-5134-418e-afbf-acd056c709fe",
   "metadata": {
    "execution": {
     "iopub.execute_input": "2023-11-06T01:05:25.358528Z",
     "iopub.status.busy": "2023-11-06T01:05:25.357795Z",
     "iopub.status.idle": "2023-11-06T01:05:25.400769Z",
     "shell.execute_reply": "2023-11-06T01:05:25.399741Z",
     "shell.execute_reply.started": "2023-11-06T01:05:25.358463Z"
    },
    "tags": []
   },
   "outputs": [
    {
     "data": {
      "text/plain": [
       "[{'column_name': 'subreddit_id', 'data_type': 'TEXT'},\n",
       " {'column_name': 'created_utc', 'data_type': 'DATETIME'},\n",
       " {'column_name': 'display_name', 'data_type': 'TEXT'},\n",
       " {'column_name': 'subscriber_count', 'data_type': 'BIGINT'}]"
      ]
     },
     "execution_count": 13,
     "metadata": {},
     "output_type": "execute_result"
    }
   ],
   "source": [
    "conn = sqlite3.connect(db_name)\n",
    "cursor = conn.cursor()\n",
    "\n",
    "column_info_query = \"PRAGMA table_info('reddit_subreddits');\"\n",
    "cursor.execute(column_info_query)\n",
    "column_info = cursor.fetchall()\n",
    "\n",
    "# Close the connection\n",
    "conn.close()\n",
    "\n",
    "# Format and return the results\n",
    "column_info_list = [{\"column_name\": col[1], \"data_type\": col[2]}\n",
    "                    for col in column_info]\n",
    "column_info_list"
   ]
  },
  {
   "cell_type": "markdown",
   "id": "66fb661f-8183-4abb-a080-5151c03c466c",
   "metadata": {},
   "source": [
    "# Submissions"
   ]
  },
  {
   "cell_type": "markdown",
   "id": "b356703b-2119-4654-a00d-2ca4dd449a7a",
   "metadata": {
    "tags": [],
    "toc-hr-collapsed": true
   },
   "source": [
    "## Define Table"
   ]
  },
  {
   "cell_type": "code",
   "execution_count": 14,
   "id": "6f0b0ee0-077e-4a60-bfc6-4b9346e68718",
   "metadata": {
    "execution": {
     "iopub.execute_input": "2023-11-06T01:06:07.849986Z",
     "iopub.status.busy": "2023-11-06T01:06:07.849246Z",
     "iopub.status.idle": "2023-11-06T01:06:07.886130Z",
     "shell.execute_reply": "2023-11-06T01:06:07.885476Z",
     "shell.execute_reply.started": "2023-11-06T01:06:07.849922Z"
    },
    "tags": []
   },
   "outputs": [],
   "source": [
    "columns = {\n",
    "    'id': 'TEXT PRIMARY KEY',\n",
    "    'created_utc': 'DATETIME',\n",
    "    'subreddit': 'TEXT',\n",
    "    'subreddit_id': 'TEXT',\n",
    "    'title': 'TEXT',\n",
    "    'selftext': 'TEXT',\n",
    "    'score': 'BIGINT',\n",
    "    'num_comments': 'BIGINT',\n",
    "    'num_crossposts': 'BIGINT',\n",
    "    'retrieved_on': 'DATETIME'\n",
    "}\n",
    "\n",
    "# Create or connect to the SQLite database\n",
    "conn = sqlite3.connect(db_name)\n",
    "cursor = conn.cursor()\n",
    "\n",
    "cursor.execute(f'''\n",
    "CREATE TABLE IF NOT EXISTS reddit_submissions (\n",
    "    {', '.join(f'{col} {col_type}' for col, col_type in columns.items())}\n",
    ")\n",
    "''')\n",
    "\n",
    "conn.commit()\n",
    "conn.close()"
   ]
  },
  {
   "cell_type": "markdown",
   "id": "9ffa58e6-472e-41b9-a0ce-69af7f711836",
   "metadata": {},
   "source": [
    "## Extract Data"
   ]
  },
  {
   "cell_type": "code",
   "execution_count": 3,
   "id": "0eccd26b-9e91-40a2-ad0f-4c42fd9adbbe",
   "metadata": {
    "execution": {
     "iopub.execute_input": "2023-11-07T22:36:18.341654Z",
     "iopub.status.busy": "2023-11-07T22:36:18.341110Z",
     "iopub.status.idle": "2023-11-07T22:36:18.834908Z",
     "shell.execute_reply": "2023-11-07T22:36:18.833781Z",
     "shell.execute_reply.started": "2023-11-07T22:36:18.341607Z"
    },
    "tags": []
   },
   "outputs": [],
   "source": [
    "conn = sqlite3.connect(db_name)\n",
    "cursor = conn.cursor()\n",
    "\n",
    "cursor.execute(\"SELECT * FROM reddit_subreddits WHERE display_name LIKE '%music%'\")\n",
    "# cursor.execute('SELECT * FROM reddit_submissions LIMIT 10')\n",
    "\n",
    "results = cursor.fetchall()\n",
    "conn.close()\n",
    "\n",
    "subreddits = [result[0] for result in results]"
   ]
  },
  {
   "cell_type": "code",
   "execution_count": 11,
   "id": "4c80a3c7-d93d-4398-8c82-b7a57eea02ce",
   "metadata": {
    "execution": {
     "iopub.execute_input": "2023-11-08T05:29:23.036293Z",
     "iopub.status.busy": "2023-11-08T05:29:23.035871Z",
     "iopub.status.idle": "2023-11-08T05:29:23.050372Z",
     "shell.execute_reply": "2023-11-08T05:29:23.049508Z",
     "shell.execute_reply.started": "2023-11-08T05:29:23.036258Z"
    },
    "tags": []
   },
   "outputs": [],
   "source": [
    "def unix_to_datetime(unix_time):\n",
    "    if unix_time is not None:\n",
    "        return datetime.datetime.utcfromtimestamp(unix_time)\n",
    "    return None\n",
    "\n",
    "\n",
    "# Function to insert a record into the database\n",
    "def insert_records(records, conn, cursor):\n",
    "    filtered_records = [record for record in records if record[3] in subreddits]\n",
    "    cursor.executemany('''\n",
    "        INSERT OR REPLACE INTO reddit_submissions (id, created_utc, subreddit, subreddit_id, title, selftext, score, num_comments, num_crossposts, retrieved_on)\n",
    "        VALUES (?, ?, ?, ?, ?, ?, ?, ?, ?, ?)\n",
    "        ''', filtered_records)\n",
    "\n",
    "\n",
    "def process_file(file_path, conn, cursor):\n",
    "    # Create a Zstandard decompressor\n",
    "    decompressor = zstd.ZstdDecompressor(max_window_size=2147483648)\n",
    "\n",
    "    # Open the compressed file\n",
    "    with open(file_path, 'rb') as compressed:\n",
    "        total_size = os.path.getsize(file_path) * 15\n",
    "        # Create a progress bar using tqdm\n",
    "        with tqdm(total=total_size, unit='B', unit_scale=True, desc='Decompressing') as pbar:\n",
    "            # Create a stream reader for the compressed file\n",
    "            with decompressor.stream_reader(compressed) as reader:\n",
    "                buffer = ''\n",
    "                batch_records = []\n",
    "                batch_size = 10000  # Number of records to insert at once\n",
    "\n",
    "                while True:\n",
    "                    chunk = reader.read(8 * 1024)  # Read in chunks of 512KB\n",
    "                    if not chunk:\n",
    "                        break\n",
    "                    pbar.update(len(chunk))\n",
    "\n",
    "                    buffer += chunk.decode('utf-8', errors='ignore')\n",
    "                    while '\\n' in buffer:\n",
    "                        line, buffer = buffer.split('\\n', 1)\n",
    "                        json_data = json.loads(line)\n",
    "\n",
    "                        # Extract and convert the necessary fields\n",
    "                        record = (\n",
    "                            json_data.get('id'),\n",
    "                            unix_to_datetime(json_data.get('created_utc')),\n",
    "                            json_data.get('subreddit'),\n",
    "                            json_data.get('subreddit_id'),\n",
    "                            json_data.get('title'),\n",
    "                            json_data.get('selftext'),\n",
    "                            json_data.get('score'),\n",
    "                            json_data.get('num_comments'),\n",
    "                            json_data.get('num_crossposts'),\n",
    "                            unix_to_datetime(json_data.get('retrieved_on'))\n",
    "                        )\n",
    "                        \n",
    "                        batch_records.append(record)\n",
    "\n",
    "                        if len(batch_records) == batch_size:\n",
    "                            # insert_records(batch_records, conn, cursor)\n",
    "                            batch_records.clear()\n",
    "\n",
    "    insert_records(batch_records, conn, cursor)"
   ]
  },
  {
   "cell_type": "code",
   "execution_count": 9,
   "id": "4fb2d272-09f1-4980-83df-d5f0250d8fb9",
   "metadata": {
    "execution": {
     "iopub.execute_input": "2023-11-07T22:37:19.315786Z",
     "iopub.status.busy": "2023-11-07T22:37:19.315253Z",
     "iopub.status.idle": "2023-11-08T05:29:00.032238Z",
     "shell.execute_reply": "2023-11-08T05:29:00.031115Z",
     "shell.execute_reply.started": "2023-11-07T22:37:19.315739Z"
    },
    "tags": []
   },
   "outputs": [
    {
     "name": "stdout",
     "output_type": "stream",
     "text": [
      "Processing submissions/RS_2022-04.zst...\n"
     ]
    },
    {
     "name": "stderr",
     "output_type": "stream",
     "text": [
      "Decompressing:  91%|█████████ | 130G/144G [1:13:38<07:41, 29.5MB/s] \n"
     ]
    },
    {
     "name": "stdout",
     "output_type": "stream",
     "text": [
      "Processing submissions/RS_2022-05.zst...\n"
     ]
    },
    {
     "name": "stderr",
     "output_type": "stream",
     "text": [
      "Decompressing:  92%|█████████▏| 143G/155G [1:18:26<06:53, 30.4MB/s] \n"
     ]
    },
    {
     "name": "stdout",
     "output_type": "stream",
     "text": [
      "Processing submissions/RS_2022-06.zst...\n"
     ]
    },
    {
     "name": "stderr",
     "output_type": "stream",
     "text": [
      "Decompressing:  92%|█████████▏| 139G/151G [1:25:12<07:06, 27.2MB/s]   \n"
     ]
    },
    {
     "name": "stdout",
     "output_type": "stream",
     "text": [
      "Processing submissions/RS_2022-07.zst...\n"
     ]
    },
    {
     "name": "stderr",
     "output_type": "stream",
     "text": [
      "Decompressing:  92%|█████████▏| 146G/159G [1:26:34<07:53, 28.0MB/s]  \n"
     ]
    },
    {
     "name": "stdout",
     "output_type": "stream",
     "text": [
      "Processing submissions/RS_2022-08.zst...\n"
     ]
    },
    {
     "name": "stderr",
     "output_type": "stream",
     "text": [
      "Decompressing:  96%|█████████▌| 150G/157G [1:27:46<04:05, 28.4MB/s]  \n"
     ]
    }
   ],
   "source": [
    "# Loop through files by constructing file names for each month\n",
    "for year in range(2022, 2023):\n",
    "    for month in range(1, 13):\n",
    "        if year == 2022 and month <= 3:\n",
    "            continue\n",
    "        else:\n",
    "            # Skip the months that don't have data according to your range\n",
    "            if year == 2022 and month > 8:\n",
    "                break\n",
    "            file_name = f\"submissions/RS_{year}-{month:02d}.zst\"\n",
    "            file_path = os.path.join(reddit_dir, file_name)\n",
    "\n",
    "            # Check if the file exists before trying to process it\n",
    "            if os.path.exists(file_path):\n",
    "                conn = sqlite3.connect(db_name)\n",
    "                cursor = conn.cursor()\n",
    "\n",
    "                try:\n",
    "                    print(f\"Processing {file_name}...\")\n",
    "                    process_file(file_path, conn, cursor)\n",
    "                    conn.commit()\n",
    "                    conn.close()\n",
    "                except Exception as e:\n",
    "                    print(f\" An error occured: {e}\")\n",
    "                    conn.rollback()\n",
    "                    conn.close()\n",
    "\n",
    "                    raise e  # Stop file\n",
    "            else:\n",
    "                print(f\"File {file_name} does not exist.\")"
   ]
  },
  {
   "cell_type": "code",
   "execution_count": 5,
   "id": "44f40453-7b51-42a0-9b64-264210a150b9",
   "metadata": {
    "execution": {
     "iopub.execute_input": "2023-11-08T06:50:32.196614Z",
     "iopub.status.busy": "2023-11-08T06:50:32.196079Z",
     "iopub.status.idle": "2023-11-08T06:50:33.569328Z",
     "shell.execute_reply": "2023-11-08T06:50:33.568284Z",
     "shell.execute_reply.started": "2023-11-08T06:50:32.196564Z"
    },
    "tags": []
   },
   "outputs": [
    {
     "data": {
      "text/plain": [
       "[(2969458,)]"
      ]
     },
     "execution_count": 5,
     "metadata": {},
     "output_type": "execute_result"
    }
   ],
   "source": [
    "conn = sqlite3.connect(db_name)\n",
    "cursor = conn.cursor()\n",
    "\n",
    "#cursor.execute('SELECT count(*) FROM reddit_submissions')\n",
    "cursor.execute(\"SELECT count(*) FROM reddit_submissions where created_utc > '2021-09-01'\")\n",
    "\n",
    "results = cursor.fetchall()\n",
    "conn.close()\n",
    "results"
   ]
  },
  {
   "cell_type": "code",
   "execution_count": null,
   "id": "66bd6c2d-d89d-41a3-8ac6-e2d305e49dae",
   "metadata": {},
   "outputs": [],
   "source": []
  }
 ],
 "metadata": {
  "kernelspec": {
   "display_name": "Python 3 (ipykernel)",
   "language": "python",
   "name": "python3"
  },
  "language_info": {
   "codemirror_mode": {
    "name": "ipython",
    "version": 3
   },
   "file_extension": ".py",
   "mimetype": "text/x-python",
   "name": "python",
   "nbconvert_exporter": "python",
   "pygments_lexer": "ipython3",
   "version": "3.10.12"
  }
 },
 "nbformat": 4,
 "nbformat_minor": 5
}
