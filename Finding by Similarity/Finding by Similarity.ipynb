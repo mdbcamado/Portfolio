{
 "cells": [
  {
   "cell_type": "code",
   "execution_count": 1,
   "id": "db8aa8ac-1600-4e9a-a0b2-ba8dd36142c8",
   "metadata": {
    "execution": {
     "iopub.execute_input": "2023-12-06T14:40:15.083700Z",
     "iopub.status.busy": "2023-12-06T14:40:15.082991Z",
     "iopub.status.idle": "2023-12-06T14:40:16.817508Z",
     "shell.execute_reply": "2023-12-06T14:40:16.815535Z",
     "shell.execute_reply.started": "2023-12-06T14:40:15.083636Z"
    },
    "tags": []
   },
   "outputs": [
    {
     "data": {
      "text/html": [
       "<script src=\"https://cdnjs.cloudflare.com/ajax/libs/jquery/2.0.3/jquery.min.js \"></script><script>\n",
       "code_show=true; \n",
       "function code_toggle() {\n",
       "if (code_show){\n",
       "$('div.jp-CodeCell > div.jp-Cell-inputWrapper').hide();\n",
       "} else {\n",
       "$('div.jp-CodeCell > div.jp-Cell-inputWrapper').show();\n",
       "}\n",
       "code_show = !code_show\n",
       "} \n",
       "$( document ).ready(code_toggle);</script><form action=\"javascript:code_toggle()\"><input type=\"submit\" value=\"Toggle on/off for raw code\"></form>\n"
      ],
      "text/plain": [
       "<IPython.core.display.HTML object>"
      ]
     },
     "execution_count": 1,
     "metadata": {},
     "output_type": "execute_result"
    }
   ],
   "source": [
    "from IPython.display import display\n",
    "from IPython.display import HTML\n",
    "import pandas as pd\n",
    "import numpy as np\n",
    "import matplotlib.pyplot as plt\n",
    "import re\n",
    "from sklearn.feature_extraction.text import TfidfVectorizer\n",
    "from sklearn.metrics.pairwise import cosine_similarity\n",
    "from nltk.corpus import wordnet\n",
    "from nltk.stem import WordNetLemmatizer\n",
    "import nltk\n",
    "from sklearn.metrics import cohen_kappa_score\n",
    "nltk.download('wordnet', quiet=True)\n",
    "\n",
    "HTML('''<script src=\"https://cdnjs.cloudflare.com/ajax/libs/jquery/2.0.3/jquery.min.js \"></script><script>\n",
    "code_show=true; \n",
    "function code_toggle() {\n",
    "if (code_show){\n",
    "$('div.jp-CodeCell > div.jp-Cell-inputWrapper').hide();\n",
    "} else {\n",
    "$('div.jp-CodeCell > div.jp-Cell-inputWrapper').show();\n",
    "}\n",
    "code_show = !code_show\n",
    "} \n",
    "$( document ).ready(code_toggle);</script><form action=\"javascript:code_toggle()\"><input type=\"submit\" value=\"Toggle on/off for raw code\"></form>\n",
    "''')"
   ]
  },
  {
   "cell_type": "code",
   "execution_count": 2,
   "id": "f842e914-d4ec-4faf-b01b-dc01807cdda2",
   "metadata": {
    "execution": {
     "iopub.execute_input": "2023-12-06T14:40:16.822022Z",
     "iopub.status.busy": "2023-12-06T14:40:16.821115Z",
     "iopub.status.idle": "2023-12-06T14:40:16.836165Z",
     "shell.execute_reply": "2023-12-06T14:40:16.834352Z",
     "shell.execute_reply.started": "2023-12-06T14:40:16.821956Z"
    },
    "id": "f842e914-d4ec-4faf-b01b-dc01807cdda2",
    "tags": []
   },
   "outputs": [
    {
     "data": {
      "text/html": [
       "<script src=\"require.js\"></script>\n"
      ],
      "text/plain": [
       "<IPython.core.display.HTML object>"
      ]
     },
     "metadata": {},
     "output_type": "display_data"
    }
   ],
   "source": [
    "%%HTML\n",
    "<script src=\"require.js\"></script>"
   ]
  },
  {
   "cell_type": "markdown",
   "id": "rZCCyS-_h0jQ",
   "metadata": {
    "id": "rZCCyS-_h0jQ"
   },
   "source": [
    "<img src=\"Cover.png\" />\n",
    "\n",
    "<span style=\"display: block; height: 1px; border: 0; border-top: 10px solid #001DB1; margin: 1em 0; padding: 0;\"></span>\n",
    "\n",
    "# <span style=\"color:#FF4922; font-weight:bold\"> ABSTRACT </span>\n",
    "\n",
    "This study addresses challenges in the e-commerce industry, specifically focusing on refining recommendation engines to offer more precise, unbiased, and relevant results. With the proliferation of e-commerce platforms, users often face difficulties in efficiently matching their queries with accurate product recommendations, leading to time-consuming searches and dissatisfaction. The research methodology involves web scraping data from Lazada, followed by comprehensive data cleansing and lemmatization to enhance the quality of textual information. The Term Frequency-Inverse Document Frequency (TF-IDF) technique is then applied for vectorization, and cosine similarity and Jaccard similarity are employed for measuring resemblance between data points.\n",
    "\n",
    "The study reveals that the LT recommendation engine outperforms its counterparts, achieving higher similarity scores based on both Cosine similarity and Jaccard distance metrics. However, the conclusion emphasizes the importance of improving data quality and preprocessing methods to further enhance the reliability of similarity matching. Notably, while Lazada's recommendation engine considers visitor product histories, concerns persist regarding inaccuracies and biases. The LT recommends a straightforward approach to address these issues, promoting user satisfaction and trust in e-commerce platforms. The findings underscore the significance of continuous improvement in recommendation systems, offering actionable insights for both users and e-commerce platform owners."
   ]
  },
  {
   "cell_type": "markdown",
   "id": "69738b24-8e98-4d27-b6e6-320eacfec4b9",
   "metadata": {
    "id": "69738b24-8e98-4d27-b6e6-320eacfec4b9"
   },
   "source": [
    "<hr>\n",
    "\n",
    "# <span style=\"color:#FF4922; font-weight:bold\"> INTRODUCTION </span>\n",
    "\n",
    "E-commerce began with giants like Amazon and eBay, which have been operating online for over 20 years. The e-commerce industry is a billion-dollar entity that continues to grow. Initially catering to domestic populations, these e-commerce platforms have expanded their reach as technology has advanced. Now, customers can effortlessly buy from suppliers worldwide, and remarkably, delivery speeds have increased. As e-commerce has advanced, its features and services have adapted to customer needs, with a particular emphasis on improving the overall customer experience.\n",
    "\n",
    "<br>\n",
    "\n",
    "The Philippines embraced the e-commerce industry in the early 2000s with platforms like *sulit.com*, primarily dealing with second-hand items. However, the real surge in e-commerce occurred in the 2010s with the introduction of *Shopee* and *Lazada*. The COVID-19 pandemic further accelerated the growth of e-commerce in the country as lockdowns prompted a widespread shift to online shopping, making it the preferred choice for consumers ([source](https://www.statista.com/statistics/1225172/philippines-usage-e-commerce-covid-19-lockdown/)).\n",
    "\n",
    "<br>\n",
    "\n",
    "<center>\n",
    "<img src=\"Usage.PNG\" width =\"500\"/>\n",
    "</center>\n",
    "\n",
    "<center> <b> Fig. 1: E-commerce usage comparison before, during, and after COVID-19 </b></center>\n",
    "\n",
    "<br>\n",
    "\n",
    "Despite serving as a lifeline for many during the pandemic, the e-commerce industry faced its own set of challenges. Ongoing efforts are dedicated to addressing these challenges and refining the overall e-commerce experience for consumers.\n",
    "\n",
    "<br>\n",
    "\n",
    "\n",
    "Successful e-commerce websites distinguish themselves by tackling a common challenge: converting window shoppers into actual customers. To achieve this, e-commerce managers employ strategies that position their platforms as reliable resources for exploring desired products. By showcasing similar items during a customer's browsing session, these websites aim to extend the duration of engagement <small> ([source](https://www.linkedin.com/pulse/how-you-can-like-lazadaid-blibli-ecommerce-product-pandu-truhandito/)) </small>.\n",
    "\n",
    "<br>\n",
    "\n",
    "In 2022, a Lazada report highlighted a shift in the behavior of Southeast Asian (SEA) consumers during the pandemic. The report revealed that \"around 57% of shoppers in Southeast Asia now directly search for products on eCommerce platforms, moving away from the more frequently employed search engines\" <small> ([source](https://www.philstar.com/business/technology/2022/09/01/2206658/ditching-search-engines-southeast-asians-look-products-ecommerce-sites-report)). </small>\n",
    "\n"
   ]
  },
  {
   "cell_type": "markdown",
   "id": "c8bd37e7-d88b-46f8-bb87-f57e58437279",
   "metadata": {
    "id": "c8bd37e7-d88b-46f8-bb87-f57e58437279"
   },
   "source": [
    "<hr>\n",
    "\n",
    "# <span style=\"color:#FF4922; font-weight:bold\"> MOTIVATION </span>\n",
    "\n",
    "Lazada employs a recommendation engine strategy by storing visitor product histories and generating top product recommendations based on frequent occurrences in those histories. For instance, if multiple visitors explore Xiaomi Redmi, the engine suggests products commonly viewed along their respective paths. This approach comes with notable advantages, including enhanced relevancy due to real visitor behavior and the avoidance of bias toward specific product attributes. However, it poses challenges such as potential infrastructure strain for quick service and the necessity for additional systems to manage visitor behavior at scale. <small> ([source](https://www.linkedin.com/pulse/how-you-can-like-lazadaid-blibli-ecommerce-product-pandu-truhandito/)) </small>\n",
    "\n",
    "<br>\n",
    "\n",
    "Despite its strengths, there is a potential downside to this strategy known as the *filter bubble effect*. This phenomenon can restrict users to products similar to their past preferences, limiting exposure to new and diverse items. Moreover, there is no guarantee that this approach will lead to the discovery of high-quality products.\n",
    "\n",
    "<br>\n",
    "\n",
    "Instances of skewed recommendations, as reported on platforms like Reddit, highlight these challenges. Users have voiced complaints about unsettling Lazada search recommendations and expressed concerns about inaccuracies in recommendations. Examples include:\n",
    "- [User complaints about creepy Lazada search recommendations](https://www.reddit.com/r/Philippines/comments/yf4k09/anyone_getting_creepy_lazada_search_recos/)\n",
    "- [Concerns about inaccurate recommendations on Shopee from Lazada](https://www.reddit.com/r/ShopeePH/comments/17srszu/bakit_nirerecommend_eto_ng_lazada_its_so_wrong/)\n",
    "\n",
    "<br>\n",
    "\n",
    "These biases have the potential to impact the overall user experience by narrowing the range of recommendations, potentially hindering user satisfaction and eroding trust in the recommendation system.\n",
    "\n",
    "<br>\n",
    "\n",
    "Addressing these challenges is paramount for e-commerce platforms to provide fair, accurate, and diverse recommendations. This is crucial for enhancing user satisfaction and instilling trust in the platform's recommendation capabilities."
   ]
  },
  {
   "cell_type": "markdown",
   "id": "2ea83827-a52f-4e54-9ec6-64a203a5935f",
   "metadata": {
    "id": "2ea83827-a52f-4e54-9ec6-64a203a5935f"
   },
   "source": [
    "<hr>\n",
    "\n",
    "# <span style=\"color:#FF4922; font-weight:bold\"> PROBLEM STATEMENT </span>\n",
    "\n",
    "Given the challenges identified in e-commerce platforms, a significant problem arises concerning the efficacy of customer query matching. While the recommendation of customer searches is generally acceptable, it frequently inundates users with an extensive array of products, necessitating meticulous sifting through the results. For example, a search for a female's shirt may yield a number of pages of products, many of which may not directly align with the sought-after item.\n",
    "\n",
    "<br>\n",
    "\n",
    "In today's fast-paced environment, time is of the essence. Users would prefer recommendations that are accurate and streamlined, minimizing the time spent sifting through a plethora of unrelated products.\n",
    "\n",
    "<br>\n",
    "\n",
    "There is a clear incentive to both enhancing users and e-commerce platform owners to enhance the utility of their platforms by addressing such challenges. The question then arises: **How can we refine the  recommendation engine of e-commerce sites to provide more precise, unbiased, and relevant results?**"
   ]
  },
  {
   "cell_type": "markdown",
   "id": "43151045-2447-4b74-a271-0c8c6ce21aaf",
   "metadata": {
    "id": "43151045-2447-4b74-a271-0c8c6ce21aaf"
   },
   "source": [
    "<span style=\"display: block; height: 1px; border: 0; border-top: 10px solid #001DB1; margin: 1em 0; padding: 0;\"></span>\n",
    "\n",
    "# <span style=\"color:#FF4922; font-weight:bold\"> SCOPE AND LIMITATIONS OF THE STUDY </span>\n",
    "\n",
    "The Learning Team (LT) is motivated to explore possible enhancements to the recommendation engine of e-commerce site with the goal of improving the overall customer experience on the platform. Dedicated to identifying possible enhancements the recommendation algorithms to effectively address user concerns and deliver a more unbiased and accurate search.\n",
    "\n",
    "<br>\n",
    "\n",
    "The collective objective extends beyond meeting user expectations to building trust by fostering loyalty and satisfaction. Through the refinement of the recommendation engine, the team aims to empower users to discover products aligned with their preferences, enhancing the overall utility of the e-commerce platform. Acknowledging the strategic correlation between an enriched user experience and revenue <small> ([source1](https://www.bigcommerce.com/blog/ecommerce-ux/), [source2](https://www.divami.com/blog/user-experience-its-impact-on-revenue-growth))</small>, the optimization of the recommendation engine\n",
    "will also encourages users to explore diverse products, make informed purchases, and contribute to increased transaction frequency -- resulting to a positive impact to the platform's revenue.\n",
    "\n",
    "<br>\n",
    "\n",
    "To explore possible enhancements of the recommendation algorithm of e-commerce sites, the LT chose to concentrate its efforts on the Lazada platform. Given Lazada's vast array of products, the LT further narrowed its focus to the Women's Clothing category for an in-depth study. The selection of the Women's Clothing category is justified by the challenges in accurately categorizing garments. This category also provides a diverse range of items and subcategories, encompassing a broad spectrum of products.\n",
    "\n",
    "<br>\n",
    "\n",
    "Here is an overview of Lazada's Women's Clothing product listing subcategories:\n",
    "\n",
    "* Casual Shorts\n",
    "* Dresses\n",
    "* Hoodies and Sweatshirts\n",
    "* Overalls and Jumpsuits\n",
    "* Pants\n",
    "* Tops\n",
    "* Skirts\n",
    "\n",
    "<br>\n",
    "\n",
    "**Limitations of the Study:**\n",
    "\n",
    "- The accuracy and freshness of the dataset are contingent on the time of extraction, acknowledging potential changes in product listings over time as Lazada often updates their displayed product listings\n",
    "\n",
    "- Lazada's product listing pagination is capped at 102, with 40 products listed per page. Consequently, only 4080 products were extracted per category, even if the actual count within a certain category surpasses this limit. Additionally, it's worth noting that Lazada sometimes lists duplicate items (with the same identifier) per page, potentially affecting the overall count and analysis.\n",
    "\n",
    "- Product availability status (In stock, No stock, Limited quantity) will not be considered in this study. The primary objective is to enhance the precision of matches and recommendations.\n",
    "\n",
    "- The study will solely focus on product features such as name, description, price, and numerical ratings. It will not delve into the analysis of customers sentiment on reviews.\n",
    "\n",
    "<br>\n",
    "\n",
    "**Assumptions in the Study:**\n",
    "\n",
    "- The spelling of words or strings found in the name and description which the text similarity to be performed on is assumed correct and without errors. Corrections of such mistake in spellings is not covered by this paper."
   ]
  },
  {
   "cell_type": "markdown",
   "id": "qPk8U7UAgsm2",
   "metadata": {
    "id": "qPk8U7UAgsm2"
   },
   "source": [
    "<span style=\"display: block; height: 1px; border: 0; border-top: 10px solid #001DB1; margin: 1em 0; padding: 0;\"></span>\n",
    "\n",
    "\n",
    "# <span style=\"color:#FF4922; font-weight:bold\"> METHODOLOGY </span>\n",
    "\n",
    "\n",
    "The methodology employed in this study involved a multi-step process to analyze and extract meaningful insights from the collected data. Initial data collection was carried out through web scraping, sourcing information from the e-commerce site Lazada. Subsequently, a thorough data cleansing process was implemented, which included the removal of duplicate entries, elimination of null values, stripping away special characters, and standardizing text by converting it to lowercase. To further refine the textual data, lemmatization using the Natural Language Toolkit (NLTK) was applied to reduce words to their base or root forms.\n",
    "\n",
    "Following the data preparation steps, the text data underwent vectorization using the Term Frequency-Inverse Document Frequency (TF-IDF) technique. This transformation allowed the representation of text in numerical vectors, capturing the importance of terms based on their frequency in the dataset.\n",
    "\n",
    "Two distinct similarity measurement methods, namely cosine similarity and Jaccard similarity, were employed to quantify the resemblance between data points. Cosine similarity gauged the similarity between vectors, while Jaccard similarity measured the likeness between sets.\n",
    "\n",
    "Lastly, the retrieval of results was anticipated, emphasizing the practical application of the methodology. This step involved leveraging the computed similarities to identify and recommend similar items or documents, thereby translating the analytical findings into actionable outcomes.\n",
    "\n",
    "<br>\n",
    "<center><b>Table 1. </b> Methodology Pipeline</center>\n",
    "\n",
    "\n",
    "||<center>Variable Name</center>|<center>Description</center>| \n",
    "|:---|:---|:---|\n",
    "| |\n",
    "|`1`|Data Collection | Data were scraped from Lazada: https://www.lazada.com.ph/shop-womens-clothing/. The website was scraped for 28 features per product. Initial dataset shape was 28560 products with 28 features.\n",
    "|`2`|Data Cleansing| This involves pre-processing the data such as removal of the usual duplicates. Removal of duplicates were based on the unique identifiers of the products such as nid, sku, and even the name of the product. Null values were also handled, for entries that need to be a number, it was set to 0 and for entries that needs to be a string, '' was set. After data cleaning,  a total of 12,112 products were left for data processing.|\n",
    "|`3`|Data Vectorization| Natural Language Toolkit (NLTK) library was used to to lemmatize tokens and reduce words to their base form. After the text processing was completed, the Term Frequency-Inverse Document Frequency (TF-IDF) method was used to vectorize the data with the default parameters.|\n",
    "|`4`|Similarity Measurement| Cosine similarity and Jaccard distance were used as measures to define similarity between a product for recommendation and the pool of products to be recommended.|\n",
    "|`5`|Recommendation Retrieval| With the similarity measures applied, sorting and filtering was done to recommend the closely relevant products to the selected product.\n",
    "|`6`|Validation|With retrieved dat, validation was done through the Cohen's Kappa Method.|\n",
    "    \n",
    "<br>\n"
   ]
  },
  {
   "cell_type": "markdown",
   "id": "458d11a6-1999-4179-968e-8efadba1111c",
   "metadata": {
    "id": "458d11a6-1999-4179-968e-8efadba1111c"
   },
   "source": [
    "<hr>\n",
    "\n",
    "## 1) Data Collection\n",
    "\n",
    "Data collection involved web scraping -- systematically iterating through Lazada's Women's Clothing categories, ranging from the first page to the last available page (up to page 102). The gathered data was stored in a CSV file, serving as the primary data source for our analysis.\n",
    "<br>\n",
    "\n",
    "### Extracted Dataset Overview:\n",
    "\n",
    "These key elements collectively form a comprehensive understanding of the products available in the dataset\n",
    "<br>\n",
    "\n",
    "- **Name**: The full name of the product listing, which often contains necessary information like category.\n",
    "- **Item Identifiers (nid, itemid, skuId, sku)**: Unique codes assigned to each product, facilitating precise identification and tracking.\n",
    "- **Price Information**: This includes `originalPrice` (the price before discounts) and `price` (the current selling price after discounts, if applicable). `originalPriceShow` and `priceShow` indicate whether these prices are displayed in the listing.\n",
    "- **Discount**: The percentage discount applied to the original price.\n",
    "- **Ratings and Reviews**: `ratingScore` represents the average rating of the product, and `review` shows the number of customer reviews.\n",
    "- **Sales Numbers (`itemSoldCntShow`)**: The total number of units sold for each product, indicating its popularity and consumer demand.\n",
    "- **Product Features**: This encompasses `brandId`, `categories` (the classifications under which the women's clothing is listed), and `attributes` which are additional product details, although this field has missing data in the dataset due to primarily being optional for sellers to fill in.\n",
    "- **Promotional Status (`isSponsored`, `isAD`)**: Indicators of whether the product listing is sponsored or advertised, which may impact its visibility and sales.\n",
    "- **Online Presence (`itemUrl`)**: The URL of the product listing, providing a direct link to the product's online page.\n",
    "\n",
    "<br>\n",
    "\n",
    "*Refer to **Table 1** for full details.*\n"
   ]
  },
  {
   "cell_type": "markdown",
   "id": "r89qo1Uw6zKH",
   "metadata": {
    "id": "r89qo1Uw6zKH"
   },
   "source": [
    "<br>\n",
    "\n",
    "<center> <b>Table 1</b></center>\n",
    "\n",
    "<center>\n",
    "\n",
    "| Field                 | Description                                                                                                  |\n",
    "|-----------------------|--------------------------------------------------------------------------------------------------------------|\n",
    "| **product_category**  | The category to which the women's clothes listing belongs.                                                             |\n",
    "| **name**              | The full name of the clothing listing, containing specifications and descriptions.                             |\n",
    "| **nid**               | Unique code assigned to each product for precise identification and tracking.                                |\n",
    "| **itemid**            | Another identifier for product tracking.                                                                      |\n",
    "| **isSmartImage**      | Indicator of whether the product listing includes a smart image.                                              |\n",
    "| **originalPriceShow** | Indicates whether the original price is displayed in the listing.                                              |\n",
    "| **originalPrice**     | The price of the clothing before any discounts.                                                                 |\n",
    "| **priceShow**         | Indicates whether the current selling price is displayed in the listing.                                      |\n",
    "| **price**             | The current selling price after discounts, if applicable.                                                     |\n",
    "| **discount**          | The percentage discount applied to the original price.                                                        |\n",
    "| **ratingScore**       | The average rating of the product based on customer reviews.                                                   |\n",
    "| **review**            | The number of customer reviews for the product.                                                               |\n",
    "| **location**          | The location information related to the product listing.                                                       |\n",
    "| **description**       | A brief description of the clothing.                                                                            |\n",
    "| **thumb**             | Thumbnail image of the product.                                                                               |\n",
    "| **sellerName**        | The name of the seller.                                                                                      |\n",
    "| **sellerId**          | Identifier for the seller.                                                                                   |\n",
    "| **brandName**         | The brand name of the clothing.                                                                                |\n",
    "| **brandId**           | Identifier for the brand.                                                                                    |\n",
    "| **skuId**             | Identifier for the product's stock-keeping unit (SKU).                                                        |\n",
    "| **sku**               | Stock-keeping unit of the product.                                                                           |\n",
    "| **skus**              | Additional information about stock-keeping units.                                                             |\n",
    "| **categories**        | Classifications under which the clothing is listed.                                                            |\n",
    "| **attributes**        | Additional details about the product (some missing data in the dataset).                                     |\n",
    "| **isSponsored**       | Indicator of whether the product listing is sponsored.                                                        |\n",
    "| **isAD**              | Indicator of whether the product listing is advertised.                                                       |\n",
    "| **itemSoldCntShow**   | The total number of units sold for each product, indicating popularity and consumer demand.                  |\n",
    "| **itemUrl**           | URL of the product listing, providing a direct link to the product's online page.                             |\n",
    "\n",
    "</center>\n",
    "\n"
   ]
  },
  {
   "cell_type": "markdown",
   "id": "DUc7nSeBgGzo",
   "metadata": {
    "id": "DUc7nSeBgGzo"
   },
   "source": [
    "### Data Scraping Code"
   ]
  },
  {
   "cell_type": "markdown",
   "id": "09f9d3b3-187c-44a1-abaa-064c83dbcf25",
   "metadata": {
    "id": "09f9d3b3-187c-44a1-abaa-064c83dbcf25"
   },
   "source": [
    "#### Main Webscraping Code\n",
    "\n",
    "```python\n",
    "def lazada_scraper(url):\n",
    "    \"\"\"\n",
    "    Scrapes women's garments, specs, and prices from Lazada and returns a pandas DataFrame.\n",
    "    \"\"\"\n",
    "\n",
    "    headers = {\n",
    "        'User-Agent': 'Mozilla/5.0 (Windows NT 10.0; Win64; x64) AppleWebKit/537.36 (KHTML, like Gecko) Chrome/119.0.0.0 Safari/537.36',\n",
    "        'Referer': 'https://www.lazada.com.ph/',\n",
    "        'X-Requested-With': 'XMLHttpRequest'\n",
    "    }\n",
    "\n",
    "    response = requests.get(url, headers=headers)\n",
    "\n",
    "    if response.status_code == 200:\n",
    "        data = response.json()\n",
    "\n",
    "        laptops = []\n",
    "        for item in data['mods']['listItems']:\n",
    "            laptops.append({\n",
    "                \"name_specs\": item.get('name', 'No Name'),\n",
    "                \"nid\": item.get('nid', 'No NID'),\n",
    "                \"itemid\": item.get('itemId', 'No Item ID'),\n",
    "                \"isSmartImage\": bool(item.get('isSmartImage', False)),\n",
    "                \"originalPriceShow\": bool(item.get('originalPriceShow', False)),\n",
    "                \"originalPrice\":  float(item.get('originalPrice', 0)),\n",
    "                \"priceShow\": bool(item.get('priceShow', False)),\n",
    "                \"price\": float(item.get('price', 0)),\n",
    "                \"discount\": float(item.get('discount').replace('% Off', '')) if item.get('discount') else None,\n",
    "                \"ratingScore\": float(item.get('ratingScore', 0)),\n",
    "                \"review\": int(item.get('review')) if item.get('review') and item.get('review').isdigit() else None,\n",
    "                \"location\": item.get('location', 'No location'),\n",
    "                \"description\": '; '.join(map(str, item.get('description', []))),\n",
    "                \"thumb\": len(item.get('thumbs', [])),\n",
    "                \"sellerName\": item.get('sellerName', 'No sellerName'),\n",
    "                \"sellerId\": item.get('sellerId', 'No sellerId'),\n",
    "                \"brandName\": item.get('brandName', 'No brandName'),\n",
    "                \"brandId\": item.get('brandId', 'No brandId'),\n",
    "                \"skuId\": item.get('skuId', 'No skuId'),\n",
    "                \"sku\": item.get('sku', 'No sku'),\n",
    "                \"skus\": '; '.join([str(sku.get('id', '')) for sku in item.get('skus', [])]),\n",
    "                \"categories\": '; '.join(map(str, item.get('categories', []))),\n",
    "                \"attributes\": '; '.join(map(str, item.get('attributes', {}).get('content', []))),\n",
    "                \"isSponsored\": bool(item.get('isSponsored', False)),\n",
    "                \"isAD\": bool(item.get('isAD', False)),\n",
    "                \"itemSoldCntShow\": float(item.get('itemSoldCntShow', '0').replace(',', '').replace('+', '').split(' ')[0]),\n",
    "                \"itemUrl\": item.get('itemUrl', 'itemUrl').lstrip('//')\n",
    "            })\n",
    "\n",
    "        df = pd.DataFrame(laptops)\n",
    "        return df\n",
    "    else:\n",
    "        print(f\"Error: {response.status_code}\")\n",
    "```"
   ]
  },
  {
   "cell_type": "markdown",
   "id": "2002781a-f45d-4d06-91b9-7cb8794a201a",
   "metadata": {
    "id": "2002781a-f45d-4d06-91b9-7cb8794a201a"
   },
   "source": [
    "#### Iteration Code for Each Category\n",
    "\n",
    "```python\n",
    "output_file = 'final_clothes_output.csvfinal_clothes_output.csv'\n",
    "\n",
    "# Initialize an empty DataFrame to create the CSV file with headers\n",
    "columns = [\n",
    "    \"name\",\n",
    "    \"nid\",\n",
    "    \"itemid\",\n",
    "    \"isSmartImage\",\n",
    "    \"originalPriceShow\",\n",
    "    \"originalPrice\",\n",
    "    \"priceShow\",\n",
    "    \"price\",\n",
    "    \"discount\",\n",
    "    \"ratingScore\",\n",
    "    \"review\",\n",
    "    \"location\",\n",
    "    \"description\",\n",
    "    \"thumb\",\n",
    "    \"sellerName\",\n",
    "    \"sellerId\",\n",
    "    \"brandName\",\n",
    "    \"brandId\",\n",
    "    \"skuId\",\n",
    "    \"sku\",\n",
    "    \"skus\",\n",
    "    \"categories\",\n",
    "    \"attributes\",\n",
    "    \"isSponsored\",\n",
    "    \"isAD\",\n",
    "    \"itemSoldCntShow\",\n",
    "    \"itemUrl\"\n",
    "]\n",
    "\n",
    "initial_df = pd.DataFrame(columns=columns)\n",
    "initial_df.to_csv(output_file, index=False)\n",
    "\n",
    "\n",
    "clothes_classification = []\n",
    "\n",
    "# Iterate through 102 pages\n",
    "for page_number in range(1, 103):\n",
    "    url = f'https://www.lazada.com.ph/shop-womens-clothing/?ajax=true&page={page_number}'\n",
    "\n",
    "    #print(page_number)\n",
    "    # Scrape Lazada data and append to the CSV file\n",
    "    df_page = lazada_scraper(url)\n",
    "\n",
    "    # Append the DataFrame to the CSV file\n",
    "    df_page.to_csv(output_file, mode='a', header=not page_number, index=False)\n",
    "\n",
    "    # Sleep for 5 seconds before making the next request\n",
    "    time.sleep(5)\n",
    "```"
   ]
  },
  {
   "cell_type": "markdown",
   "id": "67cc7ddf-2664-40fc-b90c-272e7f00566c",
   "metadata": {},
   "source": [
    "During the scraping process, the LT had encoutered issues when using Jojie as the attempts to scrape was being blocked by Lazada. The workaround done was to run the code in Google Collab. The data set was saved to a csv file and to show a glimpse of the data set refer below:"
   ]
  },
  {
   "cell_type": "code",
   "execution_count": 3,
   "id": "cff8f632-989a-493c-a168-0e4111463bed",
   "metadata": {
    "execution": {
     "iopub.execute_input": "2023-12-06T14:40:16.839220Z",
     "iopub.status.busy": "2023-12-06T14:40:16.838508Z",
     "iopub.status.idle": "2023-12-06T14:40:17.321959Z",
     "shell.execute_reply": "2023-12-06T14:40:17.321168Z",
     "shell.execute_reply.started": "2023-12-06T14:40:16.839151Z"
    },
    "tags": []
   },
   "outputs": [
    {
     "data": {
      "text/html": [
       "<div>\n",
       "<style scoped>\n",
       "    .dataframe tbody tr th:only-of-type {\n",
       "        vertical-align: middle;\n",
       "    }\n",
       "\n",
       "    .dataframe tbody tr th {\n",
       "        vertical-align: top;\n",
       "    }\n",
       "\n",
       "    .dataframe thead th {\n",
       "        text-align: right;\n",
       "    }\n",
       "</style>\n",
       "<table border=\"1\" class=\"dataframe\">\n",
       "  <thead>\n",
       "    <tr style=\"text-align: right;\">\n",
       "      <th></th>\n",
       "      <th>product_category</th>\n",
       "      <th>name</th>\n",
       "      <th>nid</th>\n",
       "      <th>itemid</th>\n",
       "      <th>isSmartImage</th>\n",
       "      <th>originalPriceShow</th>\n",
       "      <th>originalPrice</th>\n",
       "      <th>priceShow</th>\n",
       "      <th>price</th>\n",
       "      <th>discount</th>\n",
       "      <th>...</th>\n",
       "      <th>brandId</th>\n",
       "      <th>skuId</th>\n",
       "      <th>sku</th>\n",
       "      <th>skus</th>\n",
       "      <th>categories</th>\n",
       "      <th>attributes</th>\n",
       "      <th>isSponsored</th>\n",
       "      <th>isAD</th>\n",
       "      <th>itemSoldCntShow</th>\n",
       "      <th>itemUrl</th>\n",
       "    </tr>\n",
       "  </thead>\n",
       "  <tbody>\n",
       "    <tr>\n",
       "      <th>0</th>\n",
       "      <td>womens_casual_shorts</td>\n",
       "      <td>Japanese Basic Shorts Women Shorts Cotton Line...</td>\n",
       "      <td>3250613856</td>\n",
       "      <td>3250613856</td>\n",
       "      <td>False</td>\n",
       "      <td>False</td>\n",
       "      <td>175.0</td>\n",
       "      <td>True</td>\n",
       "      <td>118.0</td>\n",
       "      <td>33.0</td>\n",
       "      <td>...</td>\n",
       "      <td>29872</td>\n",
       "      <td>16366801380</td>\n",
       "      <td>3250613856_PH</td>\n",
       "      <td>3250613856_PH-16366801380; 3250613856_PH-16366...</td>\n",
       "      <td>6851; 7391; 8465; 21258</td>\n",
       "      <td>NaN</td>\n",
       "      <td>False</td>\n",
       "      <td>False</td>\n",
       "      <td>413</td>\n",
       "      <td>www.lazada.com.ph/products/japanese-basic-shor...</td>\n",
       "    </tr>\n",
       "    <tr>\n",
       "      <th>1</th>\n",
       "      <td>womens_casual_shorts</td>\n",
       "      <td>3353 Unisex 2-in-1 Running Shorts Quick Drying...</td>\n",
       "      <td>2704903128</td>\n",
       "      <td>2704903128</td>\n",
       "      <td>False</td>\n",
       "      <td>False</td>\n",
       "      <td>0.0</td>\n",
       "      <td>True</td>\n",
       "      <td>176.0</td>\n",
       "      <td>NaN</td>\n",
       "      <td>...</td>\n",
       "      <td>29872</td>\n",
       "      <td>12925026528</td>\n",
       "      <td>2704903128_PH</td>\n",
       "      <td>2704903128_PH-12925026517; 2704903128_PH-12925...</td>\n",
       "      <td>6851; 7391; 8465; 21258</td>\n",
       "      <td>NaN</td>\n",
       "      <td>False</td>\n",
       "      <td>False</td>\n",
       "      <td>95</td>\n",
       "      <td>www.lazada.com.ph/products/3353-unisex-2-in-1-...</td>\n",
       "    </tr>\n",
       "    <tr>\n",
       "      <th>2</th>\n",
       "      <td>womens_casual_shorts</td>\n",
       "      <td>Apple Blossoms PH Trendy Korean Style Skirt Sh...</td>\n",
       "      <td>1497730856</td>\n",
       "      <td>1497730856</td>\n",
       "      <td>True</td>\n",
       "      <td>False</td>\n",
       "      <td>0.0</td>\n",
       "      <td>True</td>\n",
       "      <td>169.0</td>\n",
       "      <td>NaN</td>\n",
       "      <td>...</td>\n",
       "      <td>29872</td>\n",
       "      <td>14502765382</td>\n",
       "      <td>1497730856_PH</td>\n",
       "      <td>1497730856_PH-14502765382; 1497730856_PH-15337...</td>\n",
       "      <td>6851; 7391; 8465; 21258</td>\n",
       "      <td>NaN</td>\n",
       "      <td>False</td>\n",
       "      <td>False</td>\n",
       "      <td>316</td>\n",
       "      <td>www.lazada.com.ph/products/apple-blossoms-ph-t...</td>\n",
       "    </tr>\n",
       "  </tbody>\n",
       "</table>\n",
       "<p>3 rows × 28 columns</p>\n",
       "</div>"
      ],
      "text/plain": [
       "       product_category                                               name  \\\n",
       "0  womens_casual_shorts  Japanese Basic Shorts Women Shorts Cotton Line...   \n",
       "1  womens_casual_shorts  3353 Unisex 2-in-1 Running Shorts Quick Drying...   \n",
       "2  womens_casual_shorts  Apple Blossoms PH Trendy Korean Style Skirt Sh...   \n",
       "\n",
       "          nid      itemid  isSmartImage  originalPriceShow  originalPrice  \\\n",
       "0  3250613856  3250613856         False              False          175.0   \n",
       "1  2704903128  2704903128         False              False            0.0   \n",
       "2  1497730856  1497730856          True              False            0.0   \n",
       "\n",
       "   priceShow  price  discount  ...  brandId        skuId            sku  \\\n",
       "0       True  118.0      33.0  ...    29872  16366801380  3250613856_PH   \n",
       "1       True  176.0       NaN  ...    29872  12925026528  2704903128_PH   \n",
       "2       True  169.0       NaN  ...    29872  14502765382  1497730856_PH   \n",
       "\n",
       "                                                skus               categories  \\\n",
       "0  3250613856_PH-16366801380; 3250613856_PH-16366...  6851; 7391; 8465; 21258   \n",
       "1  2704903128_PH-12925026517; 2704903128_PH-12925...  6851; 7391; 8465; 21258   \n",
       "2  1497730856_PH-14502765382; 1497730856_PH-15337...  6851; 7391; 8465; 21258   \n",
       "\n",
       "  attributes  isSponsored   isAD  itemSoldCntShow  \\\n",
       "0        NaN        False  False              413   \n",
       "1        NaN        False  False               95   \n",
       "2        NaN        False  False              316   \n",
       "\n",
       "                                             itemUrl  \n",
       "0  www.lazada.com.ph/products/japanese-basic-shor...  \n",
       "1  www.lazada.com.ph/products/3353-unisex-2-in-1-...  \n",
       "2  www.lazada.com.ph/products/apple-blossoms-ph-t...  \n",
       "\n",
       "[3 rows x 28 columns]"
      ]
     },
     "execution_count": 3,
     "metadata": {},
     "output_type": "execute_result"
    }
   ],
   "source": [
    "df = pd.read_csv('final_clothes_output.csv')\n",
    "df.head(3)"
   ]
  },
  {
   "cell_type": "code",
   "execution_count": 4,
   "id": "2910ac56-21be-4e8d-974e-683ebf67bb9f",
   "metadata": {
    "execution": {
     "iopub.execute_input": "2023-12-06T14:40:17.323138Z",
     "iopub.status.busy": "2023-12-06T14:40:17.322881Z",
     "iopub.status.idle": "2023-12-06T14:40:17.329897Z",
     "shell.execute_reply": "2023-12-06T14:40:17.328940Z",
     "shell.execute_reply.started": "2023-12-06T14:40:17.323114Z"
    },
    "tags": []
   },
   "outputs": [
    {
     "data": {
      "text/plain": [
       "(28560, 28)"
      ]
     },
     "execution_count": 4,
     "metadata": {},
     "output_type": "execute_result"
    }
   ],
   "source": [
    "df.shape"
   ]
  },
  {
   "cell_type": "markdown",
   "id": "1f0e17ff-9397-407e-b454-cc46127f078f",
   "metadata": {},
   "source": [
    "As shown above, the dataset extracted has 28,560 rows and 28 columns which came from 7 different women clothing categories with 102 pages extracted each, for each page there are 40 products displayed. For the categories, please refer to the dataframe below."
   ]
  },
  {
   "cell_type": "code",
   "execution_count": 5,
   "id": "2eeed800-7c05-4295-aeca-d8d755ead8a4",
   "metadata": {
    "execution": {
     "iopub.execute_input": "2023-12-06T14:40:17.332384Z",
     "iopub.status.busy": "2023-12-06T14:40:17.332150Z",
     "iopub.status.idle": "2023-12-06T14:40:17.348782Z",
     "shell.execute_reply": "2023-12-06T14:40:17.347614Z",
     "shell.execute_reply.started": "2023-12-06T14:40:17.332364Z"
    },
    "tags": []
   },
   "outputs": [
    {
     "data": {
      "text/html": [
       "<div>\n",
       "<style scoped>\n",
       "    .dataframe tbody tr th:only-of-type {\n",
       "        vertical-align: middle;\n",
       "    }\n",
       "\n",
       "    .dataframe tbody tr th {\n",
       "        vertical-align: top;\n",
       "    }\n",
       "\n",
       "    .dataframe thead th {\n",
       "        text-align: right;\n",
       "    }\n",
       "</style>\n",
       "<table border=\"1\" class=\"dataframe\">\n",
       "  <thead>\n",
       "    <tr style=\"text-align: right;\">\n",
       "      <th></th>\n",
       "      <th>Product Category</th>\n",
       "      <th>Count</th>\n",
       "    </tr>\n",
       "  </thead>\n",
       "  <tbody>\n",
       "    <tr>\n",
       "      <th>0</th>\n",
       "      <td>womens_casual_shorts</td>\n",
       "      <td>4080</td>\n",
       "    </tr>\n",
       "    <tr>\n",
       "      <th>1</th>\n",
       "      <td>womens_dresses</td>\n",
       "      <td>4080</td>\n",
       "    </tr>\n",
       "    <tr>\n",
       "      <th>2</th>\n",
       "      <td>womens_hoodies_sweatshirts</td>\n",
       "      <td>4080</td>\n",
       "    </tr>\n",
       "    <tr>\n",
       "      <th>3</th>\n",
       "      <td>womens_overalls_jumpsuits</td>\n",
       "      <td>4080</td>\n",
       "    </tr>\n",
       "    <tr>\n",
       "      <th>4</th>\n",
       "      <td>womens_clothing_pants</td>\n",
       "      <td>4080</td>\n",
       "    </tr>\n",
       "    <tr>\n",
       "      <th>5</th>\n",
       "      <td>womens_tshirt_tops</td>\n",
       "      <td>4080</td>\n",
       "    </tr>\n",
       "    <tr>\n",
       "      <th>6</th>\n",
       "      <td>womens_skirts</td>\n",
       "      <td>4080</td>\n",
       "    </tr>\n",
       "    <tr>\n",
       "      <th>7</th>\n",
       "      <td>Total</td>\n",
       "      <td>28560</td>\n",
       "    </tr>\n",
       "  </tbody>\n",
       "</table>\n",
       "</div>"
      ],
      "text/plain": [
       "             Product Category  Count\n",
       "0        womens_casual_shorts   4080\n",
       "1              womens_dresses   4080\n",
       "2  womens_hoodies_sweatshirts   4080\n",
       "3   womens_overalls_jumpsuits   4080\n",
       "4       womens_clothing_pants   4080\n",
       "5          womens_tshirt_tops   4080\n",
       "6               womens_skirts   4080\n",
       "7                       Total  28560"
      ]
     },
     "execution_count": 5,
     "metadata": {},
     "output_type": "execute_result"
    }
   ],
   "source": [
    "category_counts = pd.DataFrame(\n",
    "    df['product_category'].value_counts()).reset_index()\n",
    "\n",
    "\n",
    "category_counts.columns = ['Product Category', 'Count']\n",
    "\n",
    "# Add a total row\n",
    "total_row = pd.DataFrame({'Product Category': ['Total'], 'Count': [\n",
    "                         category_counts['Count'].sum()]})\n",
    "category_counts = pd.concat([category_counts, total_row], ignore_index=True)\n",
    "category_counts"
   ]
  },
  {
   "cell_type": "markdown",
   "id": "c8f27c0b-800c-4d1f-833e-0c0ebef2a050",
   "metadata": {
    "execution": {
     "iopub.execute_input": "2023-12-05T09:15:31.229935Z",
     "iopub.status.busy": "2023-12-05T09:15:31.228189Z",
     "iopub.status.idle": "2023-12-05T09:15:31.250843Z",
     "shell.execute_reply": "2023-12-05T09:15:31.248817Z",
     "shell.execute_reply.started": "2023-12-05T09:15:31.229828Z"
    },
    "tags": []
   },
   "source": [
    "## 2) Data Cleaning\n",
    "    \n",
    "The implementation of a thorough data cleaning process serves to streamline data processing, ensuring a seamless and trouble-free experience. This proactive approach not only contributes to the overall smoothness of data operations but also significantly enhances the system's accuracy. Key components of data cleaning, such as the removal of duplicates and special characters, is pivotal in the integrity of the dataset. By eliminating redundancies and irrelevant characters, the data becomes more coherent and ready for processing.\n",
    "\n",
    "1. **Remove Duplicates**\n",
    "\n",
    "    Identify and eliminate duplicate entries based on unique identifiers (`nid`, `itemid`, `skuId`, `sku`) to enhance data integrity"
   ]
  },
  {
   "cell_type": "code",
   "execution_count": 6,
   "id": "ab2918b2-4010-49d1-980e-64cddcd4509a",
   "metadata": {
    "execution": {
     "iopub.execute_input": "2023-12-06T14:40:17.349871Z",
     "iopub.status.busy": "2023-12-06T14:40:17.349645Z",
     "iopub.status.idle": "2023-12-06T14:40:17.359526Z",
     "shell.execute_reply": "2023-12-06T14:40:17.358760Z",
     "shell.execute_reply.started": "2023-12-06T14:40:17.349850Z"
    },
    "tags": []
   },
   "outputs": [
    {
     "name": "stdout",
     "output_type": "stream",
     "text": [
      "nid - Duplicates Removed.\n",
      "Total Records: (12851, 28)\n"
     ]
    }
   ],
   "source": [
    "df_nid_dropped = df.drop_duplicates(subset='nid')\n",
    "print('nid - Duplicates Removed.')\n",
    "print(f'Total Records: {df_nid_dropped.shape}')"
   ]
  },
  {
   "cell_type": "code",
   "execution_count": 7,
   "id": "e1a9ff3a-7c3e-4f0c-87ab-3d75d9806daa",
   "metadata": {
    "execution": {
     "iopub.execute_input": "2023-12-06T14:40:17.360584Z",
     "iopub.status.busy": "2023-12-06T14:40:17.360349Z",
     "iopub.status.idle": "2023-12-06T14:40:17.367855Z",
     "shell.execute_reply": "2023-12-06T14:40:17.367125Z",
     "shell.execute_reply.started": "2023-12-06T14:40:17.360563Z"
    },
    "tags": []
   },
   "outputs": [
    {
     "name": "stdout",
     "output_type": "stream",
     "text": [
      "itemid - Duplicates Removed.\n",
      "Total Records: (12851, 28)\n"
     ]
    }
   ],
   "source": [
    "df_names_dropped = df_nid_dropped.drop_duplicates(subset='itemid')\n",
    "print('itemid - Duplicates Removed.')\n",
    "print(f'Total Records: {df_names_dropped.shape}')"
   ]
  },
  {
   "cell_type": "code",
   "execution_count": 8,
   "id": "afe14404-8efc-452e-aa87-4f5e71c3f984",
   "metadata": {
    "execution": {
     "iopub.execute_input": "2023-12-06T14:40:17.369125Z",
     "iopub.status.busy": "2023-12-06T14:40:17.368895Z",
     "iopub.status.idle": "2023-12-06T14:40:17.377059Z",
     "shell.execute_reply": "2023-12-06T14:40:17.375755Z",
     "shell.execute_reply.started": "2023-12-06T14:40:17.369104Z"
    },
    "tags": []
   },
   "outputs": [
    {
     "name": "stdout",
     "output_type": "stream",
     "text": [
      "skuId- Duplicates Removed.\n",
      "Total Records: (12851, 28)\n"
     ]
    }
   ],
   "source": [
    "df_skuId_dropped = df_names_dropped.drop_duplicates(subset='skuId')\n",
    "print('skuId- Duplicates Removed.')\n",
    "print(f'Total Records: {df_skuId_dropped.shape}')"
   ]
  },
  {
   "cell_type": "code",
   "execution_count": 9,
   "id": "a38d3998-edcd-4f07-8ee3-16d02859ca35",
   "metadata": {
    "execution": {
     "iopub.execute_input": "2023-12-06T14:40:17.378249Z",
     "iopub.status.busy": "2023-12-06T14:40:17.377986Z",
     "iopub.status.idle": "2023-12-06T14:40:17.387003Z",
     "shell.execute_reply": "2023-12-06T14:40:17.385825Z",
     "shell.execute_reply.started": "2023-12-06T14:40:17.378225Z"
    },
    "tags": []
   },
   "outputs": [
    {
     "name": "stdout",
     "output_type": "stream",
     "text": [
      "sku - Duplicates Removed.\n",
      "Total Records: (12851, 28)\n"
     ]
    }
   ],
   "source": [
    "df_sku_dropped = df_skuId_dropped.drop_duplicates(subset='sku')\n",
    "print('sku - Duplicates Removed.')\n",
    "print(f'Total Records: {df_sku_dropped.shape}')"
   ]
  },
  {
   "cell_type": "markdown",
   "id": "3af33a44-1081-45a1-a27f-f4cc1e824ccf",
   "metadata": {},
   "source": [
    "From the previous steps, it is ensured that the product listings are unique from each other. Details for the dataset is shown in the dataframe below, wherein it can be seen that a lot of duplicate products were seen from the pants, dresses, and shorts categories. 42% of the original data set are unique products and it means that certain products are resold and have lots of product listings even if it is pertaining to the same item uniquely identified by its sku."
   ]
  },
  {
   "cell_type": "code",
   "execution_count": 10,
   "id": "b7cb1496-9db9-42b5-99e6-9a42eba977d0",
   "metadata": {
    "execution": {
     "iopub.execute_input": "2023-12-06T14:40:17.388242Z",
     "iopub.status.busy": "2023-12-06T14:40:17.387986Z",
     "iopub.status.idle": "2023-12-06T14:40:17.401412Z",
     "shell.execute_reply": "2023-12-06T14:40:17.400732Z",
     "shell.execute_reply.started": "2023-12-06T14:40:17.388218Z"
    },
    "tags": []
   },
   "outputs": [
    {
     "data": {
      "text/html": [
       "<div>\n",
       "<style scoped>\n",
       "    .dataframe tbody tr th:only-of-type {\n",
       "        vertical-align: middle;\n",
       "    }\n",
       "\n",
       "    .dataframe tbody tr th {\n",
       "        vertical-align: top;\n",
       "    }\n",
       "\n",
       "    .dataframe thead th {\n",
       "        text-align: right;\n",
       "    }\n",
       "</style>\n",
       "<table border=\"1\" class=\"dataframe\">\n",
       "  <thead>\n",
       "    <tr style=\"text-align: right;\">\n",
       "      <th></th>\n",
       "      <th>Product Category</th>\n",
       "      <th>Count</th>\n",
       "    </tr>\n",
       "  </thead>\n",
       "  <tbody>\n",
       "    <tr>\n",
       "      <th>0</th>\n",
       "      <td>womens_skirts</td>\n",
       "      <td>2698</td>\n",
       "    </tr>\n",
       "    <tr>\n",
       "      <th>1</th>\n",
       "      <td>womens_hoodies_sweatshirts</td>\n",
       "      <td>2200</td>\n",
       "    </tr>\n",
       "    <tr>\n",
       "      <th>2</th>\n",
       "      <td>womens_tshirt_tops</td>\n",
       "      <td>2004</td>\n",
       "    </tr>\n",
       "    <tr>\n",
       "      <th>3</th>\n",
       "      <td>womens_overalls_jumpsuits</td>\n",
       "      <td>1973</td>\n",
       "    </tr>\n",
       "    <tr>\n",
       "      <th>4</th>\n",
       "      <td>womens_clothing_pants</td>\n",
       "      <td>1594</td>\n",
       "    </tr>\n",
       "    <tr>\n",
       "      <th>5</th>\n",
       "      <td>womens_dresses</td>\n",
       "      <td>1236</td>\n",
       "    </tr>\n",
       "    <tr>\n",
       "      <th>6</th>\n",
       "      <td>womens_casual_shorts</td>\n",
       "      <td>1146</td>\n",
       "    </tr>\n",
       "    <tr>\n",
       "      <th>7</th>\n",
       "      <td>Total</td>\n",
       "      <td>12851</td>\n",
       "    </tr>\n",
       "  </tbody>\n",
       "</table>\n",
       "</div>"
      ],
      "text/plain": [
       "             Product Category  Count\n",
       "0               womens_skirts   2698\n",
       "1  womens_hoodies_sweatshirts   2200\n",
       "2          womens_tshirt_tops   2004\n",
       "3   womens_overalls_jumpsuits   1973\n",
       "4       womens_clothing_pants   1594\n",
       "5              womens_dresses   1236\n",
       "6        womens_casual_shorts   1146\n",
       "7                       Total  12851"
      ]
     },
     "execution_count": 10,
     "metadata": {},
     "output_type": "execute_result"
    }
   ],
   "source": [
    "filtered_category_counts = pd.DataFrame(\n",
    "    df_sku_dropped['product_category'].value_counts()).reset_index()\n",
    "\n",
    "\n",
    "filtered_category_counts.columns = ['Product Category', 'Count']\n",
    "\n",
    "# Add a total row\n",
    "filtered_total_row = pd.DataFrame({'Product Category': ['Total'], 'Count': [\n",
    "    filtered_category_counts['Count'].sum()]})\n",
    "filtered_category_counts = pd.concat(\n",
    "    [filtered_category_counts, filtered_total_row], ignore_index=True)\n",
    "filtered_category_counts"
   ]
  },
  {
   "cell_type": "markdown",
   "id": "6d0d6419-a0f1-43d3-b741-1c43a6aab3a1",
   "metadata": {
    "execution": {
     "iopub.execute_input": "2023-12-05T09:50:20.947064Z",
     "iopub.status.busy": "2023-12-05T09:50:20.946335Z",
     "iopub.status.idle": "2023-12-05T09:50:20.960610Z",
     "shell.execute_reply": "2023-12-05T09:50:20.958747Z",
     "shell.execute_reply.started": "2023-12-05T09:50:20.947000Z"
    },
    "tags": []
   },
   "source": [
    "\n",
    "2. **Handle Null Values**\n",
    "\n",
    "   Implement strategies to handle null values ensuring completeness in the dataset. Especially for the name and description values which will primarily be the main data that the search for similarity is conducted on.\n",
    "\n",
    "   - Address missing values in numerical columns (`review`, `discount`) by replacing null entries  with default value 0.\n",
    "   - Ensure text columns (`name`, `description`) have string data by replacing null entries with empty strings ('').\n",
    "   - Adjust values based on logical conditions, such as setting `originalPrice` to equal `price` for cases of zero discounts.<br><br>\n",
    "   \n",
    "   ```python\n",
    "        # 0 for numerical values\n",
    "        df['discount'].fillna(0, inplace=True)\n",
    "        df['review'].fillna(0, inplace=True)\n",
    "\n",
    "        # '' for text values\n",
    "        df['attributes'].fillna('', inplace=True)\n",
    "        df['description'].fillna('', inplace=True)\n",
    "\n",
    "        # if discount is 0, use price value for originalPrice\n",
    "        df.loc[df['discount'] == 0, 'originalPrice'] = df['price']\n",
    "    ```\n",
    "    \n",
    "<br>\n"
   ]
  },
  {
   "cell_type": "code",
   "execution_count": 11,
   "id": "9a68120a-0cae-4de6-8b6f-bd4619b7489d",
   "metadata": {
    "execution": {
     "iopub.execute_input": "2023-12-06T14:40:17.402423Z",
     "iopub.status.busy": "2023-12-06T14:40:17.402203Z",
     "iopub.status.idle": "2023-12-06T14:40:17.430047Z",
     "shell.execute_reply": "2023-12-06T14:40:17.428495Z",
     "shell.execute_reply.started": "2023-12-06T14:40:17.402402Z"
    },
    "tags": []
   },
   "outputs": [
    {
     "data": {
      "text/html": [
       "<div>\n",
       "<style scoped>\n",
       "    .dataframe tbody tr th:only-of-type {\n",
       "        vertical-align: middle;\n",
       "    }\n",
       "\n",
       "    .dataframe tbody tr th {\n",
       "        vertical-align: top;\n",
       "    }\n",
       "\n",
       "    .dataframe thead th {\n",
       "        text-align: right;\n",
       "    }\n",
       "</style>\n",
       "<table border=\"1\" class=\"dataframe\">\n",
       "  <thead>\n",
       "    <tr style=\"text-align: right;\">\n",
       "      <th></th>\n",
       "      <th>product_category</th>\n",
       "      <th>name</th>\n",
       "      <th>nid</th>\n",
       "      <th>itemid</th>\n",
       "      <th>isSmartImage</th>\n",
       "      <th>originalPriceShow</th>\n",
       "      <th>originalPrice</th>\n",
       "      <th>priceShow</th>\n",
       "      <th>price</th>\n",
       "      <th>discount</th>\n",
       "      <th>...</th>\n",
       "      <th>brandId</th>\n",
       "      <th>skuId</th>\n",
       "      <th>sku</th>\n",
       "      <th>skus</th>\n",
       "      <th>categories</th>\n",
       "      <th>attributes</th>\n",
       "      <th>isSponsored</th>\n",
       "      <th>isAD</th>\n",
       "      <th>itemSoldCntShow</th>\n",
       "      <th>itemUrl</th>\n",
       "    </tr>\n",
       "  </thead>\n",
       "  <tbody>\n",
       "    <tr>\n",
       "      <th>0</th>\n",
       "      <td>womens_casual_shorts</td>\n",
       "      <td>Japanese Basic Shorts Women Shorts Cotton Line...</td>\n",
       "      <td>3250613856</td>\n",
       "      <td>3250613856</td>\n",
       "      <td>False</td>\n",
       "      <td>False</td>\n",
       "      <td>175.0</td>\n",
       "      <td>True</td>\n",
       "      <td>118.0</td>\n",
       "      <td>33.0</td>\n",
       "      <td>...</td>\n",
       "      <td>29872</td>\n",
       "      <td>16366801380</td>\n",
       "      <td>3250613856_PH</td>\n",
       "      <td>3250613856_PH-16366801380; 3250613856_PH-16366...</td>\n",
       "      <td>6851; 7391; 8465; 21258</td>\n",
       "      <td></td>\n",
       "      <td>False</td>\n",
       "      <td>False</td>\n",
       "      <td>413</td>\n",
       "      <td>www.lazada.com.ph/products/japanese-basic-shor...</td>\n",
       "    </tr>\n",
       "    <tr>\n",
       "      <th>1</th>\n",
       "      <td>womens_casual_shorts</td>\n",
       "      <td>3353 Unisex 2-in-1 Running Shorts Quick Drying...</td>\n",
       "      <td>2704903128</td>\n",
       "      <td>2704903128</td>\n",
       "      <td>False</td>\n",
       "      <td>False</td>\n",
       "      <td>0.0</td>\n",
       "      <td>True</td>\n",
       "      <td>176.0</td>\n",
       "      <td>0.0</td>\n",
       "      <td>...</td>\n",
       "      <td>29872</td>\n",
       "      <td>12925026528</td>\n",
       "      <td>2704903128_PH</td>\n",
       "      <td>2704903128_PH-12925026517; 2704903128_PH-12925...</td>\n",
       "      <td>6851; 7391; 8465; 21258</td>\n",
       "      <td></td>\n",
       "      <td>False</td>\n",
       "      <td>False</td>\n",
       "      <td>95</td>\n",
       "      <td>www.lazada.com.ph/products/3353-unisex-2-in-1-...</td>\n",
       "    </tr>\n",
       "    <tr>\n",
       "      <th>2</th>\n",
       "      <td>womens_casual_shorts</td>\n",
       "      <td>Apple Blossoms PH Trendy Korean Style Skirt Sh...</td>\n",
       "      <td>1497730856</td>\n",
       "      <td>1497730856</td>\n",
       "      <td>True</td>\n",
       "      <td>False</td>\n",
       "      <td>0.0</td>\n",
       "      <td>True</td>\n",
       "      <td>169.0</td>\n",
       "      <td>0.0</td>\n",
       "      <td>...</td>\n",
       "      <td>29872</td>\n",
       "      <td>14502765382</td>\n",
       "      <td>1497730856_PH</td>\n",
       "      <td>1497730856_PH-14502765382; 1497730856_PH-15337...</td>\n",
       "      <td>6851; 7391; 8465; 21258</td>\n",
       "      <td></td>\n",
       "      <td>False</td>\n",
       "      <td>False</td>\n",
       "      <td>316</td>\n",
       "      <td>www.lazada.com.ph/products/apple-blossoms-ph-t...</td>\n",
       "    </tr>\n",
       "    <tr>\n",
       "      <th>3</th>\n",
       "      <td>womens_casual_shorts</td>\n",
       "      <td>Ladies Taslan Rainbow 🌈 Tape Shorts with 2 Poc...</td>\n",
       "      <td>2182005991</td>\n",
       "      <td>2182005991</td>\n",
       "      <td>True</td>\n",
       "      <td>False</td>\n",
       "      <td>99.0</td>\n",
       "      <td>True</td>\n",
       "      <td>87.0</td>\n",
       "      <td>12.0</td>\n",
       "      <td>...</td>\n",
       "      <td>29872</td>\n",
       "      <td>9798133964</td>\n",
       "      <td>2182005991_PH</td>\n",
       "      <td>2182005991_PH-9798133963; 2182005991_PH-979813...</td>\n",
       "      <td>6851; 7391; 8465; 21258</td>\n",
       "      <td>Plus Size; A-Line</td>\n",
       "      <td>False</td>\n",
       "      <td>False</td>\n",
       "      <td>280</td>\n",
       "      <td>www.lazada.com.ph/products/ladies-taslan-rainb...</td>\n",
       "    </tr>\n",
       "  </tbody>\n",
       "</table>\n",
       "<p>4 rows × 28 columns</p>\n",
       "</div>"
      ],
      "text/plain": [
       "       product_category                                               name  \\\n",
       "0  womens_casual_shorts  Japanese Basic Shorts Women Shorts Cotton Line...   \n",
       "1  womens_casual_shorts  3353 Unisex 2-in-1 Running Shorts Quick Drying...   \n",
       "2  womens_casual_shorts  Apple Blossoms PH Trendy Korean Style Skirt Sh...   \n",
       "3  womens_casual_shorts  Ladies Taslan Rainbow 🌈 Tape Shorts with 2 Poc...   \n",
       "\n",
       "          nid      itemid  isSmartImage  originalPriceShow  originalPrice  \\\n",
       "0  3250613856  3250613856         False              False          175.0   \n",
       "1  2704903128  2704903128         False              False            0.0   \n",
       "2  1497730856  1497730856          True              False            0.0   \n",
       "3  2182005991  2182005991          True              False           99.0   \n",
       "\n",
       "   priceShow  price  discount  ...  brandId        skuId            sku  \\\n",
       "0       True  118.0      33.0  ...    29872  16366801380  3250613856_PH   \n",
       "1       True  176.0       0.0  ...    29872  12925026528  2704903128_PH   \n",
       "2       True  169.0       0.0  ...    29872  14502765382  1497730856_PH   \n",
       "3       True   87.0      12.0  ...    29872   9798133964  2182005991_PH   \n",
       "\n",
       "                                                skus               categories  \\\n",
       "0  3250613856_PH-16366801380; 3250613856_PH-16366...  6851; 7391; 8465; 21258   \n",
       "1  2704903128_PH-12925026517; 2704903128_PH-12925...  6851; 7391; 8465; 21258   \n",
       "2  1497730856_PH-14502765382; 1497730856_PH-15337...  6851; 7391; 8465; 21258   \n",
       "3  2182005991_PH-9798133963; 2182005991_PH-979813...  6851; 7391; 8465; 21258   \n",
       "\n",
       "          attributes  isSponsored   isAD  itemSoldCntShow  \\\n",
       "0                           False  False              413   \n",
       "1                           False  False               95   \n",
       "2                           False  False              316   \n",
       "3  Plus Size; A-Line        False  False              280   \n",
       "\n",
       "                                             itemUrl  \n",
       "0  www.lazada.com.ph/products/japanese-basic-shor...  \n",
       "1  www.lazada.com.ph/products/3353-unisex-2-in-1-...  \n",
       "2  www.lazada.com.ph/products/apple-blossoms-ph-t...  \n",
       "3  www.lazada.com.ph/products/ladies-taslan-rainb...  \n",
       "\n",
       "[4 rows x 28 columns]"
      ]
     },
     "execution_count": 11,
     "metadata": {},
     "output_type": "execute_result"
    }
   ],
   "source": [
    "df_dropped_duplicates = df_sku_dropped\n",
    "df_dropped_duplicates['discount'].fillna(0, inplace=True)\n",
    "df_dropped_duplicates['review'].fillna(0, inplace=True)\n",
    "\n",
    "# '' for text values\n",
    "df_dropped_duplicates['attributes'].fillna('', inplace=True)\n",
    "df_dropped_duplicates['description'].fillna('', inplace=True)\n",
    "\n",
    "df_dropped_duplicates.head(4)"
   ]
  },
  {
   "cell_type": "markdown",
   "id": "97bbf914-646d-422b-87ff-5aa698df4cb5",
   "metadata": {
    "execution": {
     "iopub.execute_input": "2023-11-28T21:58:52.053763Z",
     "iopub.status.busy": "2023-11-28T21:58:52.052834Z",
     "iopub.status.idle": "2023-11-28T21:58:52.066986Z",
     "shell.execute_reply": "2023-11-28T21:58:52.064472Z",
     "shell.execute_reply.started": "2023-11-28T21:58:52.053697Z"
    },
    "id": "97bbf914-646d-422b-87ff-5aa698df4cb5",
    "tags": []
   },
   "source": [
    "    \n",
    "<br>\n",
    "\n",
    "\n",
    "3. **Remove Special Characters, Numbers, Extra White Spaces and Lowercasing of string**\n",
    "\n",
    "   Clean textual data, specifically in the `name` and `description` columns, by removing special characters, numbers and white spaces.\n",
    "   \n",
    "   ```python\n",
    "        df['name'] = df['name'].str.replace(r'[^a-zA-Z0-9\\s.\\',\\-_]', ' ').str.replace('\\s+', ' ', regex=True)\n",
    "        df['description'] = df['description'].str.replace(r'[^a-zA-Z0-9\\s.\\',\\-_]', ' ').str.replace('\\s+', ' ', regex=True)\n",
    "    ```\n",
    "    "
   ]
  },
  {
   "cell_type": "markdown",
   "id": "babe7f99-370a-4060-9e77-60b9af566159",
   "metadata": {},
   "source": [
    "The regular expression was used to clean the string. It aims to remove all characters not included in the english alphabet including numbers. It also does the lowercasing of entries to remove the case sensitivity between the matches."
   ]
  },
  {
   "cell_type": "code",
   "execution_count": 12,
   "id": "c5722103-ec4c-44da-85e8-11e4dc00b89a",
   "metadata": {
    "execution": {
     "iopub.execute_input": "2023-12-06T14:40:17.433717Z",
     "iopub.status.busy": "2023-12-06T14:40:17.432284Z",
     "iopub.status.idle": "2023-12-06T14:40:17.595303Z",
     "shell.execute_reply": "2023-12-06T14:40:17.594495Z",
     "shell.execute_reply.started": "2023-12-06T14:40:17.433649Z"
    },
    "tags": []
   },
   "outputs": [],
   "source": [
    "def clean_and_lower(input_string):\n",
    "    '''Retain only alphabetic characters in lowercase.'''\n",
    "    cleaned_string = re.sub(r'[^a-zA-Z\\s]', '', input_string)\n",
    "    return cleaned_string.lower()\n",
    "\n",
    "\n",
    "df_dropped_duplicates['name'] = df_dropped_duplicates['name'].apply(\n",
    "    lambda x: clean_and_lower(x))\n",
    "df_dropped_duplicates['description'] = df_dropped_duplicates[\n",
    "    'description'].apply(lambda x: clean_and_lower(x))\n",
    "\n",
    "df_cleaned = df_dropped_duplicates"
   ]
  },
  {
   "cell_type": "markdown",
   "id": "0d7a2832-5f33-4031-b80b-3b85742db056",
   "metadata": {
    "execution": {
     "iopub.execute_input": "2023-12-05T21:45:35.758998Z",
     "iopub.status.busy": "2023-12-05T21:45:35.758266Z",
     "iopub.status.idle": "2023-12-05T21:45:35.766331Z",
     "shell.execute_reply": "2023-12-05T21:45:35.764635Z",
     "shell.execute_reply.started": "2023-12-05T21:45:35.758934Z"
    },
    "tags": []
   },
   "source": [
    "## 3) Data Vectorization\n",
    "\n",
    "The methodology takes a multi-step approach, starting with lemmatization, efforts are directed towards standardizing the representation of words in both the product at hand and the reference dataset that will be the pool for the product recommendation. This initial step significantly diminishes the diversity of word forms, promoting more simpler and meaningful comparisons. Following lemmatization, the application of **TF-IDF (Term Frequency-Inverse Document Frequency)** comes into play, transforming the lemmatized words into vectors. This dual-stage process not only facilitates the segmentation of text into meaningful units but also generates numerical representations, optimizing the suitability for accurate similarity measurements.\n",
    "\n",
    "Before vectorization of the words found in the name of the product, to simplify the search by similarity the built-in function **WordnetLemmatizer()** was used to transform variations of words to its root word. A standalone function was made for easy understanding as can be seen below.\n"
   ]
  },
  {
   "cell_type": "code",
   "execution_count": 13,
   "id": "421af271-a676-4de2-8dec-bb569dcaf8e4",
   "metadata": {
    "execution": {
     "iopub.execute_input": "2023-12-06T14:40:17.596951Z",
     "iopub.status.busy": "2023-12-06T14:40:17.596688Z",
     "iopub.status.idle": "2023-12-06T14:40:17.601656Z",
     "shell.execute_reply": "2023-12-06T14:40:17.600935Z",
     "shell.execute_reply.started": "2023-12-06T14:40:17.596928Z"
    },
    "tags": []
   },
   "outputs": [],
   "source": [
    "def lemmatize_text(text):\n",
    "    '''Return lemmatized tokens.'''\n",
    "    lemmatizer = WordNetLemmatizer()\n",
    "    tokens = text.split()\n",
    "    lemmatized_tokens = [lemmatizer.lemmatize(token, wordnet.VERB)\n",
    "                         for token in tokens]\n",
    "    return ' '.join(lemmatized_tokens)"
   ]
  },
  {
   "cell_type": "markdown",
   "id": "038c6a3e-2920-4752-a59e-fdfa1ac2aeb7",
   "metadata": {},
   "source": [
    "After an input string is passed through the lemmatize function above, it would then be passed through a function that will do TF-IDF(Term Frequency-Inverse Document Frequency) that will make the strings vectorized. The function is defined below."
   ]
  },
  {
   "cell_type": "code",
   "execution_count": 14,
   "id": "3147a46d-c817-4274-b483-831728faea7b",
   "metadata": {
    "execution": {
     "iopub.execute_input": "2023-12-06T14:40:17.606477Z",
     "iopub.status.busy": "2023-12-06T14:40:17.606030Z",
     "iopub.status.idle": "2023-12-06T14:40:17.610758Z",
     "shell.execute_reply": "2023-12-06T14:40:17.609670Z",
     "shell.execute_reply.started": "2023-12-06T14:40:17.606454Z"
    },
    "tags": []
   },
   "outputs": [],
   "source": [
    "def calculate_tfidf_matrix(data):\n",
    "    '''Return TFIDF matrix of the data.'''\n",
    "    tfidf_vectorizer = TfidfVectorizer(stop_words='english')\n",
    "    return tfidf_vectorizer.fit_transform(data), tfidf_vectorizer"
   ]
  },
  {
   "cell_type": "markdown",
   "id": "9024e013-d36f-4d8c-be64-24f247efdb80",
   "metadata": {
    "execution": {
     "iopub.execute_input": "2023-12-05T21:45:35.758998Z",
     "iopub.status.busy": "2023-12-05T21:45:35.758266Z",
     "iopub.status.idle": "2023-12-05T21:45:35.766331Z",
     "shell.execute_reply": "2023-12-05T21:45:35.764635Z",
     "shell.execute_reply.started": "2023-12-05T21:45:35.758934Z"
    },
    "tags": []
   },
   "source": [
    "## 4) Similarity Measurement\n",
    "After performing the TF-IDF transformation, the next step involves utilizing similarity scoring through cosine similarity and Jaccard similarity. Cosine similarity assesses performance based on the similarity of the directions of two vectors, while Jaccard similarity stems from a focus on the commonality of elements in two sets. These are considered recommended similarity scores for string-based data. By combining these scores, the analogous structures of products can be measured, allowing for an effective identification of similar items within a database.\n",
    "\n",
    "Both cosine similarity and Jaccard similarity functions are defined below.\n",
    "\n",
    "```python\n",
    "def compute_cosine_similarity(target_vector, tfidf_matrix):\n",
    "    '''Calculate cosine similarity.'''\n",
    "    return cosine_similarity(target_vector, tfidf_matrix).flatten()\n",
    "```\n",
    "\n",
    "```python\n",
    "def compute_jaccard_similarity(str1, str2):\n",
    "    '''Calculate jaccard similarity.'''\n",
    "    a = set(str1.split())\n",
    "    b = set(str2.split())\n",
    "    c = a.intersection(b)\n",
    "    return float(len(c)) / (len(a) + len(b) - len(c))\n",
    "```"
   ]
  },
  {
   "cell_type": "code",
   "execution_count": 15,
   "id": "c98cdb6f-a4b8-4ee4-9cfd-7f24a6e69591",
   "metadata": {
    "execution": {
     "iopub.execute_input": "2023-12-06T14:40:17.611776Z",
     "iopub.status.busy": "2023-12-06T14:40:17.611536Z",
     "iopub.status.idle": "2023-12-06T14:40:17.618301Z",
     "shell.execute_reply": "2023-12-06T14:40:17.617264Z",
     "shell.execute_reply.started": "2023-12-06T14:40:17.611755Z"
    },
    "tags": []
   },
   "outputs": [],
   "source": [
    "def compute_cosine_similarity(target_vector, tfidf_matrix):\n",
    "    '''Calculate cosine similarity.'''\n",
    "    return cosine_similarity(target_vector, tfidf_matrix).flatten()"
   ]
  },
  {
   "cell_type": "code",
   "execution_count": 16,
   "id": "ff1c2605-2020-41e4-8d8f-e079efc5da40",
   "metadata": {
    "execution": {
     "iopub.execute_input": "2023-12-06T14:40:17.619747Z",
     "iopub.status.busy": "2023-12-06T14:40:17.619449Z",
     "iopub.status.idle": "2023-12-06T14:40:17.628816Z",
     "shell.execute_reply": "2023-12-06T14:40:17.627316Z",
     "shell.execute_reply.started": "2023-12-06T14:40:17.619720Z"
    },
    "tags": []
   },
   "outputs": [],
   "source": [
    "def compute_jaccard_similarity(str1, str2):\n",
    "    '''Calculate jaccard similarity.'''\n",
    "    a = set(str1.split())\n",
    "    b = set(str2.split())\n",
    "    c = a.intersection(b)\n",
    "    return float(len(c)) / (len(a) + len(b) - len(c))"
   ]
  },
  {
   "cell_type": "markdown",
   "id": "dbb9e0d8-5deb-4526-b13c-4483955a07da",
   "metadata": {
    "execution": {
     "iopub.execute_input": "2023-12-05T21:45:35.758998Z",
     "iopub.status.busy": "2023-12-05T21:45:35.758266Z",
     "iopub.status.idle": "2023-12-05T21:45:35.766331Z",
     "shell.execute_reply": "2023-12-05T21:45:35.764635Z",
     "shell.execute_reply.started": "2023-12-05T21:45:35.758934Z"
    },
    "tags": []
   },
   "source": [
    "## 5) Recommendation Retrieval\n",
    "Both cosine similarity and Jaccard distance has range of values from 0 to 1, with 1 indicating the most similarity between two vectors of interest. Ideally, one would want to both have these measures to be 1 to have a perfect recommendation but in reality, what is being aimed it is to have the closes score to 1.\n",
    "\n",
    "For the retrieval of recommendations, for this particular use case, scoring of similarity utilized both the cosine and Jaccard scores by putting weights for each. By combining the two similarity is expected to increase the value of the similarity of the two titles ([source](https://core.ac.uk/download/pdf/86430721.pdf)).\n",
    "\n",
    "Instead of just basing our recommendation on one similarity score, a combined score was made. The line in the code is as follows :\n"
   ]
  },
  {
   "cell_type": "markdown",
   "id": "307de2eb-88ba-4a3b-ac0a-b38537587660",
   "metadata": {
    "execution": {
     "iopub.execute_input": "2023-12-06T07:15:48.426709Z",
     "iopub.status.busy": "2023-12-06T07:15:48.425921Z",
     "iopub.status.idle": "2023-12-06T07:15:48.466356Z",
     "shell.execute_reply": "2023-12-06T07:15:48.465207Z",
     "shell.execute_reply.started": "2023-12-06T07:15:48.426644Z"
    },
    "tags": []
   },
   "source": [
    "```python\n",
    "    combined_scores = 0.7 * cosine_sim_scores + 0.3 * jaccard_sim_scores\n",
    "```"
   ]
  },
  {
   "cell_type": "markdown",
   "id": "51678912-ad35-4f60-a3b6-7e73cb5ba467",
   "metadata": {},
   "source": [
    "wherein:\n",
    "\n",
    "- `combined_scores` : The score where the ranking will be based\n",
    "\n",
    "- `cosine_sim_scores` : The cosine similarity score.\n",
    "\n",
    "- `jaccard_sim_scores`: The jaccard similarity score.\n",
    "    \n",
    "As to why, 70% is given to the cosine similarity and 30% for the jaccard distance -- cosine similarity could be used for capturing the relevance of documents to a query, while Jaccard similarity might consider the overlap of keywords. A 70-30 combination is what we have deemed to be suitable for this use case.\n",
    "\n",
    "The combined score is now the basis for ranking the product recommendation and is implemented by this line in the code:"
   ]
  },
  {
   "cell_type": "markdown",
   "id": "185159af-b679-4dd3-a512-4660881814f8",
   "metadata": {
    "execution": {
     "iopub.status.busy": "2023-12-06T07:04:29.896642Z",
     "iopub.status.idle": "2023-12-06T07:04:29.896962Z",
     "shell.execute_reply": "2023-12-06T07:04:29.896819Z",
     "shell.execute_reply.started": "2023-12-06T07:04:29.896804Z"
    }
   },
   "source": [
    "```python\n",
    "top_10_products = filtered_df.sort_values(by='combined_similarity', ascending=False).head(10)\n",
    "```"
   ]
  },
  {
   "cell_type": "markdown",
   "id": "5e582ad3-9ee0-426f-833c-c1aba6e89313",
   "metadata": {},
   "source": [
    "## 6) Validation\n",
    "The recommender engine is to be validated by the use of the Cohen's Kappa defined by\n",
    "\n",
    "\\begin{equation}\n",
    "\\kappa = \\frac{P_o - P_e}{1 - P_e}\n",
    "\\end{equation}\n",
    "\n",
    "where:\n",
    "\\begin{align*}\n",
    "P_o & \\text{ is the observed agreement among raters,} \\\\\n",
    "P_e & \\text{ is the expected agreement (chance agreement) among raters.}\n",
    "\\end{align*}\n",
    "\n",
    "This involves manual labelling or manual identification of the recommended product and determining if it can be agreed upon that it is indeed a similar product. There are 4 members of the LT which will all be raters of the recommendation engine."
   ]
  },
  {
   "attachments": {
    "a49e8db4-0cac-41be-b139-982aeb59f88b.jpeg": {
     "image/jpeg": "[encoded data removed]"
    }
   },
   "cell_type": "markdown",
   "id": "6f0aa846-6b22-4fee-be7c-68764b6138b6",
   "metadata": {
    "id": "NXnMJlGdhvdH"
   },
   "source": [
    "<span style=\"display: block; height: 1px; border: 0; border-top: 10px solid #001DB1; margin: 1em 0; padding: 0;\"></span>\n",
    "\n",
    "# <span style=\"color:#FF4922; font-weight:bold\"> RECOMMENDATION ENGINE CODE AND METHODOLOGY </span>\n",
    "\n",
    "\n",
    "A recommendation engine initiates its process by selecting a specific product or reference point. Subsequently, comparisons are made between this starting point and the entire dataset using various methods to identify matches or similarities. This approach allows the recommendation engine to analyze and recommend items that align closely with the chosen reference, providing personalized suggestions based on similarities within the dataset.\n",
    "\n",
    "In this use case, the dataset contains a diverse collection of women's clothing items sourced from the Lazada e-commerce platform. The recommendation process begins by preselecting a particular product or garment from this extensive dataset. Subsequently, the recommendation engine leverages this initial choice to perform similarity measurements therefore yielding the closest garment that is similar to it. This approach ensures that the recommendations are tuned to the characteristics of the initially chosen product.\n",
    "\n",
    "The particular product should of course be a part of the data base.\n",
    "\n",
    "For comparison purposes, Lazada yields two sets of recommendations:\n",
    "\n",
    "    1)First set: 5 Related products that came from the same store as of the selected product\n",
    "    \n",
    "    2)Second set: 10 Related products that are from different store\n",
    "\n",
    "The LT also yielded two sets of recommendations purely based on cosine and jaccard similarity scores to have comparison with Lazada's recommendation.\n",
    "\n",
    "Two main functions were made and it utilized the functions that were described earlier in the document.\n",
    "\n",
    "    recommender_diff_shop is a function that returns the SKUs of 10 closest products based on the combined scores.\n",
    "    recommender_same_shop has same functionality as the recommender_diff_shop only that it offers from the same store.\n",
    "    \n",
    "A flow chart of methodology to be performed for the recommendation engine:\n",
    "\n",
    "![Blank diagram.jpeg](attachment:a49e8db4-0cac-41be-b139-982aeb59f88b.jpeg)\n",
    "\n",
    "Describing further the items that are being displayed in the flowchart:\n",
    "\n",
    "Initialization:\n",
    "\n",
    "1 )Begin with two preselected products (Product 1 and Product \n",
    "    - Selection is needed to determine the similar products.\n",
    "\n",
    "2) Generate Recommendations\n",
    "    - For generating recommendations, it will undergo all the subprocess displayed and discussed earlier in the methodology.\n",
    "    \n",
    "3) Extract Lazada Recommendations\n",
    "    - Extracting recommendations made by Lazada on Products 1 and Products\n",
    "    - It will also undergo the same process as if generating recommendation\n",
    "    - Scores will be computed with\n",
    "4) Comparison of both recommendations\n",
    "    - Comparing the combined scores for both recommendations made by the LT and Lazada\n",
    "    \n",
    "5) Validation of recommedation engine through Cohen's Kappa\n",
    "    - LT members will rate if recommended products are similar.A flow chart of methodology to be performed for the recommendation engine:"
   ]
  },
  {
   "cell_type": "markdown",
   "id": "a7860620-7d03-4ea8-a9e8-ff03a3432d47",
   "metadata": {},
   "source": [
    "### Code: `recommender_diff_shop`\n",
    "\n",
    "\n",
    "This code defines a recommender function, recommender_diff_shop, which takes an input index corresponding to a product in a dataset. It retrieves information about the target product, such as name, SKU, seller, and category. The function then filters the dataset to include products from different sellers within the same category. Using lemmatization and TF-IDF (Term Frequency-Inverse Document Frequency) representation, it calculates cosine and Jaccard similarity scores between the target product and the filtered products. The combined similarity score, a weighted sum of cosine and Jaccard scores, is computed. Finally, the function outputs and displays information about the target product and the top 10 similar products from different sellers based on the combined similarity scores."
   ]
  },
  {
   "cell_type": "code",
   "execution_count": 17,
   "id": "770d0457-3004-402c-8b5d-868d2b3bba8c",
   "metadata": {
    "execution": {
     "iopub.execute_input": "2023-12-06T14:40:17.631164Z",
     "iopub.status.busy": "2023-12-06T14:40:17.630723Z",
     "iopub.status.idle": "2023-12-06T14:40:17.647593Z",
     "shell.execute_reply": "2023-12-06T14:40:17.646286Z",
     "shell.execute_reply.started": "2023-12-06T14:40:17.631126Z"
    },
    "tags": []
   },
   "outputs": [],
   "source": [
    "def recommender_diff_shop(input_index, hide_display=False):\n",
    "    \"\"\"\n",
    "    Return SKUs of products with highest combined score of Jaccard and Cosine \n",
    "    distances from different shops.\n",
    "    \"\"\"\n",
    "\n",
    "    product_index = input_index\n",
    "\n",
    "    product_name = df_cleaned.loc[product_index, 'name']\n",
    "    product_sku = df_cleaned.loc[product_index, 'sku']\n",
    "    product_seller = df_cleaned.loc[product_index, 'sellerName']\n",
    "    product_category = df_cleaned.loc[product_index, 'product_category']\n",
    "\n",
    "    product_info_df = pd.DataFrame({\n",
    "        'Attribute': ['Name', 'SKU', 'Seller', 'Category'],\n",
    "        'Value': [product_name, product_sku, product_seller, product_category]\n",
    "    })\n",
    "\n",
    "    filtered_df = df_cleaned[(df_cleaned['sellerName'] != product_seller) & (\n",
    "        df_cleaned['product_category'] == product_category) &\n",
    "                             (df_cleaned.index != product_index)].copy()\n",
    "\n",
    "    target_clothing = product_name\n",
    "\n",
    "    filtered_df['name'] = filtered_df['name'].str.lower().apply(lemmatize_text)\n",
    "    tfidf_matrix, tfidf_vectorizer = calculate_tfidf_matrix(\n",
    "        filtered_df['name'])\n",
    "\n",
    "    target_vector = tfidf_vectorizer.transform(\n",
    "        [lemmatize_text(target_clothing)])\n",
    "    cosine_sim_scores = compute_cosine_similarity(target_vector, tfidf_matrix)\n",
    "\n",
    "    jaccard_sim_scores = filtered_df['name'].apply(\n",
    "        lambda x: compute_jaccard_similarity(lemmatize_text(target_clothing), x))\n",
    "\n",
    "    combined_scores = 0.7 * cosine_sim_scores + 0.3 * jaccard_sim_scores\n",
    "\n",
    "    filtered_df['cosine_similarity'] = cosine_sim_scores\n",
    "    filtered_df['jaccard_similarity'] = jaccard_sim_scores\n",
    "    filtered_df['combined_similarity'] = combined_scores\n",
    "\n",
    "    top_10_products = filtered_df.sort_values(\n",
    "        by='combined_similarity', ascending=False).head(\n",
    "        10)[['name', 'cosine_similarity', 'jaccard_similarity',\n",
    "             'combined_similarity', 'sku', 'sellerName']]\n",
    "\n",
    "    product_info_reset_index = product_info_df.reset_index(\n",
    "        drop=True)\n",
    "    top_10_products_reset_index = top_10_products.reset_index(drop=True)\n",
    "\n",
    "    if not hide_display:\n",
    "        print(\"Target Product Information:\")\n",
    "\n",
    "        display(product_info_reset_index.style.set_table_styles(\n",
    "            [{'selector': 'table', 'props': 'margin: auto;'}]))\n",
    "\n",
    "        print(\"\\nTop 10 Similar Products from different shops:\")\n",
    "        display(top_10_products_reset_index.style.set_table_styles(\n",
    "            [{'selector': 'table', 'props': 'margin: auto;'}]))\n",
    "\n",
    "    return top_10_products_reset_index"
   ]
  },
  {
   "cell_type": "markdown",
   "id": "26f476fb-53e4-4e00-bdce-3a3afff17d54",
   "metadata": {},
   "source": [
    "### Code: `recommender_same_shop`\n",
    "\n",
    "This code defines a recommender function, recommender_same_shop, which takes an input index corresponding to a product in a dataset. It retrieves information about the target product, such as name, SKU, seller, and category. The function then filters the dataset to include products from the same seller and within the same category but different from the target product. Using lemmatization and TF-IDF representation, it calculates cosine and Jaccard similarity scores between the target product and the filtered products. The combined similarity score, a weighted sum of cosine and Jaccard scores, is computed. Finally, the function outputs and displays information about the target product and the top 5 similar products from the same seller based on the combined similarity scores."
   ]
  },
  {
   "cell_type": "code",
   "execution_count": 18,
   "id": "62197ed6-7a56-46d8-96b8-5fe080f261ba",
   "metadata": {
    "execution": {
     "iopub.execute_input": "2023-12-06T14:40:17.649192Z",
     "iopub.status.busy": "2023-12-06T14:40:17.648882Z",
     "iopub.status.idle": "2023-12-06T14:40:17.661188Z",
     "shell.execute_reply": "2023-12-06T14:40:17.660320Z",
     "shell.execute_reply.started": "2023-12-06T14:40:17.649163Z"
    },
    "tags": []
   },
   "outputs": [],
   "source": [
    "def recommender_same_shop(input_index, hide_display=False):\n",
    "    \"\"\"\n",
    "    Return SKUs of products with highest combined score of Jaccard and Cosine\n",
    "    distances from the same shop.\n",
    "    \"\"\"\n",
    "\n",
    "    product_index = input_index\n",
    "\n",
    "    product_name = df_cleaned.loc[product_index, 'name']\n",
    "    product_sku = df_cleaned.loc[product_index, 'sku']\n",
    "    product_seller = df_cleaned.loc[product_index, 'sellerName']\n",
    "    product_category = df_cleaned.loc[product_index, 'product_category']\n",
    "\n",
    "    product_info_df = pd.DataFrame({\n",
    "        'Attribute': ['Name', 'SKU', 'Seller', 'Category'],\n",
    "        'Value': [product_name, product_sku, product_seller, product_category]\n",
    "    })\n",
    "\n",
    "    filtered_df = df_cleaned[(df_cleaned['sellerName'] == product_seller) & (\n",
    "        df_cleaned['product_category'] == product_category) & (df_cleaned.index != product_index)].copy()\n",
    "\n",
    "    target_clothing = product_name\n",
    "\n",
    "    filtered_df['name'] = filtered_df['name'].str.lower().apply(lemmatize_text)\n",
    "    tfidf_matrix, tfidf_vectorizer = calculate_tfidf_matrix(\n",
    "        filtered_df['name'])\n",
    "\n",
    "    target_vector = tfidf_vectorizer.transform(\n",
    "        [lemmatize_text(target_clothing)])\n",
    "    cosine_sim_scores = compute_cosine_similarity(target_vector, tfidf_matrix)\n",
    "\n",
    "    jaccard_sim_scores = filtered_df['name'].apply(\n",
    "        lambda x: compute_jaccard_similarity(lemmatize_text(target_clothing), x))\n",
    "\n",
    "    combined_scores = 0.7 * cosine_sim_scores + 0.3 * jaccard_sim_scores\n",
    "\n",
    "    filtered_df['cosine_similarity'] = cosine_sim_scores\n",
    "    filtered_df['jaccard_similarity'] = jaccard_sim_scores\n",
    "    filtered_df['combined_similarity'] = combined_scores\n",
    "\n",
    "    top_5_products = filtered_df.sort_values(\n",
    "        by='combined_similarity', ascending=False).head(\n",
    "        5)[['name', 'cosine_similarity', 'jaccard_similarity',\n",
    "            'combined_similarity', 'sku', 'sellerName']]\n",
    "\n",
    "    product_info_reset_index = product_info_df.reset_index(\n",
    "        drop=True)\n",
    "    top_5_products_reset_index = top_5_products.reset_index(drop=True)\n",
    "\n",
    "    if not hide_display:\n",
    "        print(\"Target Product Information:\")\n",
    "        display(product_info_reset_index.style.set_table_styles(\n",
    "            [{'selector': 'table', 'props': 'margin: auto;'}]))\n",
    "\n",
    "        print(\"\\nTop 5 Similar Products from the Same Shop:\")\n",
    "        display(top_5_products_reset_index.style.set_table_styles(\n",
    "            [{'selector': 'table', 'props': 'margin: auto;'}]))\n",
    "\n",
    "    return top_5_products_reset_index"
   ]
  },
  {
   "cell_type": "markdown",
   "id": "607966eb-4cbc-46e6-8664-8c4ee26e6f9a",
   "metadata": {},
   "source": [
    "<hr>\n",
    "\n",
    "<br>\n",
    "\n",
    "There were two products that were randomly selected and confirmed to be still existing in the lazada platform. These are indexed at 10220 and 11494. Details are as follows:"
   ]
  },
  {
   "cell_type": "code",
   "execution_count": 19,
   "id": "9192816f-ce3d-4df9-a096-04ef358e0b19",
   "metadata": {
    "execution": {
     "iopub.execute_input": "2023-12-06T14:40:17.662428Z",
     "iopub.status.busy": "2023-12-06T14:40:17.662127Z",
     "iopub.status.idle": "2023-12-06T14:40:17.746099Z",
     "shell.execute_reply": "2023-12-06T14:40:17.745434Z",
     "shell.execute_reply.started": "2023-12-06T14:40:17.662399Z"
    },
    "tags": []
   },
   "outputs": [
    {
     "name": "stdout",
     "output_type": "stream",
     "text": [
      "Test Product 1 Information:\n"
     ]
    },
    {
     "data": {
      "text/html": [
       "<style type=\"text/css\">\n",
       "#T_b34e3 table {\n",
       "  margin: auto;\n",
       "}\n",
       "</style>\n",
       "<table id=\"T_b34e3\">\n",
       "  <thead>\n",
       "    <tr>\n",
       "      <th class=\"blank level0\" >&nbsp;</th>\n",
       "      <th id=\"T_b34e3_level0_col0\" class=\"col_heading level0 col0\" >Attribute</th>\n",
       "      <th id=\"T_b34e3_level0_col1\" class=\"col_heading level0 col1\" >Value</th>\n",
       "    </tr>\n",
       "  </thead>\n",
       "  <tbody>\n",
       "    <tr>\n",
       "      <th id=\"T_b34e3_level0_row0\" class=\"row_heading level0 row0\" >0</th>\n",
       "      <td id=\"T_b34e3_row0_col0\" class=\"data row0 col0\" >Name</td>\n",
       "      <td id=\"T_b34e3_row0_col1\" class=\"data row0 col1\" >hoodie jacket mint with statement prints longsleeves</td>\n",
       "    </tr>\n",
       "    <tr>\n",
       "      <th id=\"T_b34e3_level0_row1\" class=\"row_heading level0 row1\" >1</th>\n",
       "      <td id=\"T_b34e3_row1_col0\" class=\"data row1 col0\" >SKU</td>\n",
       "      <td id=\"T_b34e3_row1_col1\" class=\"data row1 col1\" >3774982362_PH</td>\n",
       "    </tr>\n",
       "    <tr>\n",
       "      <th id=\"T_b34e3_level0_row2\" class=\"row_heading level0 row2\" >2</th>\n",
       "      <td id=\"T_b34e3_row2_col0\" class=\"data row2 col0\" >Seller</td>\n",
       "      <td id=\"T_b34e3_row2_col1\" class=\"data row2 col1\" >Samara Kloth Supplier</td>\n",
       "    </tr>\n",
       "    <tr>\n",
       "      <th id=\"T_b34e3_level0_row3\" class=\"row_heading level0 row3\" >3</th>\n",
       "      <td id=\"T_b34e3_row3_col0\" class=\"data row3 col0\" >Category</td>\n",
       "      <td id=\"T_b34e3_row3_col1\" class=\"data row3 col1\" >womens_hoodies_sweatshirts</td>\n",
       "    </tr>\n",
       "  </tbody>\n",
       "</table>\n"
      ],
      "text/plain": [
       "<pandas.io.formats.style.Styler at 0x7fbef189f730>"
      ]
     },
     "metadata": {},
     "output_type": "display_data"
    },
    {
     "name": "stdout",
     "output_type": "stream",
     "text": [
      "Test Product 2 Information:\n"
     ]
    },
    {
     "data": {
      "text/html": [
       "<style type=\"text/css\">\n",
       "#T_5cdf3 table {\n",
       "  margin: auto;\n",
       "}\n",
       "</style>\n",
       "<table id=\"T_5cdf3\">\n",
       "  <thead>\n",
       "    <tr>\n",
       "      <th class=\"blank level0\" >&nbsp;</th>\n",
       "      <th id=\"T_5cdf3_level0_col0\" class=\"col_heading level0 col0\" >Attribute</th>\n",
       "      <th id=\"T_5cdf3_level0_col1\" class=\"col_heading level0 col1\" >Value</th>\n",
       "    </tr>\n",
       "  </thead>\n",
       "  <tbody>\n",
       "    <tr>\n",
       "      <th id=\"T_5cdf3_level0_row0\" class=\"row_heading level0 row0\" >0</th>\n",
       "      <td id=\"T_5cdf3_row0_col0\" class=\"data row0 col0\" >Name</td>\n",
       "      <td id=\"T_5cdf3_row0_col1\" class=\"data row0 col1\" >womens sweatshirt with la vinyl print</td>\n",
       "    </tr>\n",
       "    <tr>\n",
       "      <th id=\"T_5cdf3_level0_row1\" class=\"row_heading level0 row1\" >1</th>\n",
       "      <td id=\"T_5cdf3_row1_col0\" class=\"data row1 col0\" >SKU</td>\n",
       "      <td id=\"T_5cdf3_row1_col1\" class=\"data row1 col1\" >2393622729_PH</td>\n",
       "    </tr>\n",
       "    <tr>\n",
       "      <th id=\"T_5cdf3_level0_row2\" class=\"row_heading level0 row2\" >2</th>\n",
       "      <td id=\"T_5cdf3_row2_col0\" class=\"data row2 col0\" >Seller</td>\n",
       "      <td id=\"T_5cdf3_row2_col1\" class=\"data row2 col1\" >K&K RTWs</td>\n",
       "    </tr>\n",
       "    <tr>\n",
       "      <th id=\"T_5cdf3_level0_row3\" class=\"row_heading level0 row3\" >3</th>\n",
       "      <td id=\"T_5cdf3_row3_col0\" class=\"data row3 col0\" >Category</td>\n",
       "      <td id=\"T_5cdf3_row3_col1\" class=\"data row3 col1\" >womens_hoodies_sweatshirts</td>\n",
       "    </tr>\n",
       "  </tbody>\n",
       "</table>\n"
      ],
      "text/plain": [
       "<pandas.io.formats.style.Styler at 0x7fbef189f730>"
      ]
     },
     "metadata": {},
     "output_type": "display_data"
    }
   ],
   "source": [
    "input_index = 10220\n",
    "product_index = input_index\n",
    "\n",
    "product_name = df_cleaned.loc[product_index, 'name']\n",
    "product_sku = df_cleaned.loc[product_index, 'sku']\n",
    "product_seller = df_cleaned.loc[product_index, 'sellerName']\n",
    "product_category = df_cleaned.loc[product_index, 'product_category']\n",
    "\n",
    "product_info_df = pd.DataFrame({\n",
    "        'Attribute': ['Name', 'SKU', 'Seller', 'Category'],\n",
    "        'Value': [product_name, product_sku, product_seller, product_category]\n",
    "    })\n",
    "\n",
    "\n",
    "product_info_reset_index = product_info_df.reset_index(\n",
    "        drop=True)\n",
    "\n",
    "\n",
    "print(\"Test Product 1 Information:\")\n",
    "display(product_info_reset_index.style.set_table_styles(\n",
    "        [{'selector': 'table', 'props': 'margin: auto;'}]))\n",
    "\n",
    "input_index = 11494\n",
    "product_index = input_index\n",
    "\n",
    "product_name = df_cleaned.loc[product_index, 'name']\n",
    "product_sku = df_cleaned.loc[product_index, 'sku']\n",
    "product_seller = df_cleaned.loc[product_index, 'sellerName']\n",
    "product_category = df_cleaned.loc[product_index, 'product_category']\n",
    "\n",
    "product_info_df2 = pd.DataFrame({\n",
    "        'Attribute': ['Name', 'SKU', 'Seller', 'Category'],\n",
    "        'Value': [product_name, product_sku, product_seller, product_category]\n",
    "    })\n",
    "\n",
    "\n",
    "product_info_reset_index2 = product_info_df2.reset_index(\n",
    "        drop=True)\n",
    "\n",
    "print(\"Test Product 2 Information:\")\n",
    "display(product_info_reset_index2.style.set_table_styles(\n",
    "        [{'selector': 'table', 'props': 'margin: auto;'}]))\n"
   ]
  },
  {
   "cell_type": "markdown",
   "id": "8d8fc277-6291-402a-8f82-3b5ea3094f18",
   "metadata": {},
   "source": [
    "<span style=\"display: block; height: 1px; border: 0; border-top: 10px solid #001DB1; margin: 1em 0; padding: 0;\"></span>\n",
    "\n",
    "### Test Product 1: Recommendation from same shop\n",
    "The first test product is classified as a hoodie or a sweatshirt and sold by Samara Kloth Supplier, it is to be expected that all products from the recommendation should be coming from the same shop. From these recommendations, it can be seen that the combined similarity score ranges from 0.43 to 0.65."
   ]
  },
  {
   "cell_type": "code",
   "execution_count": 20,
   "id": "eee3ce90-1dfd-4842-a070-978abb617ee5",
   "metadata": {
    "execution": {
     "iopub.execute_input": "2023-12-06T14:40:17.747241Z",
     "iopub.status.busy": "2023-12-06T14:40:17.746936Z",
     "iopub.status.idle": "2023-12-06T14:40:19.035783Z",
     "shell.execute_reply": "2023-12-06T14:40:19.035045Z",
     "shell.execute_reply.started": "2023-12-06T14:40:17.747218Z"
    },
    "tags": []
   },
   "outputs": [
    {
     "name": "stdout",
     "output_type": "stream",
     "text": [
      "Target Product Information:\n"
     ]
    },
    {
     "data": {
      "text/html": [
       "<style type=\"text/css\">\n",
       "#T_b0a6a table {\n",
       "  margin: auto;\n",
       "}\n",
       "</style>\n",
       "<table id=\"T_b0a6a\">\n",
       "  <thead>\n",
       "    <tr>\n",
       "      <th class=\"blank level0\" >&nbsp;</th>\n",
       "      <th id=\"T_b0a6a_level0_col0\" class=\"col_heading level0 col0\" >Attribute</th>\n",
       "      <th id=\"T_b0a6a_level0_col1\" class=\"col_heading level0 col1\" >Value</th>\n",
       "    </tr>\n",
       "  </thead>\n",
       "  <tbody>\n",
       "    <tr>\n",
       "      <th id=\"T_b0a6a_level0_row0\" class=\"row_heading level0 row0\" >0</th>\n",
       "      <td id=\"T_b0a6a_row0_col0\" class=\"data row0 col0\" >Name</td>\n",
       "      <td id=\"T_b0a6a_row0_col1\" class=\"data row0 col1\" >hoodie jacket mint with statement prints longsleeves</td>\n",
       "    </tr>\n",
       "    <tr>\n",
       "      <th id=\"T_b0a6a_level0_row1\" class=\"row_heading level0 row1\" >1</th>\n",
       "      <td id=\"T_b0a6a_row1_col0\" class=\"data row1 col0\" >SKU</td>\n",
       "      <td id=\"T_b0a6a_row1_col1\" class=\"data row1 col1\" >3774982362_PH</td>\n",
       "    </tr>\n",
       "    <tr>\n",
       "      <th id=\"T_b0a6a_level0_row2\" class=\"row_heading level0 row2\" >2</th>\n",
       "      <td id=\"T_b0a6a_row2_col0\" class=\"data row2 col0\" >Seller</td>\n",
       "      <td id=\"T_b0a6a_row2_col1\" class=\"data row2 col1\" >Samara Kloth Supplier</td>\n",
       "    </tr>\n",
       "    <tr>\n",
       "      <th id=\"T_b0a6a_level0_row3\" class=\"row_heading level0 row3\" >3</th>\n",
       "      <td id=\"T_b0a6a_row3_col0\" class=\"data row3 col0\" >Category</td>\n",
       "      <td id=\"T_b0a6a_row3_col1\" class=\"data row3 col1\" >womens_hoodies_sweatshirts</td>\n",
       "    </tr>\n",
       "  </tbody>\n",
       "</table>\n"
      ],
      "text/plain": [
       "<pandas.io.formats.style.Styler at 0x7fbef0ac5690>"
      ]
     },
     "metadata": {},
     "output_type": "display_data"
    },
    {
     "name": "stdout",
     "output_type": "stream",
     "text": [
      "\n",
      "Top 5 Similar Products from the Same Shop:\n"
     ]
    },
    {
     "data": {
      "text/html": [
       "<style type=\"text/css\">\n",
       "#T_53b9a table {\n",
       "  margin: auto;\n",
       "}\n",
       "</style>\n",
       "<table id=\"T_53b9a\">\n",
       "  <thead>\n",
       "    <tr>\n",
       "      <th class=\"blank level0\" >&nbsp;</th>\n",
       "      <th id=\"T_53b9a_level0_col0\" class=\"col_heading level0 col0\" >name</th>\n",
       "      <th id=\"T_53b9a_level0_col1\" class=\"col_heading level0 col1\" >cosine_similarity</th>\n",
       "      <th id=\"T_53b9a_level0_col2\" class=\"col_heading level0 col2\" >jaccard_similarity</th>\n",
       "      <th id=\"T_53b9a_level0_col3\" class=\"col_heading level0 col3\" >combined_similarity</th>\n",
       "      <th id=\"T_53b9a_level0_col4\" class=\"col_heading level0 col4\" >sku</th>\n",
       "      <th id=\"T_53b9a_level0_col5\" class=\"col_heading level0 col5\" >sellerName</th>\n",
       "    </tr>\n",
       "  </thead>\n",
       "  <tbody>\n",
       "    <tr>\n",
       "      <th id=\"T_53b9a_level0_row0\" class=\"row_heading level0 row0\" >0</th>\n",
       "      <td id=\"T_53b9a_row0_col0\" class=\"data row0 col0\" >mint hoodie jacket statement print hood longsleeves qith subli print</td>\n",
       "      <td id=\"T_53b9a_row0_col1\" class=\"data row0 col1\" >0.669392</td>\n",
       "      <td id=\"T_53b9a_row0_col2\" class=\"data row0 col2\" >0.600000</td>\n",
       "      <td id=\"T_53b9a_row0_col3\" class=\"data row0 col3\" >0.648575</td>\n",
       "      <td id=\"T_53b9a_row0_col4\" class=\"data row0 col4\" >3775006231_PH</td>\n",
       "      <td id=\"T_53b9a_row0_col5\" class=\"data row0 col5\" >Samara Kloth Supplier</td>\n",
       "    </tr>\n",
       "    <tr>\n",
       "      <th id=\"T_53b9a_level0_row1\" class=\"row_heading level0 row1\" >1</th>\n",
       "      <td id=\"T_53b9a_row1_col0\" class=\"data row1 col0\" >statement print hoodie jacket with print</td>\n",
       "      <td id=\"T_53b9a_row1_col1\" class=\"data row1 col1\" >0.536674</td>\n",
       "      <td id=\"T_53b9a_row1_col2\" class=\"data row1 col2\" >0.714286</td>\n",
       "      <td id=\"T_53b9a_row1_col3\" class=\"data row1 col3\" >0.589958</td>\n",
       "      <td id=\"T_53b9a_row1_col4\" class=\"data row1 col4\" >3775018165_PH</td>\n",
       "      <td id=\"T_53b9a_row1_col5\" class=\"data row1 col5\" >Samara Kloth Supplier</td>\n",
       "    </tr>\n",
       "    <tr>\n",
       "      <th id=\"T_53b9a_level0_row2\" class=\"row_heading level0 row2\" >2</th>\n",
       "      <td id=\"T_53b9a_row2_col0\" class=\"data row2 col0\" >hoodie jacket print</td>\n",
       "      <td id=\"T_53b9a_row2_col1\" class=\"data row2 col1\" >0.475109</td>\n",
       "      <td id=\"T_53b9a_row2_col2\" class=\"data row2 col2\" >0.428571</td>\n",
       "      <td id=\"T_53b9a_row2_col3\" class=\"data row2 col3\" >0.461147</td>\n",
       "      <td id=\"T_53b9a_row2_col4\" class=\"data row2 col4\" >3636457193_PH</td>\n",
       "      <td id=\"T_53b9a_row2_col5\" class=\"data row2 col5\" >Samara Kloth Supplier</td>\n",
       "    </tr>\n",
       "    <tr>\n",
       "      <th id=\"T_53b9a_level0_row3\" class=\"row_heading level0 row3\" >3</th>\n",
       "      <td id=\"T_53b9a_row3_col0\" class=\"data row3 col0\" >hoodie jacket print</td>\n",
       "      <td id=\"T_53b9a_row3_col1\" class=\"data row3 col1\" >0.475109</td>\n",
       "      <td id=\"T_53b9a_row3_col2\" class=\"data row3 col2\" >0.428571</td>\n",
       "      <td id=\"T_53b9a_row3_col3\" class=\"data row3 col3\" >0.461147</td>\n",
       "      <td id=\"T_53b9a_row3_col4\" class=\"data row3 col4\" >3303099546_PH</td>\n",
       "      <td id=\"T_53b9a_row3_col5\" class=\"data row3 col5\" >Samara Kloth Supplier</td>\n",
       "    </tr>\n",
       "    <tr>\n",
       "      <th id=\"T_53b9a_level0_row4\" class=\"row_heading level0 row4\" >4</th>\n",
       "      <td id=\"T_53b9a_row4_col0\" class=\"data row4 col0\" >hoodie jacket print</td>\n",
       "      <td id=\"T_53b9a_row4_col1\" class=\"data row4 col1\" >0.475109</td>\n",
       "      <td id=\"T_53b9a_row4_col2\" class=\"data row4 col2\" >0.428571</td>\n",
       "      <td id=\"T_53b9a_row4_col3\" class=\"data row4 col3\" >0.461147</td>\n",
       "      <td id=\"T_53b9a_row4_col4\" class=\"data row4 col4\" >3625023849_PH</td>\n",
       "      <td id=\"T_53b9a_row4_col5\" class=\"data row4 col5\" >Samara Kloth Supplier</td>\n",
       "    </tr>\n",
       "  </tbody>\n",
       "</table>\n"
      ],
      "text/plain": [
       "<pandas.io.formats.style.Styler at 0x7fbef0ac5090>"
      ]
     },
     "metadata": {},
     "output_type": "display_data"
    }
   ],
   "source": [
    "_=recommender_same_shop(10220)"
   ]
  },
  {
   "cell_type": "markdown",
   "id": "e91dcb80-c3b1-4a3d-b12d-fec807013124",
   "metadata": {},
   "source": [
    "<span style=\"display: block; height: 1px; border: 0; border-top: 10px solid #001DB1; margin: 1em 0; padding: 0;\"></span>\n",
    "\n",
    "### Test Product 1: Recommendation from different shops\n",
    "Using the same product, it is now time to look at the different recommendations from other sellers with the same clothing category. It should be expected that there are no seller that would be the same with the seller of the selected product. Similarity score ranges from 0.41 to 0.53."
   ]
  },
  {
   "cell_type": "code",
   "execution_count": 21,
   "id": "32757a8a-4be9-4b35-abd8-e5056586ee47",
   "metadata": {
    "execution": {
     "iopub.execute_input": "2023-12-06T14:40:19.037128Z",
     "iopub.status.busy": "2023-12-06T14:40:19.036887Z",
     "iopub.status.idle": "2023-12-06T14:40:19.207197Z",
     "shell.execute_reply": "2023-12-06T14:40:19.206467Z",
     "shell.execute_reply.started": "2023-12-06T14:40:19.037107Z"
    },
    "tags": []
   },
   "outputs": [
    {
     "name": "stdout",
     "output_type": "stream",
     "text": [
      "Target Product Information:\n"
     ]
    },
    {
     "data": {
      "text/html": [
       "<style type=\"text/css\">\n",
       "#T_43ae3 table {\n",
       "  margin: auto;\n",
       "}\n",
       "</style>\n",
       "<table id=\"T_43ae3\">\n",
       "  <thead>\n",
       "    <tr>\n",
       "      <th class=\"blank level0\" >&nbsp;</th>\n",
       "      <th id=\"T_43ae3_level0_col0\" class=\"col_heading level0 col0\" >Attribute</th>\n",
       "      <th id=\"T_43ae3_level0_col1\" class=\"col_heading level0 col1\" >Value</th>\n",
       "    </tr>\n",
       "  </thead>\n",
       "  <tbody>\n",
       "    <tr>\n",
       "      <th id=\"T_43ae3_level0_row0\" class=\"row_heading level0 row0\" >0</th>\n",
       "      <td id=\"T_43ae3_row0_col0\" class=\"data row0 col0\" >Name</td>\n",
       "      <td id=\"T_43ae3_row0_col1\" class=\"data row0 col1\" >hoodie jacket mint with statement prints longsleeves</td>\n",
       "    </tr>\n",
       "    <tr>\n",
       "      <th id=\"T_43ae3_level0_row1\" class=\"row_heading level0 row1\" >1</th>\n",
       "      <td id=\"T_43ae3_row1_col0\" class=\"data row1 col0\" >SKU</td>\n",
       "      <td id=\"T_43ae3_row1_col1\" class=\"data row1 col1\" >3774982362_PH</td>\n",
       "    </tr>\n",
       "    <tr>\n",
       "      <th id=\"T_43ae3_level0_row2\" class=\"row_heading level0 row2\" >2</th>\n",
       "      <td id=\"T_43ae3_row2_col0\" class=\"data row2 col0\" >Seller</td>\n",
       "      <td id=\"T_43ae3_row2_col1\" class=\"data row2 col1\" >Samara Kloth Supplier</td>\n",
       "    </tr>\n",
       "    <tr>\n",
       "      <th id=\"T_43ae3_level0_row3\" class=\"row_heading level0 row3\" >3</th>\n",
       "      <td id=\"T_43ae3_row3_col0\" class=\"data row3 col0\" >Category</td>\n",
       "      <td id=\"T_43ae3_row3_col1\" class=\"data row3 col1\" >womens_hoodies_sweatshirts</td>\n",
       "    </tr>\n",
       "  </tbody>\n",
       "</table>\n"
      ],
      "text/plain": [
       "<pandas.io.formats.style.Styler at 0x7fbef0e5fee0>"
      ]
     },
     "metadata": {},
     "output_type": "display_data"
    },
    {
     "name": "stdout",
     "output_type": "stream",
     "text": [
      "\n",
      "Top 10 Similar Products from different shops:\n"
     ]
    },
    {
     "data": {
      "text/html": [
       "<style type=\"text/css\">\n",
       "#T_e008d table {\n",
       "  margin: auto;\n",
       "}\n",
       "</style>\n",
       "<table id=\"T_e008d\">\n",
       "  <thead>\n",
       "    <tr>\n",
       "      <th class=\"blank level0\" >&nbsp;</th>\n",
       "      <th id=\"T_e008d_level0_col0\" class=\"col_heading level0 col0\" >name</th>\n",
       "      <th id=\"T_e008d_level0_col1\" class=\"col_heading level0 col1\" >cosine_similarity</th>\n",
       "      <th id=\"T_e008d_level0_col2\" class=\"col_heading level0 col2\" >jaccard_similarity</th>\n",
       "      <th id=\"T_e008d_level0_col3\" class=\"col_heading level0 col3\" >combined_similarity</th>\n",
       "      <th id=\"T_e008d_level0_col4\" class=\"col_heading level0 col4\" >sku</th>\n",
       "      <th id=\"T_e008d_level0_col5\" class=\"col_heading level0 col5\" >sellerName</th>\n",
       "    </tr>\n",
       "  </thead>\n",
       "  <tbody>\n",
       "    <tr>\n",
       "      <th id=\"T_e008d_level0_row0\" class=\"row_heading level0 row0\" >0</th>\n",
       "      <td id=\"T_e008d_row0_col0\" class=\"data row0 col0\" >hoodie jacket vinyl print statement aesthetic print</td>\n",
       "      <td id=\"T_e008d_row0_col1\" class=\"data row0 col1\" >0.572457</td>\n",
       "      <td id=\"T_e008d_row0_col2\" class=\"data row0 col2\" >0.444444</td>\n",
       "      <td id=\"T_e008d_row0_col3\" class=\"data row0 col3\" >0.534053</td>\n",
       "      <td id=\"T_e008d_row0_col4\" class=\"data row0 col4\" >4055778143_PH</td>\n",
       "      <td id=\"T_e008d_row0_col5\" class=\"data row0 col5\" >Happy Hoodie</td>\n",
       "    </tr>\n",
       "    <tr>\n",
       "      <th id=\"T_e008d_level0_row1\" class=\"row_heading level0 row1\" >1</th>\n",
       "      <td id=\"T_e008d_row1_col0\" class=\"data row1 col0\" >pullover longsleeves with print</td>\n",
       "      <td id=\"T_e008d_row1_col1\" class=\"data row1 col1\" >0.565757</td>\n",
       "      <td id=\"T_e008d_row1_col2\" class=\"data row1 col2\" >0.375000</td>\n",
       "      <td id=\"T_e008d_row1_col3\" class=\"data row1 col3\" >0.508530</td>\n",
       "      <td id=\"T_e008d_row1_col4\" class=\"data row1 col4\" >3303627543_PH</td>\n",
       "      <td id=\"T_e008d_row1_col5\" class=\"data row1 col5\" >Kloth PH</td>\n",
       "    </tr>\n",
       "    <tr>\n",
       "      <th id=\"T_e008d_level0_row2\" class=\"row_heading level0 row2\" >2</th>\n",
       "      <td id=\"T_e008d_row2_col0\" class=\"data row2 col0\" >crophoodie jacket print longsleeves</td>\n",
       "      <td id=\"T_e008d_row2_col1\" class=\"data row2 col1\" >0.547539</td>\n",
       "      <td id=\"T_e008d_row2_col2\" class=\"data row2 col2\" >0.375000</td>\n",
       "      <td id=\"T_e008d_row2_col3\" class=\"data row2 col3\" >0.495778</td>\n",
       "      <td id=\"T_e008d_row2_col4\" class=\"data row2 col4\" >3775271223_PH</td>\n",
       "      <td id=\"T_e008d_row2_col5\" class=\"data row2 col5\" >Happy Hoodie</td>\n",
       "    </tr>\n",
       "    <tr>\n",
       "      <th id=\"T_e008d_level0_row3\" class=\"row_heading level0 row3\" >3</th>\n",
       "      <td id=\"T_e008d_row3_col0\" class=\"data row3 col0\" >pullover longsleeves print</td>\n",
       "      <td id=\"T_e008d_row3_col1\" class=\"data row3 col1\" >0.565757</td>\n",
       "      <td id=\"T_e008d_row3_col2\" class=\"data row3 col2\" >0.250000</td>\n",
       "      <td id=\"T_e008d_row3_col3\" class=\"data row3 col3\" >0.471030</td>\n",
       "      <td id=\"T_e008d_row3_col4\" class=\"data row3 col4\" >3627811552_PH</td>\n",
       "      <td id=\"T_e008d_row3_col5\" class=\"data row3 col5\" >Zam-zam Online Shop</td>\n",
       "    </tr>\n",
       "    <tr>\n",
       "      <th id=\"T_e008d_level0_row4\" class=\"row_heading level0 row4\" >4</th>\n",
       "      <td id=\"T_e008d_row4_col0\" class=\"data row4 col0\" >pullover longsleeves print</td>\n",
       "      <td id=\"T_e008d_row4_col1\" class=\"data row4 col1\" >0.565757</td>\n",
       "      <td id=\"T_e008d_row4_col2\" class=\"data row4 col2\" >0.250000</td>\n",
       "      <td id=\"T_e008d_row4_col3\" class=\"data row4 col3\" >0.471030</td>\n",
       "      <td id=\"T_e008d_row4_col4\" class=\"data row4 col4\" >3627514787_PH</td>\n",
       "      <td id=\"T_e008d_row4_col5\" class=\"data row4 col5\" >SAMfinds</td>\n",
       "    </tr>\n",
       "    <tr>\n",
       "      <th id=\"T_e008d_level0_row5\" class=\"row_heading level0 row5\" >5</th>\n",
       "      <td id=\"T_e008d_row5_col0\" class=\"data row5 col0\" >pullover longsleeves print</td>\n",
       "      <td id=\"T_e008d_row5_col1\" class=\"data row5 col1\" >0.565757</td>\n",
       "      <td id=\"T_e008d_row5_col2\" class=\"data row5 col2\" >0.250000</td>\n",
       "      <td id=\"T_e008d_row5_col3\" class=\"data row5 col3\" >0.471030</td>\n",
       "      <td id=\"T_e008d_row5_col4\" class=\"data row5 col4\" >3627795483_PH</td>\n",
       "      <td id=\"T_e008d_row5_col5\" class=\"data row5 col5\" >Zam-zam Online Shop</td>\n",
       "    </tr>\n",
       "    <tr>\n",
       "      <th id=\"T_e008d_level0_row6\" class=\"row_heading level0 row6\" >6</th>\n",
       "      <td id=\"T_e008d_row6_col0\" class=\"data row6 col0\" >statement croptop pullover hoodie</td>\n",
       "      <td id=\"T_e008d_row6_col1\" class=\"data row6 col1\" >0.573882</td>\n",
       "      <td id=\"T_e008d_row6_col2\" class=\"data row6 col2\" >0.222222</td>\n",
       "      <td id=\"T_e008d_row6_col3\" class=\"data row6 col3\" >0.468384</td>\n",
       "      <td id=\"T_e008d_row6_col4\" class=\"data row6 col4\" >331650709_PH</td>\n",
       "      <td id=\"T_e008d_row6_col5\" class=\"data row6 col5\" >Fashion Express</td>\n",
       "    </tr>\n",
       "    <tr>\n",
       "      <th id=\"T_e008d_level0_row7\" class=\"row_heading level0 row7\" >7</th>\n",
       "      <td id=\"T_e008d_row7_col0\" class=\"data row7 col0\" >trendy statement croptop pullover hoodie jacket</td>\n",
       "      <td id=\"T_e008d_row7_col1\" class=\"data row7 col1\" >0.537779</td>\n",
       "      <td id=\"T_e008d_row7_col2\" class=\"data row7 col2\" >0.300000</td>\n",
       "      <td id=\"T_e008d_row7_col3\" class=\"data row7 col3\" >0.466445</td>\n",
       "      <td id=\"T_e008d_row7_col4\" class=\"data row7 col4\" >378552353_PH</td>\n",
       "      <td id=\"T_e008d_row7_col5\" class=\"data row7 col5\" >Fashion Express</td>\n",
       "    </tr>\n",
       "    <tr>\n",
       "      <th id=\"T_e008d_level0_row8\" class=\"row_heading level0 row8\" >8</th>\n",
       "      <td id=\"T_e008d_row8_col0\" class=\"data row8 col0\" >trendy statement croptop pullover hoodie jacket</td>\n",
       "      <td id=\"T_e008d_row8_col1\" class=\"data row8 col1\" >0.537779</td>\n",
       "      <td id=\"T_e008d_row8_col2\" class=\"data row8 col2\" >0.300000</td>\n",
       "      <td id=\"T_e008d_row8_col3\" class=\"data row8 col3\" >0.466445</td>\n",
       "      <td id=\"T_e008d_row8_col4\" class=\"data row8 col4\" >377302487_PH</td>\n",
       "      <td id=\"T_e008d_row8_col5\" class=\"data row8 col5\" >Fashion Express</td>\n",
       "    </tr>\n",
       "    <tr>\n",
       "      <th id=\"T_e008d_level0_row9\" class=\"row_heading level0 row9\" >9</th>\n",
       "      <td id=\"T_e008d_row9_col0\" class=\"data row9 col0\" >trendy statement croptop pullover hoodie jacket</td>\n",
       "      <td id=\"T_e008d_row9_col1\" class=\"data row9 col1\" >0.537779</td>\n",
       "      <td id=\"T_e008d_row9_col2\" class=\"data row9 col2\" >0.300000</td>\n",
       "      <td id=\"T_e008d_row9_col3\" class=\"data row9 col3\" >0.466445</td>\n",
       "      <td id=\"T_e008d_row9_col4\" class=\"data row9 col4\" >377280805_PH</td>\n",
       "      <td id=\"T_e008d_row9_col5\" class=\"data row9 col5\" >Fashion Express</td>\n",
       "    </tr>\n",
       "  </tbody>\n",
       "</table>\n"
      ],
      "text/plain": [
       "<pandas.io.formats.style.Styler at 0x7fbef0e5ef50>"
      ]
     },
     "metadata": {},
     "output_type": "display_data"
    }
   ],
   "source": [
    "_=recommender_diff_shop(10220)"
   ]
  },
  {
   "cell_type": "markdown",
   "id": "98f3a628-765b-4c52-971b-5849dc1af476",
   "metadata": {
    "execution": {
     "iopub.execute_input": "2023-12-06T03:28:20.326991Z",
     "iopub.status.busy": "2023-12-06T03:28:20.326059Z",
     "iopub.status.idle": "2023-12-06T03:28:20.334020Z",
     "shell.execute_reply": "2023-12-06T03:28:20.332236Z",
     "shell.execute_reply.started": "2023-12-06T03:28:20.326928Z"
    },
    "tags": []
   },
   "source": [
    "<span style=\"display: block; height: 1px; border: 0; border-top: 10px solid #001DB1; margin: 1em 0; padding: 0;\"></span>\n",
    "\n",
    "### Test Product 2: Recommendation from same shop\n",
    "The second test product has the same classification as the first test product. It can be seen that some related products have very high similarity and some have low similarity scores, with range from 0.24 to 0.86."
   ]
  },
  {
   "cell_type": "code",
   "execution_count": 22,
   "id": "f64a2842-d8fa-4af6-9881-30842791b87b",
   "metadata": {
    "execution": {
     "iopub.execute_input": "2023-12-06T14:40:19.208560Z",
     "iopub.status.busy": "2023-12-06T14:40:19.208259Z",
     "iopub.status.idle": "2023-12-06T14:40:19.235882Z",
     "shell.execute_reply": "2023-12-06T14:40:19.235149Z",
     "shell.execute_reply.started": "2023-12-06T14:40:19.208537Z"
    },
    "tags": []
   },
   "outputs": [
    {
     "name": "stdout",
     "output_type": "stream",
     "text": [
      "Target Product Information:\n"
     ]
    },
    {
     "data": {
      "text/html": [
       "<style type=\"text/css\">\n",
       "#T_7a2c0 table {\n",
       "  margin: auto;\n",
       "}\n",
       "</style>\n",
       "<table id=\"T_7a2c0\">\n",
       "  <thead>\n",
       "    <tr>\n",
       "      <th class=\"blank level0\" >&nbsp;</th>\n",
       "      <th id=\"T_7a2c0_level0_col0\" class=\"col_heading level0 col0\" >Attribute</th>\n",
       "      <th id=\"T_7a2c0_level0_col1\" class=\"col_heading level0 col1\" >Value</th>\n",
       "    </tr>\n",
       "  </thead>\n",
       "  <tbody>\n",
       "    <tr>\n",
       "      <th id=\"T_7a2c0_level0_row0\" class=\"row_heading level0 row0\" >0</th>\n",
       "      <td id=\"T_7a2c0_row0_col0\" class=\"data row0 col0\" >Name</td>\n",
       "      <td id=\"T_7a2c0_row0_col1\" class=\"data row0 col1\" >womens sweatshirt with la vinyl print</td>\n",
       "    </tr>\n",
       "    <tr>\n",
       "      <th id=\"T_7a2c0_level0_row1\" class=\"row_heading level0 row1\" >1</th>\n",
       "      <td id=\"T_7a2c0_row1_col0\" class=\"data row1 col0\" >SKU</td>\n",
       "      <td id=\"T_7a2c0_row1_col1\" class=\"data row1 col1\" >2393622729_PH</td>\n",
       "    </tr>\n",
       "    <tr>\n",
       "      <th id=\"T_7a2c0_level0_row2\" class=\"row_heading level0 row2\" >2</th>\n",
       "      <td id=\"T_7a2c0_row2_col0\" class=\"data row2 col0\" >Seller</td>\n",
       "      <td id=\"T_7a2c0_row2_col1\" class=\"data row2 col1\" >K&K RTWs</td>\n",
       "    </tr>\n",
       "    <tr>\n",
       "      <th id=\"T_7a2c0_level0_row3\" class=\"row_heading level0 row3\" >3</th>\n",
       "      <td id=\"T_7a2c0_row3_col0\" class=\"data row3 col0\" >Category</td>\n",
       "      <td id=\"T_7a2c0_row3_col1\" class=\"data row3 col1\" >womens_hoodies_sweatshirts</td>\n",
       "    </tr>\n",
       "  </tbody>\n",
       "</table>\n"
      ],
      "text/plain": [
       "<pandas.io.formats.style.Styler at 0x7fbef0ea9270>"
      ]
     },
     "metadata": {},
     "output_type": "display_data"
    },
    {
     "name": "stdout",
     "output_type": "stream",
     "text": [
      "\n",
      "Top 5 Similar Products from the Same Shop:\n"
     ]
    },
    {
     "data": {
      "text/html": [
       "<style type=\"text/css\">\n",
       "#T_3df6e table {\n",
       "  margin: auto;\n",
       "}\n",
       "</style>\n",
       "<table id=\"T_3df6e\">\n",
       "  <thead>\n",
       "    <tr>\n",
       "      <th class=\"blank level0\" >&nbsp;</th>\n",
       "      <th id=\"T_3df6e_level0_col0\" class=\"col_heading level0 col0\" >name</th>\n",
       "      <th id=\"T_3df6e_level0_col1\" class=\"col_heading level0 col1\" >cosine_similarity</th>\n",
       "      <th id=\"T_3df6e_level0_col2\" class=\"col_heading level0 col2\" >jaccard_similarity</th>\n",
       "      <th id=\"T_3df6e_level0_col3\" class=\"col_heading level0 col3\" >combined_similarity</th>\n",
       "      <th id=\"T_3df6e_level0_col4\" class=\"col_heading level0 col4\" >sku</th>\n",
       "      <th id=\"T_3df6e_level0_col5\" class=\"col_heading level0 col5\" >sellerName</th>\n",
       "    </tr>\n",
       "  </thead>\n",
       "  <tbody>\n",
       "    <tr>\n",
       "      <th id=\"T_3df6e_level0_row0\" class=\"row_heading level0 row0\" >0</th>\n",
       "      <td id=\"T_3df6e_row0_col0\" class=\"data row0 col0\" >womens hoodie sweatshirt with vinyl print</td>\n",
       "      <td id=\"T_3df6e_row0_col1\" class=\"data row0 col1\" >0.934780</td>\n",
       "      <td id=\"T_3df6e_row0_col2\" class=\"data row0 col2\" >0.714286</td>\n",
       "      <td id=\"T_3df6e_row0_col3\" class=\"data row0 col3\" >0.868631</td>\n",
       "      <td id=\"T_3df6e_row0_col4\" class=\"data row0 col4\" >2406725317_PH</td>\n",
       "      <td id=\"T_3df6e_row0_col5\" class=\"data row0 col5\" >K&K RTWs</td>\n",
       "    </tr>\n",
       "    <tr>\n",
       "      <th id=\"T_3df6e_level0_row1\" class=\"row_heading level0 row1\" >1</th>\n",
       "      <td id=\"T_3df6e_row1_col0\" class=\"data row1 col0\" >unisex hoodie sweatshirt with vinyl print</td>\n",
       "      <td id=\"T_3df6e_row1_col1\" class=\"data row1 col1\" >0.652047</td>\n",
       "      <td id=\"T_3df6e_row1_col2\" class=\"data row1 col2\" >0.500000</td>\n",
       "      <td id=\"T_3df6e_row1_col3\" class=\"data row1 col3\" >0.606433</td>\n",
       "      <td id=\"T_3df6e_row1_col4\" class=\"data row1 col4\" >2389885891_PH</td>\n",
       "      <td id=\"T_3df6e_row1_col5\" class=\"data row1 col5\" >K&K RTWs</td>\n",
       "    </tr>\n",
       "    <tr>\n",
       "      <th id=\"T_3df6e_level0_row2\" class=\"row_heading level0 row2\" >2</th>\n",
       "      <td id=\"T_3df6e_row2_col0\" class=\"data row2 col0\" >womens sweatshirt with pocket</td>\n",
       "      <td id=\"T_3df6e_row2_col1\" class=\"data row2 col1\" >0.507025</td>\n",
       "      <td id=\"T_3df6e_row2_col2\" class=\"data row2 col2\" >0.428571</td>\n",
       "      <td id=\"T_3df6e_row2_col3\" class=\"data row2 col3\" >0.483489</td>\n",
       "      <td id=\"T_3df6e_row2_col4\" class=\"data row2 col4\" >2374873453_PH</td>\n",
       "      <td id=\"T_3df6e_row2_col5\" class=\"data row2 col5\" >K&K RTWs</td>\n",
       "    </tr>\n",
       "    <tr>\n",
       "      <th id=\"T_3df6e_level0_row3\" class=\"row_heading level0 row3\" >3</th>\n",
       "      <td id=\"T_3df6e_row3_col0\" class=\"data row3 col0\" >unisex sweatshirt free size frame to size smalllarge with vinyl print terry brass cotton fabric</td>\n",
       "      <td id=\"T_3df6e_row3_col1\" class=\"data row3 col1\" >0.305151</td>\n",
       "      <td id=\"T_3df6e_row3_col2\" class=\"data row3 col2\" >0.250000</td>\n",
       "      <td id=\"T_3df6e_row3_col3\" class=\"data row3 col3\" >0.288606</td>\n",
       "      <td id=\"T_3df6e_row3_col4\" class=\"data row3 col4\" >3067377257_PH</td>\n",
       "      <td id=\"T_3df6e_row3_col5\" class=\"data row3 col5\" >K&K RTWs</td>\n",
       "    </tr>\n",
       "    <tr>\n",
       "      <th id=\"T_3df6e_level0_row4\" class=\"row_heading level0 row4\" >4</th>\n",
       "      <td id=\"T_3df6e_row4_col0\" class=\"data row4 col0\" >womens hoodie shirt</td>\n",
       "      <td id=\"T_3df6e_row4_col1\" class=\"data row4 col1\" >0.298722</td>\n",
       "      <td id=\"T_3df6e_row4_col2\" class=\"data row4 col2\" >0.125000</td>\n",
       "      <td id=\"T_3df6e_row4_col3\" class=\"data row4 col3\" >0.246606</td>\n",
       "      <td id=\"T_3df6e_row4_col4\" class=\"data row4 col4\" >2279749545_PH</td>\n",
       "      <td id=\"T_3df6e_row4_col5\" class=\"data row4 col5\" >K&K RTWs</td>\n",
       "    </tr>\n",
       "  </tbody>\n",
       "</table>\n"
      ],
      "text/plain": [
       "<pandas.io.formats.style.Styler at 0x7fbef189fc40>"
      ]
     },
     "metadata": {},
     "output_type": "display_data"
    }
   ],
   "source": [
    "_=recommender_same_shop(11494)"
   ]
  },
  {
   "cell_type": "markdown",
   "id": "dc02baef-2eb2-42e6-99b9-661b5e16f064",
   "metadata": {
    "execution": {
     "iopub.execute_input": "2023-12-06T03:28:20.326991Z",
     "iopub.status.busy": "2023-12-06T03:28:20.326059Z",
     "iopub.status.idle": "2023-12-06T03:28:20.334020Z",
     "shell.execute_reply": "2023-12-06T03:28:20.332236Z",
     "shell.execute_reply.started": "2023-12-06T03:28:20.326928Z"
    },
    "tags": []
   },
   "source": [
    "<span style=\"display: block; height: 1px; border: 0; border-top: 10px solid #001DB1; margin: 1em 0; padding: 0;\"></span>\n",
    "\n",
    "### Test Product 2: Recommendation from different shops\n",
    "Same with the test product 1, recommendations from different shops were considered and can be seen that the seller of the product test 1 is being recommended here. In terms of similarity scores are ranging from 0.33 to 0.44."
   ]
  },
  {
   "cell_type": "code",
   "execution_count": 23,
   "id": "0329a580-c1f7-402a-a7e5-de0ba56c8661",
   "metadata": {
    "execution": {
     "iopub.execute_input": "2023-12-06T14:40:19.237384Z",
     "iopub.status.busy": "2023-12-06T14:40:19.237077Z",
     "iopub.status.idle": "2023-12-06T14:40:19.402207Z",
     "shell.execute_reply": "2023-12-06T14:40:19.401536Z",
     "shell.execute_reply.started": "2023-12-06T14:40:19.237355Z"
    },
    "tags": []
   },
   "outputs": [
    {
     "name": "stdout",
     "output_type": "stream",
     "text": [
      "Target Product Information:\n"
     ]
    },
    {
     "data": {
      "text/html": [
       "<style type=\"text/css\">\n",
       "#T_94d08 table {\n",
       "  margin: auto;\n",
       "}\n",
       "</style>\n",
       "<table id=\"T_94d08\">\n",
       "  <thead>\n",
       "    <tr>\n",
       "      <th class=\"blank level0\" >&nbsp;</th>\n",
       "      <th id=\"T_94d08_level0_col0\" class=\"col_heading level0 col0\" >Attribute</th>\n",
       "      <th id=\"T_94d08_level0_col1\" class=\"col_heading level0 col1\" >Value</th>\n",
       "    </tr>\n",
       "  </thead>\n",
       "  <tbody>\n",
       "    <tr>\n",
       "      <th id=\"T_94d08_level0_row0\" class=\"row_heading level0 row0\" >0</th>\n",
       "      <td id=\"T_94d08_row0_col0\" class=\"data row0 col0\" >Name</td>\n",
       "      <td id=\"T_94d08_row0_col1\" class=\"data row0 col1\" >womens sweatshirt with la vinyl print</td>\n",
       "    </tr>\n",
       "    <tr>\n",
       "      <th id=\"T_94d08_level0_row1\" class=\"row_heading level0 row1\" >1</th>\n",
       "      <td id=\"T_94d08_row1_col0\" class=\"data row1 col0\" >SKU</td>\n",
       "      <td id=\"T_94d08_row1_col1\" class=\"data row1 col1\" >2393622729_PH</td>\n",
       "    </tr>\n",
       "    <tr>\n",
       "      <th id=\"T_94d08_level0_row2\" class=\"row_heading level0 row2\" >2</th>\n",
       "      <td id=\"T_94d08_row2_col0\" class=\"data row2 col0\" >Seller</td>\n",
       "      <td id=\"T_94d08_row2_col1\" class=\"data row2 col1\" >K&K RTWs</td>\n",
       "    </tr>\n",
       "    <tr>\n",
       "      <th id=\"T_94d08_level0_row3\" class=\"row_heading level0 row3\" >3</th>\n",
       "      <td id=\"T_94d08_row3_col0\" class=\"data row3 col0\" >Category</td>\n",
       "      <td id=\"T_94d08_row3_col1\" class=\"data row3 col1\" >womens_hoodies_sweatshirts</td>\n",
       "    </tr>\n",
       "  </tbody>\n",
       "</table>\n"
      ],
      "text/plain": [
       "<pandas.io.formats.style.Styler at 0x7fbef0ac55d0>"
      ]
     },
     "metadata": {},
     "output_type": "display_data"
    },
    {
     "name": "stdout",
     "output_type": "stream",
     "text": [
      "\n",
      "Top 10 Similar Products from different shops:\n"
     ]
    },
    {
     "data": {
      "text/html": [
       "<style type=\"text/css\">\n",
       "#T_4008e table {\n",
       "  margin: auto;\n",
       "}\n",
       "</style>\n",
       "<table id=\"T_4008e\">\n",
       "  <thead>\n",
       "    <tr>\n",
       "      <th class=\"blank level0\" >&nbsp;</th>\n",
       "      <th id=\"T_4008e_level0_col0\" class=\"col_heading level0 col0\" >name</th>\n",
       "      <th id=\"T_4008e_level0_col1\" class=\"col_heading level0 col1\" >cosine_similarity</th>\n",
       "      <th id=\"T_4008e_level0_col2\" class=\"col_heading level0 col2\" >jaccard_similarity</th>\n",
       "      <th id=\"T_4008e_level0_col3\" class=\"col_heading level0 col3\" >combined_similarity</th>\n",
       "      <th id=\"T_4008e_level0_col4\" class=\"col_heading level0 col4\" >sku</th>\n",
       "      <th id=\"T_4008e_level0_col5\" class=\"col_heading level0 col5\" >sellerName</th>\n",
       "    </tr>\n",
       "  </thead>\n",
       "  <tbody>\n",
       "    <tr>\n",
       "      <th id=\"T_4008e_level0_row0\" class=\"row_heading level0 row0\" >0</th>\n",
       "      <td id=\"T_4008e_row0_col0\" class=\"data row0 col0\" >pullover sweatshirt with print</td>\n",
       "      <td id=\"T_4008e_row0_col1\" class=\"data row0 col1\" >0.438305</td>\n",
       "      <td id=\"T_4008e_row0_col2\" class=\"data row0 col2\" >0.428571</td>\n",
       "      <td id=\"T_4008e_row0_col3\" class=\"data row0 col3\" >0.435385</td>\n",
       "      <td id=\"T_4008e_row0_col4\" class=\"data row0 col4\" >3826827668_PH</td>\n",
       "      <td id=\"T_4008e_row0_col5\" class=\"data row0 col5\" >Samara Kloth Supplier</td>\n",
       "    </tr>\n",
       "    <tr>\n",
       "      <th id=\"T_4008e_level0_row1\" class=\"row_heading level0 row1\" >1</th>\n",
       "      <td id=\"T_4008e_row1_col0\" class=\"data row1 col0\" >hoodie jacket vinyl print statement aesthetic print</td>\n",
       "      <td id=\"T_4008e_row1_col1\" class=\"data row1 col1\" >0.529632</td>\n",
       "      <td id=\"T_4008e_row1_col2\" class=\"data row1 col2\" >0.200000</td>\n",
       "      <td id=\"T_4008e_row1_col3\" class=\"data row1 col3\" >0.430742</td>\n",
       "      <td id=\"T_4008e_row1_col4\" class=\"data row1 col4\" >4055778143_PH</td>\n",
       "      <td id=\"T_4008e_row1_col5\" class=\"data row1 col5\" >Happy Hoodie</td>\n",
       "    </tr>\n",
       "    <tr>\n",
       "      <th id=\"T_4008e_level0_row2\" class=\"row_heading level0 row2\" >2</th>\n",
       "      <td id=\"T_4008e_row2_col0\" class=\"data row2 col0\" >pullover crew neck with vinyl print for mens and womens</td>\n",
       "      <td id=\"T_4008e_row2_col1\" class=\"data row2 col1\" >0.468549</td>\n",
       "      <td id=\"T_4008e_row2_col2\" class=\"data row2 col2\" >0.333333</td>\n",
       "      <td id=\"T_4008e_row2_col3\" class=\"data row2 col3\" >0.427984</td>\n",
       "      <td id=\"T_4008e_row2_col4\" class=\"data row2 col4\" >3354048602_PH</td>\n",
       "      <td id=\"T_4008e_row2_col5\" class=\"data row2 col5\" >Jemella's Online Shop</td>\n",
       "    </tr>\n",
       "    <tr>\n",
       "      <th id=\"T_4008e_level0_row3\" class=\"row_heading level0 row3\" >3</th>\n",
       "      <td id=\"T_4008e_row3_col0\" class=\"data row3 col0\" >hoodie terno jogger vinyl print</td>\n",
       "      <td id=\"T_4008e_row3_col1\" class=\"data row3 col1\" >0.456317</td>\n",
       "      <td id=\"T_4008e_row3_col2\" class=\"data row3 col2\" >0.222222</td>\n",
       "      <td id=\"T_4008e_row3_col3\" class=\"data row3 col3\" >0.386089</td>\n",
       "      <td id=\"T_4008e_row3_col4\" class=\"data row3 col4\" >3555137076_PH</td>\n",
       "      <td id=\"T_4008e_row3_col5\" class=\"data row3 col5\" >Divifindsph</td>\n",
       "    </tr>\n",
       "    <tr>\n",
       "      <th id=\"T_4008e_level0_row4\" class=\"row_heading level0 row4\" >4</th>\n",
       "      <td id=\"T_4008e_row4_col0\" class=\"data row4 col0\" >pullover trend sweatshirt color vinyl print minimalists statement basic longsleeves</td>\n",
       "      <td id=\"T_4008e_row4_col1\" class=\"data row4 col1\" >0.440142</td>\n",
       "      <td id=\"T_4008e_row4_col2\" class=\"data row4 col2\" >0.230769</td>\n",
       "      <td id=\"T_4008e_row4_col3\" class=\"data row4 col3\" >0.377330</td>\n",
       "      <td id=\"T_4008e_row4_col4\" class=\"data row4 col4\" >3952773947_PH</td>\n",
       "      <td id=\"T_4008e_row4_col5\" class=\"data row4 col5\" >Samara Kloth Supplier</td>\n",
       "    </tr>\n",
       "    <tr>\n",
       "      <th id=\"T_4008e_level0_row5\" class=\"row_heading level0 row5\" >5</th>\n",
       "      <td id=\"T_4008e_row5_col0\" class=\"data row5 col0\" >womens pullover sweatshirt loose fashion casual print jacket unisex hood sweater womens trend</td>\n",
       "      <td id=\"T_4008e_row5_col1\" class=\"data row5 col1\" >0.443669</td>\n",
       "      <td id=\"T_4008e_row5_col2\" class=\"data row5 col2\" >0.200000</td>\n",
       "      <td id=\"T_4008e_row5_col3\" class=\"data row5 col3\" >0.370568</td>\n",
       "      <td id=\"T_4008e_row5_col4\" class=\"data row5 col4\" >3403244041_PH</td>\n",
       "      <td id=\"T_4008e_row5_col5\" class=\"data row5 col5\" >alvla.ph</td>\n",
       "    </tr>\n",
       "    <tr>\n",
       "      <th id=\"T_4008e_level0_row6\" class=\"row_heading level0 row6\" >6</th>\n",
       "      <td id=\"T_4008e_row6_col0\" class=\"data row6 col0\" >tokyo print pullover trend color sweatshirt vinyl print minimalists aesthetic statement basic longsleeves</td>\n",
       "      <td id=\"T_4008e_row6_col1\" class=\"data row6 col1\" >0.424231</td>\n",
       "      <td id=\"T_4008e_row6_col2\" class=\"data row6 col2\" >0.200000</td>\n",
       "      <td id=\"T_4008e_row6_col3\" class=\"data row6 col3\" >0.356962</td>\n",
       "      <td id=\"T_4008e_row6_col4\" class=\"data row6 col4\" >3952958844_PH</td>\n",
       "      <td id=\"T_4008e_row6_col5\" class=\"data row6 col5\" >Samara Kloth Supplier</td>\n",
       "    </tr>\n",
       "    <tr>\n",
       "      <th id=\"T_4008e_level0_row7\" class=\"row_heading level0 row7\" >7</th>\n",
       "      <td id=\"T_4008e_row7_col0\" class=\"data row7 col0\" >pullover sweatshirt with print longsleeves</td>\n",
       "      <td id=\"T_4008e_row7_col1\" class=\"data row7 col1\" >0.346909</td>\n",
       "      <td id=\"T_4008e_row7_col2\" class=\"data row7 col2\" >0.375000</td>\n",
       "      <td id=\"T_4008e_row7_col3\" class=\"data row7 col3\" >0.355336</td>\n",
       "      <td id=\"T_4008e_row7_col4\" class=\"data row7 col4\" >3808856066_PH</td>\n",
       "      <td id=\"T_4008e_row7_col5\" class=\"data row7 col5\" >Samara Kloth Supplier</td>\n",
       "    </tr>\n",
       "    <tr>\n",
       "      <th id=\"T_4008e_level0_row8\" class=\"row_heading level0 row8\" >8</th>\n",
       "      <td id=\"T_4008e_row8_col0\" class=\"data row8 col0\" >pullover sweatshirt with print longsleeves</td>\n",
       "      <td id=\"T_4008e_row8_col1\" class=\"data row8 col1\" >0.346909</td>\n",
       "      <td id=\"T_4008e_row8_col2\" class=\"data row8 col2\" >0.375000</td>\n",
       "      <td id=\"T_4008e_row8_col3\" class=\"data row8 col3\" >0.355336</td>\n",
       "      <td id=\"T_4008e_row8_col4\" class=\"data row8 col4\" >3827045293_PH</td>\n",
       "      <td id=\"T_4008e_row8_col5\" class=\"data row8 col5\" >Samara Kloth Supplier</td>\n",
       "    </tr>\n",
       "    <tr>\n",
       "      <th id=\"T_4008e_level0_row9\" class=\"row_heading level0 row9\" >9</th>\n",
       "      <td id=\"T_4008e_row9_col0\" class=\"data row9 col0\" >newyork print pullover trend color sweatshirt vinyl print minimalists aesthetic statement basic longsleeves</td>\n",
       "      <td id=\"T_4008e_row9_col1\" class=\"data row9 col1\" >0.405203</td>\n",
       "      <td id=\"T_4008e_row9_col2\" class=\"data row9 col2\" >0.200000</td>\n",
       "      <td id=\"T_4008e_row9_col3\" class=\"data row9 col3\" >0.343642</td>\n",
       "      <td id=\"T_4008e_row9_col4\" class=\"data row9 col4\" >3953029438_PH</td>\n",
       "      <td id=\"T_4008e_row9_col5\" class=\"data row9 col5\" >Samara Kloth Supplier</td>\n",
       "    </tr>\n",
       "  </tbody>\n",
       "</table>\n"
      ],
      "text/plain": [
       "<pandas.io.formats.style.Styler at 0x7fbef0ac63e0>"
      ]
     },
     "metadata": {},
     "output_type": "display_data"
    }
   ],
   "source": [
    "_=recommender_diff_shop(11494)"
   ]
  },
  {
   "cell_type": "markdown",
   "id": "deb152ce-ccdd-47aa-a595-b9d025b1fe94",
   "metadata": {
    "tags": []
   },
   "source": [
    "<span style=\"display: block; height: 1px; border: 0; border-top: 10px solid #001DB1; margin: 1em 0; padding: 0;\"></span>\n",
    "\n",
    "### LT Recommendation vs Lazada's Recommendation\n",
    "\n",
    "To have a better appreciation, it was deemed better to compare recommendations made by the LT and Lazada itself. What was done here was to look for the same two products and manually extract both the same shop recommendations and the other shop recommendations. Afterwards, the similarity score was computed and then compared side by side.\n",
    "\n",
    "The manually extracted test data are two csv files that contains product names of the recommendations. Sadly the extraction of the test data doesn't allow for webscraping as the recommendations change depending on the behavior of the user.\n",
    "\n",
    "`manual_extracted_test_data_1.csv` is for the product test 1 and `manual_extracted_test_data2.csv` is for product test 2.\n",
    "\n",
    "A sample of how it would look like would be:"
   ]
  },
  {
   "cell_type": "code",
   "execution_count": 24,
   "id": "e545987a-1761-4414-8690-725c6c1823c8",
   "metadata": {
    "execution": {
     "iopub.execute_input": "2023-12-06T14:40:19.403507Z",
     "iopub.status.busy": "2023-12-06T14:40:19.403271Z",
     "iopub.status.idle": "2023-12-06T14:40:19.415399Z",
     "shell.execute_reply": "2023-12-06T14:40:19.414701Z",
     "shell.execute_reply.started": "2023-12-06T14:40:19.403486Z"
    },
    "tags": []
   },
   "outputs": [
    {
     "data": {
      "text/html": [
       "<div>\n",
       "<style scoped>\n",
       "    .dataframe tbody tr th:only-of-type {\n",
       "        vertical-align: middle;\n",
       "    }\n",
       "\n",
       "    .dataframe tbody tr th {\n",
       "        vertical-align: top;\n",
       "    }\n",
       "\n",
       "    .dataframe thead th {\n",
       "        text-align: right;\n",
       "    }\n",
       "</style>\n",
       "<table border=\"1\" class=\"dataframe\">\n",
       "  <thead>\n",
       "    <tr style=\"text-align: right;\">\n",
       "      <th></th>\n",
       "      <th>name</th>\n",
       "      <th>sku</th>\n",
       "      <th>recommendation_same_shop</th>\n",
       "      <th>recommendation_diff_shop</th>\n",
       "    </tr>\n",
       "  </thead>\n",
       "  <tbody>\n",
       "    <tr>\n",
       "      <th>0</th>\n",
       "      <td>hoodie jacket mint with statement prints longs...</td>\n",
       "      <td>3774982362_PH</td>\n",
       "      <td>PANDA HOODIE JACKET WHITE PRINT</td>\n",
       "      <td>UNISEX HOODIE JACKET WITHOUT ZIPPER</td>\n",
       "    </tr>\n",
       "    <tr>\n",
       "      <th>1</th>\n",
       "      <td>hoodie jacket mint with statement prints longs...</td>\n",
       "      <td>3774982362_PH</td>\n",
       "      <td>KOREAAN CROPHOODIE JACKET PRINTS</td>\n",
       "      <td>Long Sleeve Turtle Neck Knitted For Women</td>\n",
       "    </tr>\n",
       "    <tr>\n",
       "      <th>2</th>\n",
       "      <td>hoodie jacket mint with statement prints longs...</td>\n",
       "      <td>3774982362_PH</td>\n",
       "      <td>PULLOVER FASHION SWEATSHIRTS WITH PRINTS</td>\n",
       "      <td>Crop Top Long Sleeve cotton Sexy Skinny Casual...</td>\n",
       "    </tr>\n",
       "  </tbody>\n",
       "</table>\n",
       "</div>"
      ],
      "text/plain": [
       "                                                name            sku  \\\n",
       "0  hoodie jacket mint with statement prints longs...  3774982362_PH   \n",
       "1  hoodie jacket mint with statement prints longs...  3774982362_PH   \n",
       "2  hoodie jacket mint with statement prints longs...  3774982362_PH   \n",
       "\n",
       "                   recommendation_same_shop  \\\n",
       "0           PANDA HOODIE JACKET WHITE PRINT   \n",
       "1          KOREAAN CROPHOODIE JACKET PRINTS   \n",
       "2  PULLOVER FASHION SWEATSHIRTS WITH PRINTS   \n",
       "\n",
       "                            recommendation_diff_shop  \n",
       "0                UNISEX HOODIE JACKET WITHOUT ZIPPER  \n",
       "1          Long Sleeve Turtle Neck Knitted For Women  \n",
       "2  Crop Top Long Sleeve cotton Sexy Skinny Casual...  "
      ]
     },
     "execution_count": 24,
     "metadata": {},
     "output_type": "execute_result"
    }
   ],
   "source": [
    "test_data1 = pd.read_csv('manual_extracted_test_data_1.csv')\n",
    "test_data1.head(3)"
   ]
  },
  {
   "cell_type": "markdown",
   "id": "cb0be517-abd3-49fb-afd6-bce21fc50fe8",
   "metadata": {},
   "source": [
    "Codes are shown below which would be lazada_same_shop and lazada_diff_shop, these are codes that would compute for the similarity scores between the test products and the manually extracted recommendations from Lazada."
   ]
  },
  {
   "cell_type": "code",
   "execution_count": 25,
   "id": "b9883e10-ba32-48a1-b5b3-c29a1c7648fd",
   "metadata": {
    "execution": {
     "iopub.execute_input": "2023-12-06T14:40:19.417549Z",
     "iopub.status.busy": "2023-12-06T14:40:19.417218Z",
     "iopub.status.idle": "2023-12-06T14:40:19.429085Z",
     "shell.execute_reply": "2023-12-06T14:40:19.428025Z",
     "shell.execute_reply.started": "2023-12-06T14:40:19.417522Z"
    },
    "tags": []
   },
   "outputs": [],
   "source": [
    "def lazada_same_shop(input_index, hide_display=False):\n",
    "    \"\"\"\n",
    "    Return scores for manually extracted recommendations from LAZADA.\n",
    "    \"\"\"\n",
    "\n",
    "    product_index = input_index\n",
    "\n",
    "    product_name = df_cleaned.loc[product_index, 'name']\n",
    "    product_sku = df_cleaned.loc[product_index, 'sku']\n",
    "    product_seller = df_cleaned.loc[product_index, 'sellerName']\n",
    "    product_category = df_cleaned.loc[product_index, 'product_category']\n",
    "\n",
    "    product_info_df = pd.DataFrame({\n",
    "        'Attribute': ['Name', 'SKU', 'Seller', 'Category'],\n",
    "        'Value': [product_name, product_sku, product_seller, product_category]\n",
    "    })\n",
    "\n",
    "    target_clothing = product_name\n",
    "\n",
    "    if input_index == 10220:\n",
    "        test_data = pd.read_csv('manual_extracted_test_data_1.csv')\n",
    "    elif input_index == 11494:\n",
    "        test_data = pd.read_csv('manual_extracted_test_data_2.csv')\n",
    "\n",
    "    test_data['recommendation_same_shop'].fillna('', inplace=True)\n",
    "\n",
    "    test_data['recommendation_same_shop'] = test_data[\n",
    "        'recommendation_same_shop'].apply(\n",
    "        lambda x: clean_and_lower(x))\n",
    "\n",
    "    test_data['recommendation_same_shop'] = test_data[\n",
    "        'recommendation_same_shop'].str.lower(\n",
    "    ).apply(lemmatize_text)\n",
    "\n",
    "    tfidf_matrix, tfidf_vectorizer = calculate_tfidf_matrix(\n",
    "        test_data['recommendation_same_shop'])\n",
    "\n",
    "    target_vector = tfidf_vectorizer.transform(\n",
    "        [lemmatize_text(target_clothing)])\n",
    "\n",
    "    cosine_sim_scores = compute_cosine_similarity(target_vector, tfidf_matrix)\n",
    "\n",
    "    jaccard_sim_scores = test_data['recommendation_same_shop'].apply(\n",
    "        lambda x: compute_jaccard_similarity(lemmatize_text(target_clothing), x))\n",
    "\n",
    "    combined_scores = 0.7 * cosine_sim_scores + 0.3 * jaccard_sim_scores\n",
    "\n",
    "    test_data['cosine_similarity'] = cosine_sim_scores\n",
    "    test_data['jaccard_similarity'] = jaccard_sim_scores\n",
    "    test_data['combined_similarity'] = combined_scores\n",
    "\n",
    "    comparison = test_data.sort_values(by='combined_similarity',\n",
    "                                       ascending=False).head(\n",
    "        5)[['recommendation_same_shop', 'cosine_similarity',\n",
    "            'jaccard_similarity', 'combined_similarity']]\n",
    "\n",
    "    product_info_reset_index = product_info_df.reset_index(\n",
    "        drop=True)\n",
    "    comparison_reset_index = comparison.reset_index(drop=True)\n",
    "    if not hide_display:\n",
    "        print(\"Target Product Information:\")\n",
    "        display(product_info_reset_index.style.set_table_styles(\n",
    "            [{'selector': 'table', 'props': 'margin: auto;'}]))\n",
    "\n",
    "        print(\"\\nTop 5 Similar Products from the Same Shop:\")\n",
    "        display(comparison_reset_index.style.set_table_styles(\n",
    "            [{'selector': 'table', 'props': 'margin: auto;'}]))\n",
    "\n",
    "    return comparison_reset_index"
   ]
  },
  {
   "cell_type": "code",
   "execution_count": 26,
   "id": "97860dfd-2de5-4b79-838e-94a1e881cd7a",
   "metadata": {
    "execution": {
     "iopub.execute_input": "2023-12-06T14:40:19.430867Z",
     "iopub.status.busy": "2023-12-06T14:40:19.430234Z",
     "iopub.status.idle": "2023-12-06T14:40:19.441608Z",
     "shell.execute_reply": "2023-12-06T14:40:19.440880Z",
     "shell.execute_reply.started": "2023-12-06T14:40:19.430834Z"
    },
    "tags": []
   },
   "outputs": [],
   "source": [
    "def lazada_diff_shop(input_index, hide_display=False):\n",
    "    \"\"\"\n",
    "    Return scores for manually extracted recommendations from LAZADA.\n",
    "    \"\"\"\n",
    "\n",
    "    product_index = input_index\n",
    "\n",
    "    product_name = df_cleaned.loc[product_index, 'name']\n",
    "    product_sku = df_cleaned.loc[product_index, 'sku']\n",
    "    product_seller = df_cleaned.loc[product_index, 'sellerName']\n",
    "    product_category = df_cleaned.loc[product_index, 'product_category']\n",
    "\n",
    "    product_info_df = pd.DataFrame({\n",
    "        'Attribute': ['Name', 'SKU', 'Seller', 'Category'],\n",
    "        'Value': [product_name, product_sku, product_seller, product_category]\n",
    "    })\n",
    "\n",
    "    target_clothing = product_name\n",
    "\n",
    "    if input_index == 10220:\n",
    "        test_data = pd.read_csv('manual_extracted_test_data_1.csv')\n",
    "    elif input_index == 11494:\n",
    "        test_data = pd.read_csv('manual_extracted_test_data_2.csv')\n",
    "\n",
    "    test_data = test_data.head(10)\n",
    "\n",
    "    test_data['recommendation_diff_shop'].fillna('', inplace=True)\n",
    "\n",
    "    test_data['recommendation_diff_shop'] = test_data['recommendation_diff_shop'].apply(\n",
    "        lambda x: clean_and_lower(x))\n",
    "\n",
    "    test_data['recommendation_diff_shop'] = test_data['recommendation_diff_shop'].str.lower(\n",
    "    ).apply(lemmatize_text)\n",
    "\n",
    "    tfidf_matrix, tfidf_vectorizer = calculate_tfidf_matrix(\n",
    "        test_data['recommendation_diff_shop'])\n",
    "\n",
    "    target_vector = tfidf_vectorizer.transform(\n",
    "        [lemmatize_text(target_clothing)])\n",
    "\n",
    "    cosine_sim_scores = compute_cosine_similarity(target_vector, tfidf_matrix)\n",
    "\n",
    "    jaccard_sim_scores = test_data['recommendation_diff_shop'].apply(\n",
    "        lambda x: compute_jaccard_similarity(lemmatize_text(target_clothing), x))\n",
    "\n",
    "    combined_scores = 0.7 * cosine_sim_scores + 0.3 * jaccard_sim_scores\n",
    "\n",
    "    test_data['cosine_similarity'] = cosine_sim_scores\n",
    "    test_data['jaccard_similarity'] = jaccard_sim_scores\n",
    "    test_data['combined_similarity'] = combined_scores\n",
    "\n",
    "    comparison = test_data.sort_values(\n",
    "        by='combined_similarity', ascending=False).head(\n",
    "        10)[['recommendation_diff_shop', 'cosine_similarity',\n",
    "             'jaccard_similarity', 'combined_similarity']]\n",
    "\n",
    "    product_info_reset_index = product_info_df.reset_index(\n",
    "        drop=True)\n",
    "    comparison_reset_index = comparison.reset_index(drop=True)\n",
    "\n",
    "    if not hide_display:\n",
    "        print(\"Target Product Information:\")\n",
    "        display(product_info_reset_index.style.set_table_styles(\n",
    "            [{'selector': 'table', 'props': 'margin: auto;'}]))\n",
    "\n",
    "        print(\"\\nTop 10 Similar Products from Different Shops:\")\n",
    "        display(comparison_reset_index.style.set_table_styles(\n",
    "            [{'selector': 'table', 'props': 'margin: auto;'}]))\n",
    "\n",
    "    return comparison_reset_index"
   ]
  },
  {
   "cell_type": "markdown",
   "id": "55ab3e23-c4d9-4e64-9186-2e4e98e1aa95",
   "metadata": {
    "execution": {
     "iopub.execute_input": "2023-12-06T06:11:43.741312Z",
     "iopub.status.busy": "2023-12-06T06:11:43.740030Z",
     "iopub.status.idle": "2023-12-06T06:11:43.756393Z",
     "shell.execute_reply": "2023-12-06T06:11:43.753976Z",
     "shell.execute_reply.started": "2023-12-06T06:11:43.741216Z"
    },
    "tags": []
   },
   "source": [
    "<hr>\n",
    "\n",
    "### Test Lazada's Recommendations\n",
    "\n",
    "Below is the result of the combined similarity scores for the recommendations from different shops. It can be seen that there are recommended products that have 0 similarity scores. This might be due to the recommendations being fed basing on the historical search results of the user at that time, it is not really recommending purely based on the similarity of the product."
   ]
  },
  {
   "cell_type": "markdown",
   "id": "3aba805e-7def-4ca0-9d04-1ebe3ec79e4d",
   "metadata": {},
   "source": [
    "<hr>\n",
    "\n",
    "####  Recommendation from different shops"
   ]
  },
  {
   "cell_type": "code",
   "execution_count": 27,
   "id": "bcf775d1-3bcf-4064-af64-a1aebc1ef98c",
   "metadata": {
    "execution": {
     "iopub.execute_input": "2023-12-06T14:40:19.442749Z",
     "iopub.status.busy": "2023-12-06T14:40:19.442526Z",
     "iopub.status.idle": "2023-12-06T14:40:19.466494Z",
     "shell.execute_reply": "2023-12-06T14:40:19.465858Z",
     "shell.execute_reply.started": "2023-12-06T14:40:19.442729Z"
    },
    "tags": []
   },
   "outputs": [
    {
     "name": "stdout",
     "output_type": "stream",
     "text": [
      "Target Product Information:\n"
     ]
    },
    {
     "data": {
      "text/html": [
       "<style type=\"text/css\">\n",
       "#T_2cbbf table {\n",
       "  margin: auto;\n",
       "}\n",
       "</style>\n",
       "<table id=\"T_2cbbf\">\n",
       "  <thead>\n",
       "    <tr>\n",
       "      <th class=\"blank level0\" >&nbsp;</th>\n",
       "      <th id=\"T_2cbbf_level0_col0\" class=\"col_heading level0 col0\" >Attribute</th>\n",
       "      <th id=\"T_2cbbf_level0_col1\" class=\"col_heading level0 col1\" >Value</th>\n",
       "    </tr>\n",
       "  </thead>\n",
       "  <tbody>\n",
       "    <tr>\n",
       "      <th id=\"T_2cbbf_level0_row0\" class=\"row_heading level0 row0\" >0</th>\n",
       "      <td id=\"T_2cbbf_row0_col0\" class=\"data row0 col0\" >Name</td>\n",
       "      <td id=\"T_2cbbf_row0_col1\" class=\"data row0 col1\" >hoodie jacket mint with statement prints longsleeves</td>\n",
       "    </tr>\n",
       "    <tr>\n",
       "      <th id=\"T_2cbbf_level0_row1\" class=\"row_heading level0 row1\" >1</th>\n",
       "      <td id=\"T_2cbbf_row1_col0\" class=\"data row1 col0\" >SKU</td>\n",
       "      <td id=\"T_2cbbf_row1_col1\" class=\"data row1 col1\" >3774982362_PH</td>\n",
       "    </tr>\n",
       "    <tr>\n",
       "      <th id=\"T_2cbbf_level0_row2\" class=\"row_heading level0 row2\" >2</th>\n",
       "      <td id=\"T_2cbbf_row2_col0\" class=\"data row2 col0\" >Seller</td>\n",
       "      <td id=\"T_2cbbf_row2_col1\" class=\"data row2 col1\" >Samara Kloth Supplier</td>\n",
       "    </tr>\n",
       "    <tr>\n",
       "      <th id=\"T_2cbbf_level0_row3\" class=\"row_heading level0 row3\" >3</th>\n",
       "      <td id=\"T_2cbbf_row3_col0\" class=\"data row3 col0\" >Category</td>\n",
       "      <td id=\"T_2cbbf_row3_col1\" class=\"data row3 col1\" >womens_hoodies_sweatshirts</td>\n",
       "    </tr>\n",
       "  </tbody>\n",
       "</table>\n"
      ],
      "text/plain": [
       "<pandas.io.formats.style.Styler at 0x7fbef0ec8f40>"
      ]
     },
     "metadata": {},
     "output_type": "display_data"
    },
    {
     "name": "stdout",
     "output_type": "stream",
     "text": [
      "\n",
      "Top 10 Similar Products from Different Shops:\n"
     ]
    },
    {
     "data": {
      "text/html": [
       "<style type=\"text/css\">\n",
       "#T_849e8 table {\n",
       "  margin: auto;\n",
       "}\n",
       "</style>\n",
       "<table id=\"T_849e8\">\n",
       "  <thead>\n",
       "    <tr>\n",
       "      <th class=\"blank level0\" >&nbsp;</th>\n",
       "      <th id=\"T_849e8_level0_col0\" class=\"col_heading level0 col0\" >recommendation_diff_shop</th>\n",
       "      <th id=\"T_849e8_level0_col1\" class=\"col_heading level0 col1\" >cosine_similarity</th>\n",
       "      <th id=\"T_849e8_level0_col2\" class=\"col_heading level0 col2\" >jaccard_similarity</th>\n",
       "      <th id=\"T_849e8_level0_col3\" class=\"col_heading level0 col3\" >combined_similarity</th>\n",
       "    </tr>\n",
       "  </thead>\n",
       "  <tbody>\n",
       "    <tr>\n",
       "      <th id=\"T_849e8_level0_row0\" class=\"row_heading level0 row0\" >0</th>\n",
       "      <td id=\"T_849e8_row0_col0\" class=\"data row0 col0\" >skateboard frog hoodie women oversized cartoon print clothe casual pullover kawaii fleece streetwear hoodied long sleeve couple hoodie jacket korean jacket for men anime jacket hoodiejacket for men with hoodie couple jacket with hoodie oversized</td>\n",
       "      <td id=\"T_849e8_row0_col1\" class=\"data row0 col1\" >0.497512</td>\n",
       "      <td id=\"T_849e8_row0_col2\" class=\"data row0 col2\" >0.148148</td>\n",
       "      <td id=\"T_849e8_row0_col3\" class=\"data row0 col3\" >0.392703</td>\n",
       "    </tr>\n",
       "    <tr>\n",
       "      <th id=\"T_849e8_level0_row1\" class=\"row_heading level0 row1\" >1</th>\n",
       "      <td id=\"T_849e8_row1_col0\" class=\"data row1 col0\" >unisex hoodie jacket without zipper</td>\n",
       "      <td id=\"T_849e8_row1_col1\" class=\"data row1 col1\" >0.446672</td>\n",
       "      <td id=\"T_849e8_row1_col2\" class=\"data row1 col2\" >0.200000</td>\n",
       "      <td id=\"T_849e8_row1_col3\" class=\"data row1 col3\" >0.372671</td>\n",
       "    </tr>\n",
       "    <tr>\n",
       "      <th id=\"T_849e8_level0_row2\" class=\"row_heading level0 row2\" >2</th>\n",
       "      <td id=\"T_849e8_row2_col0\" class=\"data row2 col0\" >crop hoodie swagger girl print</td>\n",
       "      <td id=\"T_849e8_row2_col1\" class=\"data row2 col1\" >0.423884</td>\n",
       "      <td id=\"T_849e8_row2_col2\" class=\"data row2 col2\" >0.200000</td>\n",
       "      <td id=\"T_849e8_row2_col3\" class=\"data row2 col3\" >0.356719</td>\n",
       "    </tr>\n",
       "    <tr>\n",
       "      <th id=\"T_849e8_level0_row3\" class=\"row_heading level0 row3\" >3</th>\n",
       "      <td id=\"T_849e8_row3_col0\" class=\"data row3 col0\" >unisex plain hoodie jacket mxxl</td>\n",
       "      <td id=\"T_849e8_row3_col1\" class=\"data row3 col1\" >0.382346</td>\n",
       "      <td id=\"T_849e8_row3_col2\" class=\"data row3 col2\" >0.200000</td>\n",
       "      <td id=\"T_849e8_row3_col3\" class=\"data row3 col3\" >0.327642</td>\n",
       "    </tr>\n",
       "    <tr>\n",
       "      <th id=\"T_849e8_level0_row4\" class=\"row_heading level0 row4\" >4</th>\n",
       "      <td id=\"T_849e8_row4_col0\" class=\"data row4 col0\" >hoodie jacket kniited for women korean style best seller jacket knit fashionable outfit for women hoodie jacket knit with zipper high quality ladies trendy casual wear knit jacket</td>\n",
       "      <td id=\"T_849e8_row4_col1\" class=\"data row4 col1\" >0.360115</td>\n",
       "      <td id=\"T_849e8_row4_col2\" class=\"data row4 col2\" >0.125000</td>\n",
       "      <td id=\"T_849e8_row4_col3\" class=\"data row4 col3\" >0.289581</td>\n",
       "    </tr>\n",
       "    <tr>\n",
       "      <th id=\"T_849e8_level0_row5\" class=\"row_heading level0 row5\" >5</th>\n",
       "      <td id=\"T_849e8_row5_col0\" class=\"data row5 col0\" >pullover pure cotton brass print sweatshirt for unisex</td>\n",
       "      <td id=\"T_849e8_row5_col1\" class=\"data row5 col1\" >0.209274</td>\n",
       "      <td id=\"T_849e8_row5_col2\" class=\"data row5 col2\" >0.071429</td>\n",
       "      <td id=\"T_849e8_row5_col3\" class=\"data row5 col3\" >0.167921</td>\n",
       "    </tr>\n",
       "    <tr>\n",
       "      <th id=\"T_849e8_level0_row6\" class=\"row_heading level0 row6\" >6</th>\n",
       "      <td id=\"T_849e8_row6_col0\" class=\"data row6 col0\" >plain women jacket sweater thick hood coat wzipper mxxl</td>\n",
       "      <td id=\"T_849e8_row6_col1\" class=\"data row6 col1\" >0.130426</td>\n",
       "      <td id=\"T_849e8_row6_col2\" class=\"data row6 col2\" >0.066667</td>\n",
       "      <td id=\"T_849e8_row6_col3\" class=\"data row6 col3\" >0.111298</td>\n",
       "    </tr>\n",
       "    <tr>\n",
       "      <th id=\"T_849e8_level0_row7\" class=\"row_heading level0 row7\" >7</th>\n",
       "      <td id=\"T_849e8_row7_col0\" class=\"data row7 col0\" >long sleeve turtle neck knit for women</td>\n",
       "      <td id=\"T_849e8_row7_col1\" class=\"data row7 col1\" >0.000000</td>\n",
       "      <td id=\"T_849e8_row7_col2\" class=\"data row7 col2\" >0.000000</td>\n",
       "      <td id=\"T_849e8_row7_col3\" class=\"data row7 col3\" >0.000000</td>\n",
       "    </tr>\n",
       "    <tr>\n",
       "      <th id=\"T_849e8_level0_row8\" class=\"row_heading level0 row8\" >8</th>\n",
       "      <td id=\"T_849e8_row8_col0\" class=\"data row8 col0\" >crop top long sleeve cotton sexy skinny casual fashion women clothe high waist sweater</td>\n",
       "      <td id=\"T_849e8_row8_col1\" class=\"data row8 col1\" >0.000000</td>\n",
       "      <td id=\"T_849e8_row8_col2\" class=\"data row8 col2\" >0.000000</td>\n",
       "      <td id=\"T_849e8_row8_col3\" class=\"data row8 col3\" >0.000000</td>\n",
       "    </tr>\n",
       "    <tr>\n",
       "      <th id=\"T_849e8_level0_row9\" class=\"row_heading level0 row9\" >9</th>\n",
       "      <td id=\"T_849e8_row9_col0\" class=\"data row9 col0\" >jshop women fashion strip clothe blouse thin long sleeve blouse</td>\n",
       "      <td id=\"T_849e8_row9_col1\" class=\"data row9 col1\" >0.000000</td>\n",
       "      <td id=\"T_849e8_row9_col2\" class=\"data row9 col2\" >0.000000</td>\n",
       "      <td id=\"T_849e8_row9_col3\" class=\"data row9 col3\" >0.000000</td>\n",
       "    </tr>\n",
       "  </tbody>\n",
       "</table>\n"
      ],
      "text/plain": [
       "<pandas.io.formats.style.Styler at 0x7fbef0ec8f10>"
      ]
     },
     "metadata": {},
     "output_type": "display_data"
    }
   ],
   "source": [
    "_ = lazada_diff_shop(10220)"
   ]
  },
  {
   "cell_type": "markdown",
   "id": "2c140949-1d61-47d5-bac9-a11d5ace663e",
   "metadata": {},
   "source": [
    "<hr>\n",
    "\n",
    "####  Recommendation from the same shops"
   ]
  },
  {
   "cell_type": "markdown",
   "id": "efe9e439-b086-4779-b33a-dceb9a3d9a85",
   "metadata": {},
   "source": [
    "Now looking at the same shop recommendations, using the product test 2, even the recommendations of Lazada within the same shop have 0 similarity scores."
   ]
  },
  {
   "cell_type": "code",
   "execution_count": 28,
   "id": "a841aa03-75f6-4451-8d14-8e4ea5af9e24",
   "metadata": {
    "execution": {
     "iopub.execute_input": "2023-12-06T14:40:19.467492Z",
     "iopub.status.busy": "2023-12-06T14:40:19.467271Z",
     "iopub.status.idle": "2023-12-06T14:40:19.488994Z",
     "shell.execute_reply": "2023-12-06T14:40:19.488315Z",
     "shell.execute_reply.started": "2023-12-06T14:40:19.467472Z"
    },
    "tags": []
   },
   "outputs": [
    {
     "name": "stdout",
     "output_type": "stream",
     "text": [
      "Target Product Information:\n"
     ]
    },
    {
     "data": {
      "text/html": [
       "<style type=\"text/css\">\n",
       "#T_cedc1 table {\n",
       "  margin: auto;\n",
       "}\n",
       "</style>\n",
       "<table id=\"T_cedc1\">\n",
       "  <thead>\n",
       "    <tr>\n",
       "      <th class=\"blank level0\" >&nbsp;</th>\n",
       "      <th id=\"T_cedc1_level0_col0\" class=\"col_heading level0 col0\" >Attribute</th>\n",
       "      <th id=\"T_cedc1_level0_col1\" class=\"col_heading level0 col1\" >Value</th>\n",
       "    </tr>\n",
       "  </thead>\n",
       "  <tbody>\n",
       "    <tr>\n",
       "      <th id=\"T_cedc1_level0_row0\" class=\"row_heading level0 row0\" >0</th>\n",
       "      <td id=\"T_cedc1_row0_col0\" class=\"data row0 col0\" >Name</td>\n",
       "      <td id=\"T_cedc1_row0_col1\" class=\"data row0 col1\" >womens sweatshirt with la vinyl print</td>\n",
       "    </tr>\n",
       "    <tr>\n",
       "      <th id=\"T_cedc1_level0_row1\" class=\"row_heading level0 row1\" >1</th>\n",
       "      <td id=\"T_cedc1_row1_col0\" class=\"data row1 col0\" >SKU</td>\n",
       "      <td id=\"T_cedc1_row1_col1\" class=\"data row1 col1\" >2393622729_PH</td>\n",
       "    </tr>\n",
       "    <tr>\n",
       "      <th id=\"T_cedc1_level0_row2\" class=\"row_heading level0 row2\" >2</th>\n",
       "      <td id=\"T_cedc1_row2_col0\" class=\"data row2 col0\" >Seller</td>\n",
       "      <td id=\"T_cedc1_row2_col1\" class=\"data row2 col1\" >K&K RTWs</td>\n",
       "    </tr>\n",
       "    <tr>\n",
       "      <th id=\"T_cedc1_level0_row3\" class=\"row_heading level0 row3\" >3</th>\n",
       "      <td id=\"T_cedc1_row3_col0\" class=\"data row3 col0\" >Category</td>\n",
       "      <td id=\"T_cedc1_row3_col1\" class=\"data row3 col1\" >womens_hoodies_sweatshirts</td>\n",
       "    </tr>\n",
       "  </tbody>\n",
       "</table>\n"
      ],
      "text/plain": [
       "<pandas.io.formats.style.Styler at 0x7fbef0eca800>"
      ]
     },
     "metadata": {},
     "output_type": "display_data"
    },
    {
     "name": "stdout",
     "output_type": "stream",
     "text": [
      "\n",
      "Top 5 Similar Products from the Same Shop:\n"
     ]
    },
    {
     "data": {
      "text/html": [
       "<style type=\"text/css\">\n",
       "#T_0ff49 table {\n",
       "  margin: auto;\n",
       "}\n",
       "</style>\n",
       "<table id=\"T_0ff49\">\n",
       "  <thead>\n",
       "    <tr>\n",
       "      <th class=\"blank level0\" >&nbsp;</th>\n",
       "      <th id=\"T_0ff49_level0_col0\" class=\"col_heading level0 col0\" >recommendation_same_shop</th>\n",
       "      <th id=\"T_0ff49_level0_col1\" class=\"col_heading level0 col1\" >cosine_similarity</th>\n",
       "      <th id=\"T_0ff49_level0_col2\" class=\"col_heading level0 col2\" >jaccard_similarity</th>\n",
       "      <th id=\"T_0ff49_level0_col3\" class=\"col_heading level0 col3\" >combined_similarity</th>\n",
       "    </tr>\n",
       "  </thead>\n",
       "  <tbody>\n",
       "    <tr>\n",
       "      <th id=\"T_0ff49_level0_row0\" class=\"row_heading level0 row0\" >0</th>\n",
       "      <td id=\"T_0ff49_row0_col0\" class=\"data row0 col0\" >vintage bomber crop top frame sl with vinyl print</td>\n",
       "      <td id=\"T_0ff49_row0_col1\" class=\"data row0 col1\" >0.507426</td>\n",
       "      <td id=\"T_0ff49_row0_col2\" class=\"data row0 col2\" >0.250000</td>\n",
       "      <td id=\"T_0ff49_row0_col3\" class=\"data row0 col3\" >0.430198</td>\n",
       "    </tr>\n",
       "    <tr>\n",
       "      <th id=\"T_0ff49_level0_row1\" class=\"row_heading level0 row1\" >1</th>\n",
       "      <td id=\"T_0ff49_row1_col0\" class=\"data row1 col0\" >unisex hoodie jacket free size fit to sl with ny vinyl print terry brass cotton</td>\n",
       "      <td id=\"T_0ff49_row1_col1\" class=\"data row1 col1\" >0.365358</td>\n",
       "      <td id=\"T_0ff49_row1_col2\" class=\"data row1 col2\" >0.166667</td>\n",
       "      <td id=\"T_0ff49_row1_col3\" class=\"data row1 col3\" >0.305751</td>\n",
       "    </tr>\n",
       "    <tr>\n",
       "      <th id=\"T_0ff49_level0_row2\" class=\"row_heading level0 row2\" >2</th>\n",
       "      <td id=\"T_0ff49_row2_col0\" class=\"data row2 col0\" >kid unisex bomber jacket with zipper yrs old</td>\n",
       "      <td id=\"T_0ff49_row2_col1\" class=\"data row2 col1\" >0.000000</td>\n",
       "      <td id=\"T_0ff49_row2_col2\" class=\"data row2 col2\" >0.076923</td>\n",
       "      <td id=\"T_0ff49_row2_col3\" class=\"data row2 col3\" >0.023077</td>\n",
       "    </tr>\n",
       "    <tr>\n",
       "      <th id=\"T_0ff49_level0_row3\" class=\"row_heading level0 row3\" >3</th>\n",
       "      <td id=\"T_0ff49_row3_col0\" class=\"data row3 col0\" >kid unisex hoodie jacketpant set with zipper yrs old</td>\n",
       "      <td id=\"T_0ff49_row3_col1\" class=\"data row3 col1\" >0.000000</td>\n",
       "      <td id=\"T_0ff49_row3_col2\" class=\"data row3 col2\" >0.071429</td>\n",
       "      <td id=\"T_0ff49_row3_col3\" class=\"data row3 col3\" >0.021429</td>\n",
       "    </tr>\n",
       "    <tr>\n",
       "      <th id=\"T_0ff49_level0_row4\" class=\"row_heading level0 row4\" >4</th>\n",
       "      <td id=\"T_0ff49_row4_col0\" class=\"data row4 col0\" >hoodie zipper knit jacket frame small to semi large</td>\n",
       "      <td id=\"T_0ff49_row4_col1\" class=\"data row4 col1\" >0.000000</td>\n",
       "      <td id=\"T_0ff49_row4_col2\" class=\"data row4 col2\" >0.000000</td>\n",
       "      <td id=\"T_0ff49_row4_col3\" class=\"data row4 col3\" >0.000000</td>\n",
       "    </tr>\n",
       "  </tbody>\n",
       "</table>\n"
      ],
      "text/plain": [
       "<pandas.io.formats.style.Styler at 0x7fbef0ec96f0>"
      ]
     },
     "metadata": {},
     "output_type": "display_data"
    }
   ],
   "source": [
    "_ = lazada_same_shop(11494)"
   ]
  },
  {
   "cell_type": "markdown",
   "id": "eb393965-4cae-4fc5-a209-0eedea434873",
   "metadata": {},
   "source": [
    "<hr>\n",
    "\n",
    "####  Recommender Score Comparison\n",
    "\n",
    "To easily see the difference of the similarity scores made by the LT and Lazada, dataframes of the combined scores were concatenated. Results are as follows: \n",
    "\n",
    "    Target product:\n",
    "\n",
    "<div style=\"text-align:left\">\n",
    "    \n",
    "| Attribute | Value                                           |\n",
    "|-----------|-------------------------------------------------|\n",
    "| Name      | Hoodie Jacket Mint with Statement Prints Long Sleeves |\n",
    "| SKU       | 3774982362_PH                                   |\n",
    "| Seller    | Samara Kloth Supplier                           |\n",
    "| Category  | Womens Hoodies Sweatshirts                      |\n",
    "| Attribute | Value                                           |\n",
    "\n",
    "</div>\n",
    "\n",
    "<br> \n",
    "\n",
    "<hr>\n",
    "\n",
    "##### Test: Recommendation from same shops"
   ]
  },
  {
   "cell_type": "code",
   "execution_count": 29,
   "id": "37c2cd48-9e76-42e1-8d73-d6f55aa16a6b",
   "metadata": {
    "execution": {
     "iopub.execute_input": "2023-12-06T14:40:19.489998Z",
     "iopub.status.busy": "2023-12-06T14:40:19.489779Z",
     "iopub.status.idle": "2023-12-06T14:40:19.531002Z",
     "shell.execute_reply": "2023-12-06T14:40:19.530357Z",
     "shell.execute_reply.started": "2023-12-06T14:40:19.489978Z"
    },
    "tags": []
   },
   "outputs": [],
   "source": [
    "# Code for comparing same shop recommendations.\n",
    "LTrecommender_same = recommender_same_shop(10220, True)\n",
    "Lazadarecommender_same = lazada_same_shop(10220, True)\n",
    "\n",
    "df1 = ['name', 'combined_similarity']  # Replace with actual column names\n",
    "df2 = ['recommendation_same_shop', 'combined_similarity']  # Replace with actual column names\n",
    "\n",
    "df1_selected = LTrecommender_same[df1]\n",
    "df2_selected = Lazadarecommender_same[df2]\n",
    "\n",
    "# Concatenate the selected columns vertically (along the rows)\n",
    "new_same_df = pd.concat([df1_selected, df2_selected], ignore_index=True, axis=1)\n",
    "c_names = ['Product Name', 'LT Recommender Score', 'Product Name',\n",
    "           'Lazada Recommender Score']\n",
    "\n",
    "new_same_df.columns = c_names"
   ]
  },
  {
   "cell_type": "code",
   "execution_count": 30,
   "id": "716de069-5109-44fe-956a-51721c58b9b6",
   "metadata": {
    "execution": {
     "iopub.execute_input": "2023-12-06T14:40:19.532074Z",
     "iopub.status.busy": "2023-12-06T14:40:19.531825Z",
     "iopub.status.idle": "2023-12-06T14:40:19.541941Z",
     "shell.execute_reply": "2023-12-06T14:40:19.540804Z",
     "shell.execute_reply.started": "2023-12-06T14:40:19.532051Z"
    },
    "tags": []
   },
   "outputs": [
    {
     "data": {
      "text/html": [
       "<div>\n",
       "<style scoped>\n",
       "    .dataframe tbody tr th:only-of-type {\n",
       "        vertical-align: middle;\n",
       "    }\n",
       "\n",
       "    .dataframe tbody tr th {\n",
       "        vertical-align: top;\n",
       "    }\n",
       "\n",
       "    .dataframe thead th {\n",
       "        text-align: right;\n",
       "    }\n",
       "</style>\n",
       "<table border=\"1\" class=\"dataframe\">\n",
       "  <thead>\n",
       "    <tr style=\"text-align: right;\">\n",
       "      <th></th>\n",
       "      <th>Product Name</th>\n",
       "      <th>LT Recommender Score</th>\n",
       "      <th>Product Name</th>\n",
       "      <th>Lazada Recommender Score</th>\n",
       "    </tr>\n",
       "  </thead>\n",
       "  <tbody>\n",
       "    <tr>\n",
       "      <th>0</th>\n",
       "      <td>mint hoodie jacket statement print hood longsl...</td>\n",
       "      <td>0.648575</td>\n",
       "      <td>panda hoodie jacket white print</td>\n",
       "      <td>0.594376</td>\n",
       "    </tr>\n",
       "    <tr>\n",
       "      <th>1</th>\n",
       "      <td>statement print hoodie jacket with print</td>\n",
       "      <td>0.589958</td>\n",
       "      <td>koreaan crophoodie jacket print</td>\n",
       "      <td>0.374779</td>\n",
       "    </tr>\n",
       "    <tr>\n",
       "      <th>2</th>\n",
       "      <td>hoodie jacket print</td>\n",
       "      <td>0.461147</td>\n",
       "      <td>newyork crophoodie jacket</td>\n",
       "      <td>0.222440</td>\n",
       "    </tr>\n",
       "    <tr>\n",
       "      <th>3</th>\n",
       "      <td>hoodie jacket print</td>\n",
       "      <td>0.461147</td>\n",
       "      <td>minimal print crophoodie</td>\n",
       "      <td>0.187103</td>\n",
       "    </tr>\n",
       "    <tr>\n",
       "      <th>4</th>\n",
       "      <td>hoodie jacket print</td>\n",
       "      <td>0.461147</td>\n",
       "      <td>pullover fashion sweatshirts with print</td>\n",
       "      <td>0.177012</td>\n",
       "    </tr>\n",
       "  </tbody>\n",
       "</table>\n",
       "</div>"
      ],
      "text/plain": [
       "                                        Product Name  LT Recommender Score  \\\n",
       "0  mint hoodie jacket statement print hood longsl...              0.648575   \n",
       "1           statement print hoodie jacket with print              0.589958   \n",
       "2                                hoodie jacket print              0.461147   \n",
       "3                                hoodie jacket print              0.461147   \n",
       "4                                hoodie jacket print              0.461147   \n",
       "\n",
       "                              Product Name  Lazada Recommender Score  \n",
       "0          panda hoodie jacket white print                  0.594376  \n",
       "1          koreaan crophoodie jacket print                  0.374779  \n",
       "2                newyork crophoodie jacket                  0.222440  \n",
       "3                 minimal print crophoodie                  0.187103  \n",
       "4  pullover fashion sweatshirts with print                  0.177012  "
      ]
     },
     "execution_count": 30,
     "metadata": {},
     "output_type": "execute_result"
    }
   ],
   "source": [
    "new_same_df"
   ]
  },
  {
   "cell_type": "markdown",
   "id": "8ee9b74b-578e-41e2-b57f-ae6887deff36",
   "metadata": {
    "tags": []
   },
   "source": [
    "Based on the result above, for same shop results, the LT recommender score has relatively higher values than the Lazada Recommender score. As mentioned earlier, Lazada recommender bases its recommendation on historical searches and not purely on similarity.\n",
    "\n",
    "For different shop recommendations, it can be seen that the LT recommender has better recommendations than the Lazada recommender score if only similarity is being taken into cosideration.\n",
    "\n",
    "<br>\n",
    "<hr>\n",
    "\n",
    "##### Test: Recommendation from different shops"
   ]
  },
  {
   "cell_type": "code",
   "execution_count": 31,
   "id": "57d4faad-cf6c-40ab-8c20-1757029c1b35",
   "metadata": {
    "execution": {
     "iopub.execute_input": "2023-12-06T14:40:19.543007Z",
     "iopub.status.busy": "2023-12-06T14:40:19.542757Z",
     "iopub.status.idle": "2023-12-06T14:40:19.714954Z",
     "shell.execute_reply": "2023-12-06T14:40:19.714171Z",
     "shell.execute_reply.started": "2023-12-06T14:40:19.542984Z"
    },
    "tags": []
   },
   "outputs": [],
   "source": [
    "LTrecommender_diff = recommender_diff_shop(10220, True)\n",
    "Lazadarecommender_diff = lazada_diff_shop(10220, True)\n",
    "\n",
    "df1 = ['name', 'combined_similarity']  # Replace with actual column names\n",
    "df2 = ['recommendation_diff_shop', 'combined_similarity']  # Replace with actual column names\n",
    "\n",
    "df1_selected = LTrecommender_diff[df1]\n",
    "df2_selected = Lazadarecommender_diff[df2]\n",
    "\n",
    "# Concatenate the selected columns vertically (along the rows)\n",
    "new_diff_df = pd.concat([df1_selected, df2_selected], ignore_index=True, axis=1)\n",
    "c_names = ['Product Name', 'LT Recommender Score', 'Product Name',\n",
    "           'Lazada Recommender Score']\n",
    "\n",
    "new_diff_df.columns = c_names"
   ]
  },
  {
   "cell_type": "code",
   "execution_count": 32,
   "id": "ee3712f3-de0d-400b-84b3-955386e60775",
   "metadata": {
    "execution": {
     "iopub.execute_input": "2023-12-06T14:40:19.716141Z",
     "iopub.status.busy": "2023-12-06T14:40:19.715879Z",
     "iopub.status.idle": "2023-12-06T14:40:19.726856Z",
     "shell.execute_reply": "2023-12-06T14:40:19.726116Z",
     "shell.execute_reply.started": "2023-12-06T14:40:19.716117Z"
    },
    "tags": []
   },
   "outputs": [
    {
     "data": {
      "text/html": [
       "<div>\n",
       "<style scoped>\n",
       "    .dataframe tbody tr th:only-of-type {\n",
       "        vertical-align: middle;\n",
       "    }\n",
       "\n",
       "    .dataframe tbody tr th {\n",
       "        vertical-align: top;\n",
       "    }\n",
       "\n",
       "    .dataframe thead th {\n",
       "        text-align: right;\n",
       "    }\n",
       "</style>\n",
       "<table border=\"1\" class=\"dataframe\">\n",
       "  <thead>\n",
       "    <tr style=\"text-align: right;\">\n",
       "      <th></th>\n",
       "      <th>Product Name</th>\n",
       "      <th>LT Recommender Score</th>\n",
       "      <th>Product Name</th>\n",
       "      <th>Lazada Recommender Score</th>\n",
       "    </tr>\n",
       "  </thead>\n",
       "  <tbody>\n",
       "    <tr>\n",
       "      <th>0</th>\n",
       "      <td>hoodie jacket vinyl print statement aesthetic ...</td>\n",
       "      <td>0.534053</td>\n",
       "      <td>skateboard frog hoodie women oversized cartoon...</td>\n",
       "      <td>0.392703</td>\n",
       "    </tr>\n",
       "    <tr>\n",
       "      <th>1</th>\n",
       "      <td>pullover longsleeves with print</td>\n",
       "      <td>0.508530</td>\n",
       "      <td>unisex hoodie jacket without zipper</td>\n",
       "      <td>0.372671</td>\n",
       "    </tr>\n",
       "    <tr>\n",
       "      <th>2</th>\n",
       "      <td>crophoodie jacket print longsleeves</td>\n",
       "      <td>0.495778</td>\n",
       "      <td>crop hoodie swagger girl print</td>\n",
       "      <td>0.356719</td>\n",
       "    </tr>\n",
       "    <tr>\n",
       "      <th>3</th>\n",
       "      <td>pullover longsleeves print</td>\n",
       "      <td>0.471030</td>\n",
       "      <td>unisex plain hoodie jacket mxxl</td>\n",
       "      <td>0.327642</td>\n",
       "    </tr>\n",
       "    <tr>\n",
       "      <th>4</th>\n",
       "      <td>pullover longsleeves print</td>\n",
       "      <td>0.471030</td>\n",
       "      <td>hoodie jacket kniited for women korean style b...</td>\n",
       "      <td>0.289581</td>\n",
       "    </tr>\n",
       "    <tr>\n",
       "      <th>5</th>\n",
       "      <td>pullover longsleeves print</td>\n",
       "      <td>0.471030</td>\n",
       "      <td>pullover pure cotton brass print sweatshirt fo...</td>\n",
       "      <td>0.167921</td>\n",
       "    </tr>\n",
       "    <tr>\n",
       "      <th>6</th>\n",
       "      <td>statement croptop pullover hoodie</td>\n",
       "      <td>0.468384</td>\n",
       "      <td>plain women jacket sweater thick hood coat wzi...</td>\n",
       "      <td>0.111298</td>\n",
       "    </tr>\n",
       "    <tr>\n",
       "      <th>7</th>\n",
       "      <td>trendy statement croptop pullover hoodie jacket</td>\n",
       "      <td>0.466445</td>\n",
       "      <td>long sleeve turtle neck knit for women</td>\n",
       "      <td>0.000000</td>\n",
       "    </tr>\n",
       "    <tr>\n",
       "      <th>8</th>\n",
       "      <td>trendy statement croptop pullover hoodie jacket</td>\n",
       "      <td>0.466445</td>\n",
       "      <td>crop top long sleeve cotton sexy skinny casual...</td>\n",
       "      <td>0.000000</td>\n",
       "    </tr>\n",
       "    <tr>\n",
       "      <th>9</th>\n",
       "      <td>trendy statement croptop pullover hoodie jacket</td>\n",
       "      <td>0.466445</td>\n",
       "      <td>jshop women fashion strip clothe blouse thin l...</td>\n",
       "      <td>0.000000</td>\n",
       "    </tr>\n",
       "  </tbody>\n",
       "</table>\n",
       "</div>"
      ],
      "text/plain": [
       "                                        Product Name  LT Recommender Score  \\\n",
       "0  hoodie jacket vinyl print statement aesthetic ...              0.534053   \n",
       "1                    pullover longsleeves with print              0.508530   \n",
       "2                crophoodie jacket print longsleeves              0.495778   \n",
       "3                         pullover longsleeves print              0.471030   \n",
       "4                         pullover longsleeves print              0.471030   \n",
       "5                         pullover longsleeves print              0.471030   \n",
       "6                  statement croptop pullover hoodie              0.468384   \n",
       "7    trendy statement croptop pullover hoodie jacket              0.466445   \n",
       "8    trendy statement croptop pullover hoodie jacket              0.466445   \n",
       "9    trendy statement croptop pullover hoodie jacket              0.466445   \n",
       "\n",
       "                                        Product Name  Lazada Recommender Score  \n",
       "0  skateboard frog hoodie women oversized cartoon...                  0.392703  \n",
       "1                unisex hoodie jacket without zipper                  0.372671  \n",
       "2                     crop hoodie swagger girl print                  0.356719  \n",
       "3                    unisex plain hoodie jacket mxxl                  0.327642  \n",
       "4  hoodie jacket kniited for women korean style b...                  0.289581  \n",
       "5  pullover pure cotton brass print sweatshirt fo...                  0.167921  \n",
       "6  plain women jacket sweater thick hood coat wzi...                  0.111298  \n",
       "7             long sleeve turtle neck knit for women                  0.000000  \n",
       "8  crop top long sleeve cotton sexy skinny casual...                  0.000000  \n",
       "9  jshop women fashion strip clothe blouse thin l...                  0.000000  "
      ]
     },
     "execution_count": 32,
     "metadata": {},
     "output_type": "execute_result"
    }
   ],
   "source": [
    "new_diff_df"
   ]
  },
  {
   "cell_type": "markdown",
   "id": "1f72d64a-3397-44e3-87e7-d348e1f6da3b",
   "metadata": {},
   "source": [
    "In validating the performance of the recommendation engine, the cohen's kappa will be applied. As mentioned, four members of the LT will be raters. Calculation of the cohen's kappa will be through the sklearn.metrics library utilizing the cohen_kappa_score function. The result of manual validation is exported below as a dataframe. Since Cohen's kappa is pairwise, all possible pair combinations were determined. A sample Cohen Kappa computation is seen below for Product test 1."
   ]
  },
  {
   "cell_type": "code",
   "execution_count": 33,
   "id": "b52b33a1-786c-4557-8585-962f879a6319",
   "metadata": {
    "execution": {
     "iopub.execute_input": "2023-12-06T14:40:19.727978Z",
     "iopub.status.busy": "2023-12-06T14:40:19.727728Z",
     "iopub.status.idle": "2023-12-06T14:40:19.747731Z",
     "shell.execute_reply": "2023-12-06T14:40:19.746979Z",
     "shell.execute_reply.started": "2023-12-06T14:40:19.727955Z"
    },
    "tags": []
   },
   "outputs": [
    {
     "name": "stdout",
     "output_type": "stream",
     "text": [
      "Cohen's Kappa between Rater 1 and Rater 2: 0.6153846153846154\n",
      "Cohen's Kappa between Rater 1 and Rater 3: 0.44444444444444453\n",
      "Cohen's Kappa between Rater 1 and Rater 4: 0.8\n",
      "Cohen's Kappa between Rater 2 and Rater 3: 0.7826086956521738\n",
      "Cohen's Kappa between Rater 2 and Rater 4: 0.8\n",
      "Cohen's Kappa between Rater 3 and Rater 4: 0.6\n"
     ]
    }
   ],
   "source": [
    "ck_scores = pd.read_csv('Cohen Kappa Rating.csv')\n",
    "\n",
    "ck_scores_test1diff = ck_scores.iloc[0:10, 2:6]\n",
    "\n",
    "ck_scores_test1same = ck_scores.iloc[10:15, 2:6]\n",
    "ck_scores_test2diff = ck_scores.iloc[15:25, 2:6]\n",
    "ck_scores_test2same = ck_scores.iloc[15:20, 2:6]\n",
    "\n",
    "rater1 = ck_scores_test1diff.iloc[:, 0]\n",
    "rater2 = ck_scores_test1diff.iloc[:, 1]\n",
    "rater3 = ck_scores_test1diff.iloc[:, 2]\n",
    "rater4 = ck_scores_test1diff.iloc[:, 3]\n",
    "\n",
    "all_ratings = [rater1, rater2, rater3, rater4]\n",
    "\n",
    "for i in range(len(all_ratings)):\n",
    "    for j in range(i + 1, len(all_ratings)):\n",
    "        kappa = cohen_kappa_score(all_ratings[i], all_ratings[j])\n",
    "        print(f\"Cohen's Kappa between Rater {i+1} and Rater {j+1}: {kappa}\")\n"
   ]
  },
  {
   "cell_type": "markdown",
   "id": "ee69db28-2c8d-4da5-b1ff-cb728763eb75",
   "metadata": {},
   "source": [
    "The Kappa values suggest that the raters generally agree with each other about the engine's recommendations. However, the level of agreement varies among the raters. Overall, it indicates a consistent alignment in the recommended choices."
   ]
  },
  {
   "cell_type": "markdown",
   "id": "FwXYgPq0hoQZ",
   "metadata": {
    "id": "FwXYgPq0hoQZ"
   },
   "source": [
    "<span style=\"display: block; height: 1px; border: 0; border-top: 10px solid #001DB1; margin: 1em 0; padding: 0;\"></span>\n",
    "\n",
    "# <span style=\"color:#FF4922; font-weight:bold\"> RECOMMENDATIONS </span>\n",
    "\n",
    "\n",
    "1) **Multi-Dimensional Product Matching**:\n",
    "Extend the study to incorporate multi-dimensional product matching, considering factors beyond textual features. Include image analysis, user-generated content, and product attributes to enhance the precision of recommendations, especially in visually-oriented product categories.\n",
    " \n",
    "2) **User Trust and Satisfaction Metrics**:\n",
    "Develop metrics to quantitatively measure user trust and satisfaction in e-commerce recommendation systems. Investigate how different recommendation strategies impact these metrics, providing insights into user perception and platform credibility.\n",
    " \n",
    "3) **Machine Learning Explainability**:\n",
    "Investigate methods to enhance the explainability of machine learning models used in recommendation engines. Address the \"black-box\" nature of some algorithms, providing users with insights into why specific recommendations are made and fostering transparency.\n",
    " \n",
    "4) **Personalization and Privacy Trade-offs**:\n",
    "Delve into the trade-offs between personalization and privacy in e-commerce recommendation systems. Analyze user attitudes towards data privacy and explore strategies to balance personalized recommendations with robust privacy safeguards.\n",
    "\n",
    "5) **Spelling Correction**:\n",
    "It is recommended to correct the spelling of words, since this will significantly improve the similarity scores of products.\n",
    "\n",
    "6) **Similarity Measures**:\n",
    "Other similarity measures may be considered to optimally show the likeness of datasets."
   ]
  },
  {
   "cell_type": "markdown",
   "id": "NXnMJlGdhvdH",
   "metadata": {
    "id": "NXnMJlGdhvdH"
   },
   "source": [
    "<span style=\"display: block; height: 1px; border: 0; border-top: 10px solid #001DB1; margin: 1em 0; padding: 0;\"></span>\n",
    "\n",
    "# <span style=\"color:#FF4922; font-weight:bold\"> CONCLUSION </span>\n",
    "\n",
    "The study focuses on addressing challenges in the e-commerce industry, particularly in refining recommendation engines to provide more \n",
    "precise, unbiased, and relevant results. While e-commerce platforms have become essential, challenges such as the filter bubble effect and \n",
    "biased recommendations impact user satisfaction and trust.\n",
    "\n",
    "It was found out that in terms of recommendation purely based on similarity, the LT recommendation engine has better similarity scores using the Cosine similarity and Jaccard distance.\n",
    "\n",
    "To fully increase the confidence in using similarity matching, it is either improve quality of data like error free inputs or improve pre-processing codes that will enable to clean and make-up for the errors or inaccuracies of the data.\n",
    "\n",
    "In this regard,Lazada, a prominent e-commerce platform, utilizes a recommendation engine strategy that considers visitor product histories. However, concerns about inaccuracies and biases in recommendations have been raised, wherein the LT believes that for inaccuracies and issues to be resolved a simple and straightforward approach might be the key.\n"
   ]
  },
  {
   "cell_type": "markdown",
   "id": "Ykza90zszGc5",
   "metadata": {
    "id": "Ykza90zszGc5"
   },
   "source": [
    "# References\n",
    "\n",
    "- Statista. \"Philippines: Usage of E-commerce from COVID-19 Lockdown 2020.\" Accessed November 30, 2023, https://www.statista.com/statistics/1225172/philippines-usage-e-commerce-covid-19-lockdown/\n",
    "\n",
    "- James Relativo, \"Ditching search engines, Southeast Asians look for products on e-commerce sites: Report,\" The Philippine Star, September 1, 2022, https://www.philstar.com/business/technology/2022/09/01/2206658/ditching-search-engines-southeast-asians-look-products-ecommerce-sites-report.\n",
    "\n",
    "- Seller Center Lazada Singapore. Product Search Findability. https://sellercenter.lazada.sg/seller/helpcenter/product-search-findability.html\n",
    "\n",
    "- Truhandito, Pandu. \"How You Can Like Lazada, ID, Blibli, and E-commerce Product Recommendations.\" https://www.linkedin.com/pulse/how-you-can-like-lazadaid-blibli-ecommerce-product-pandu-truhandito/\n",
    "\n",
    "- Zahrotun, Lisna. \"Comparison of Jaccard Similarity, Cosine Similarity, and Combined: Both of the Data Clustering with Shared Nearest Neighbor Method.\"\n",
    "\n",
    "\n",
    "- Title: Anyone getting creepy Lazada search recos?\n",
    "    URL: https://www.reddit.com/r/Philippines/comments/yf4k09/anyone_getting_creepy_lazada_search_recos/\n",
    "\n",
    "- Title: Bakit nirerecommend ito ng Lazada, it's so wrong!\n",
    "    URL: https://www.reddit.com/r/ShopeePH/comments/17srszu/bakit_nirerecommend_eto_ng_lazada_its_so_wrong/\n",
    "\n",
    "\n",
    "- Title: \"E-commerce User Experience: 9 Tips to Boost Your Online Store’s UX\"\n",
    "    Author: Tracey Wallace\n",
    "    URL: https://www.bigcommerce.com/blog/ecommerce-ux/\n",
    "\n",
    "\n",
    "- Title: \"User Experience & Its Impact on Revenue Growth\"\n",
    "    Author: Not specified\n",
    "    URL: https://www.divami.com/blog/user-experience-its-impact-on-revenue-growth"
   ]
  }
 ],
 "metadata": {
  "colab": {
   "provenance": [],
   "toc_visible": true
  },
  "kernelspec": {
   "display_name": "Python 3 (ipykernel)",
   "language": "python",
   "name": "python3"
  },
  "language_info": {
   "codemirror_mode": {
    "name": "ipython",
    "version": 3
   },
   "file_extension": ".py",
   "mimetype": "text/x-python",
   "name": "python",
   "nbconvert_exporter": "python",
   "pygments_lexer": "ipython3",
   "version": "3.10.12"
  }
 },
 "nbformat": 4,
 "nbformat_minor": 5
}
